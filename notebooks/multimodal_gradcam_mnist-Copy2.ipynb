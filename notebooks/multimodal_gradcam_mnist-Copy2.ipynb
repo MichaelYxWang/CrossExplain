{
 "cells": [
  {
   "cell_type": "code",
   "execution_count": 1,
   "metadata": {
    "id": "F6TYShLC5ydW"
   },
   "outputs": [],
   "source": [
    "# !pip install transformers"
   ]
  },
  {
   "cell_type": "code",
   "execution_count": 2,
   "metadata": {
    "id": "6sV60oWZ6DRC"
   },
   "outputs": [
    {
     "name": "stderr",
     "output_type": "stream",
     "text": [
      "/opt/anaconda3/envs/gradcam_env/lib/python3.6/site-packages/tqdm/auto.py:22: TqdmWarning: IProgress not found. Please update jupyter and ipywidgets. See https://ipywidgets.readthedocs.io/en/stable/user_install.html\n",
      "  from .autonotebook import tqdm as notebook_tqdm\n",
      "Using TensorFlow backend.\n"
     ]
    }
   ],
   "source": [
    "import os\n",
    "import json\n",
    "import matplotlib.pyplot as plt\n",
    "import cv2\n",
    "import shutil\n",
    "from PIL import Image\n",
    "import tqdm\n",
    "import numpy as np\n",
    "import pandas as pd\n",
    "import random\n",
    "\n",
    "import torch\n",
    "import torch.nn as nn\n",
    "from torch.utils.data import Dataset, DataLoader\n",
    "from torchvision import transforms\n",
    "import torch.nn.functional as F\n",
    "from torchvision.models import vgg19, resnet18, densenet161\n",
    "\n",
    "# import transformers\n",
    "# from transformers import BertModel, BertTokenizer\n",
    "# from torch.optim import AdamW, SGD, Adam\n",
    "\n",
    "from keras.preprocessing.text import Tokenizer\n",
    "from keras.preprocessing.sequence import pad_sequences\n",
    "\n",
    "import pickle"
   ]
  },
  {
   "cell_type": "code",
   "execution_count": 3,
   "metadata": {
    "id": "ynhiZiXF6MSf"
   },
   "outputs": [],
   "source": [
    "# Global Path Vairables\n",
    "ROOT_DIR =  \"../dataset/\"\n",
    "DATASET_DIR = ROOT_DIR"
   ]
  },
  {
   "cell_type": "code",
   "execution_count": 4,
   "metadata": {
    "id": "dy_UjPCWlvZs"
   },
   "outputs": [],
   "source": [
    "DEVICE = torch.device('cuda' if torch.cuda.is_available() else 'cpu')\n",
    "LEARNING_RATE = 2e-4 # 2e-4\n",
    "HIDDEN_DIM = 128 # 64\n",
    "N_LAYERS = 8 # 2\n",
    "EPOCHS = 60\n",
    "DROPOUT = 0.1\n",
    "BATCH_SIZE = 64 # 32"
   ]
  },
  {
   "cell_type": "code",
   "execution_count": 5,
   "metadata": {
    "id": "ml-LmAZi6-Qk"
   },
   "outputs": [],
   "source": [
    "def numpy_softmax(x):\n",
    "  \"\"\"Compute softmax values for each sets of scores in x.\"\"\"\n",
    "  e_x = np.exp(x - np.max(x))\n",
    "  return e_x / e_x.sum()"
   ]
  },
  {
   "cell_type": "code",
   "execution_count": 6,
   "metadata": {
    "id": "19TkLQizv0Hd"
   },
   "outputs": [],
   "source": [
    "class MultimodalMnistDataset(Dataset):\n",
    "  \"\"\"Dataset containing pairs of MNIST collaged images and text descriptions.\"\"\"\n",
    "  def __init__(self, images, texts, labels):\n",
    "    super(MultimodalMnistDataset, self).__init__()\n",
    "    self.images = [np.expand_dims(img.astype(np.float32) / 255, 0) for img in images]\n",
    "    self.texts = texts\n",
    "    self.labels = labels\n",
    "  \n",
    "  def __len__(self):\n",
    "    return len(self.labels)\n",
    "\n",
    "  def __getitem__(self, idx):\n",
    "    return self.images[idx], self.texts[idx], self.labels[idx]\n"
   ]
  },
  {
   "cell_type": "code",
   "execution_count": 7,
   "metadata": {
    "id": "ZI0JGHgD0gtI"
   },
   "outputs": [],
   "source": [
    "# dataset = pickle.load(open(DATASET_DIR + 'collaged_MNIST_maxpostext.p','rb'))\n",
    "dataset = pickle.load(open(DATASET_DIR + 'collaged_MNIST_multitasks.p','rb'))\n",
    "texts = [x for x in dataset[\"text\"]]\n",
    "tokenizer = Tokenizer()\n",
    "tokenizer.fit_on_texts(texts)\n",
    "\n",
    "tokenized_texts = tokenizer.texts_to_sequences(texts)\n",
    "tokenized_texts = pad_sequences(tokenized_texts, maxlen=20)\n",
    "mnist_dataset = MultimodalMnistDataset(dataset[\"image\"],\n",
    "                                      #  dataset[\"text\"],\n",
    "                                       tokenized_texts,\n",
    "                                       dataset[\"label\"])\n",
    "mnist_dataloader = DataLoader(mnist_dataset, batch_size=BATCH_SIZE)\n",
    "reverse_word_map = dict(map(reversed, tokenizer.word_index.items()))"
   ]
  },
  {
   "cell_type": "code",
   "execution_count": 8,
   "metadata": {
    "colab": {
     "base_uri": "https://localhost:8080/"
    },
    "id": "9-y0-tYEhuLI",
    "outputId": "9fc7d5da-3122-440a-8610-b4934157c8ca"
   },
   "outputs": [
    {
     "data": {
      "text/plain": [
       "{1: 'the',\n",
       " 2: 'number',\n",
       " 3: 'is',\n",
       " 4: 'at',\n",
       " 5: 'corner',\n",
       " 6: 'upper',\n",
       " 7: 'there',\n",
       " 8: 'in',\n",
       " 9: 'image',\n",
       " 10: 'left',\n",
       " 11: 'on',\n",
       " 12: 'half',\n",
       " 13: 'odd',\n",
       " 14: 'even',\n",
       " 15: 'are',\n",
       " 16: 's',\n",
       " 17: 'first',\n",
       " 18: 'right',\n",
       " 19: 'largest',\n",
       " 20: 'smallest',\n",
       " 21: 'bottom',\n",
       " 22: 'and',\n",
       " 23: '2',\n",
       " 24: 'no',\n",
       " 25: '3',\n",
       " 26: '1',\n",
       " 27: '4'}"
      ]
     },
     "execution_count": 8,
     "metadata": {},
     "output_type": "execute_result"
    }
   ],
   "source": [
    "reverse_word_map"
   ]
  },
  {
   "cell_type": "code",
   "execution_count": 9,
   "metadata": {
    "id": "Shgd7aA6iJgi"
   },
   "outputs": [],
   "source": [
    "class MultimodalMnistClassifier(nn.Module):\n",
    "  def __init__(self, vocab_size, embedding_dim, n_hidden, n_layers, n_out):\n",
    "    super(MultimodalMnistClassifier, self).__init__()\n",
    "    # LSTM\n",
    "    self.vocab_size, self.n_hidden, self.n_out, self.n_layers = vocab_size, n_hidden, n_out, n_layers\n",
    "    self.emb = nn.Embedding(vocab_size, embedding_dim)\n",
    "    self.emb.weight.requires_grad = True\n",
    "    self.lstm = nn.LSTM(embedding_dim, self.n_hidden, self.n_layers, dropout=0.2, batch_first=True)\n",
    "    self.dropout = nn.Dropout(0.1)\n",
    "    self.lstm_fc = nn.Linear(self.n_hidden, 128)\n",
    "\n",
    "    # CNN\n",
    "    self.conv1 = nn.Sequential(         \n",
    "            nn.Conv2d(\n",
    "                in_channels=1,              \n",
    "                out_channels=16,            \n",
    "                kernel_size=5,              \n",
    "                stride=1,                   \n",
    "                padding=2,                  \n",
    "            ),                              \n",
    "            nn.ReLU(),                      \n",
    "            nn.MaxPool2d(kernel_size=2),    \n",
    "        )\n",
    "    self.conv2 = nn.Sequential(         \n",
    "        nn.Conv2d(16, 32, 5, 1, 2),     \n",
    "        nn.ReLU(),                      \n",
    "        nn.MaxPool2d(2),                \n",
    "    )\n",
    "\n",
    "    self.conv3 = nn.Sequential(         \n",
    "        nn.Conv2d(32, 64, 5, 1, 2),     \n",
    "        nn.ReLU(),                      \n",
    "        nn.MaxPool2d(2),                \n",
    "    )\n",
    "\n",
    "    self.conv4 = nn.Sequential(         \n",
    "        nn.Conv2d(64, 32, 3, 1, 2),     \n",
    "        nn.ReLU(),                      \n",
    "        nn.MaxPool2d(2),                \n",
    "    )\n",
    "    # Concat\n",
    "    self.combined_fc = nn.Linear(640, 128)\n",
    "    self.output_fc = nn.Linear(128, n_out)\n",
    "\n",
    "    # placeholder for raw inputs\n",
    "    self.raw_image_input = None\n",
    "    self.raw_language_input = None\n",
    "    \n",
    "    # placeholder for the gradients\n",
    "    self.vision_gradients = None\n",
    "    self.language_gradients = None\n",
    "\n",
    "\n",
    "  def forward(self, cnn_inp, lstm_inp):\n",
    "    # CNN Branch\n",
    "    self.raw_image_input = cnn_inp.clone().detach().cpu().numpy()\n",
    "    x = self.conv1(cnn_inp)\n",
    "    x = self.conv2(x)\n",
    "    x = self.conv3(x)\n",
    "    x = self.conv4(x)\n",
    "    h_vision = x.register_hook(self.vision_activations_hook)\n",
    "    cnn_out = x.view(x.size(0), -1)\n",
    "    # LSTM Branch\n",
    "    self.raw_language_input = lstm_inp.clone().detach().cpu().numpy()\n",
    "    batch_size = lstm_inp.size(0)\n",
    "    hidden = self.init_hidden(batch_size)\n",
    "    lstm_inp = lstm_inp.long()\n",
    "    embeds = self.emb(lstm_inp)\n",
    "    h_language = embeds.register_hook(self.language_activations_hook)\n",
    "    lstm_out, hidden = self.lstm(embeds, hidden)\n",
    "    lstm_out = self.dropout(lstm_out[:, -1])\n",
    "    lstm_out = F.relu(self.lstm_fc(lstm_out))\n",
    "    # Combine two branches\n",
    "    combined_inp = torch.cat((cnn_out, lstm_out), 1)\n",
    "    x_comb = F.relu(self.combined_fc(combined_inp))\n",
    "    out = self.output_fc(x_comb)\n",
    "    return out\n",
    "\n",
    "  def init_hidden(self, batch_size):\n",
    "    weight = next(self.parameters()).data\n",
    "    hidden = (weight.new(self.n_layers, batch_size, self.n_hidden).zero_().to(DEVICE),\n",
    "                      weight.new(self.n_layers, batch_size, self.n_hidden).zero_().to(DEVICE))\n",
    "    return hidden\n",
    "\n",
    "  # hook for the gradients of the activations\n",
    "  def vision_activations_hook(self, grad):\n",
    "      self.vision_gradients = grad\n",
    "  \n",
    "  def language_activations_hook(self, grad):\n",
    "      self.language_gradients = grad\n",
    "  \n",
    "  def get_vision_gradient(self):\n",
    "      return self.vision_gradients\n",
    "\n",
    "  def get_language_gradient(self):\n",
    "    return self.language_gradients\n",
    "  \n",
    "   # method for the activation exctraction\n",
    "  def get_vision_activations(self, cnn_inp):\n",
    "      x = self.conv1(cnn_inp)\n",
    "      x = self.conv2(x)\n",
    "      x = self.conv3(x)\n",
    "      x = self.conv4(x)\n",
    "      return x.detach().cpu().numpy()\n",
    "  \n",
    "  def get_language_activations(self):\n",
    "    return self.raw_language_input\n",
    "\n",
    "  def get_raw_vision_input(self):\n",
    "    return self.raw_image_input\n",
    "\n",
    "  def get_raw_language_input(self):\n",
    "    return self.raw_language_input"
   ]
  },
  {
   "cell_type": "code",
   "execution_count": 10,
   "metadata": {
    "id": "G3KDI1NKk9E1"
   },
   "outputs": [],
   "source": [
    "model = MultimodalMnistClassifier(30, 100, HIDDEN_DIM, N_LAYERS, 1)\n",
    "model.to(DEVICE)\n",
    "criterion = nn.BCEWithLogitsLoss() # this means the sigmoid is INCORPORATED into the loss!!\n",
    "optimizer = torch.optim.Adam(model.parameters(), lr=LEARNING_RATE, weight_decay=1e-5)"
   ]
  },
  {
   "cell_type": "code",
   "execution_count": 11,
   "metadata": {
    "colab": {
     "base_uri": "https://localhost:8080/"
    },
    "id": "pvmjyNiBlSey",
    "outputId": "6670309a-6f2b-4b82-e418-65739bf5f4db"
   },
   "outputs": [],
   "source": [
    "# model.train()\n",
    "# for i in range(EPOCHS):\n",
    "#   total_acc_train = 0\n",
    "#   total_loss_train = 0\n",
    "\n",
    "#   for cnn, lstm, label in mnist_dataloader:\n",
    "#     lstm_inp, cnn_inp, label = lstm.to(DEVICE), cnn.to(DEVICE), label.to(DEVICE)\n",
    "#     model.zero_grad()\n",
    "#     output = model(cnn_inp, lstm_inp)\n",
    "#     loss = criterion(output.squeeze(), label.float())\n",
    "#     loss.backward()\n",
    "#     optimizer.step()\n",
    "#     with torch.no_grad():\n",
    "#       acc = torch.abs(torch.round(torch.sigmoid(output.squeeze())) - label.float()).view(-1)\n",
    "#       acc = (1. - acc.sum() / acc.size()[0])\n",
    "#       total_acc_train += acc.item()\n",
    "#       total_loss_train += loss.item()\n",
    "#   print(\"Epoch:\", i+1)\n",
    "#   print(\"Accuracy\", total_acc_train / len(mnist_dataloader))\n",
    "#   print(\"Loss\", total_loss_train / len(mnist_dataloader))\n"
   ]
  },
  {
   "cell_type": "code",
   "execution_count": 18,
   "metadata": {},
   "outputs": [
    {
     "data": {
      "text/plain": [
       "<All keys matched successfully>"
      ]
     },
     "execution_count": 18,
     "metadata": {},
     "output_type": "execute_result"
    }
   ],
   "source": [
    "# torch.save(model.state_dict(), ROOT_DIR + \"mnist.pt\")\n",
    "\n",
    "model = MultimodalMnistClassifier(30, 100, HIDDEN_DIM, N_LAYERS, 1)\n",
    "model.load_state_dict(torch.load(ROOT_DIR + \"mnist.pt\",map_location=torch.device('cpu')))"
   ]
  },
  {
   "cell_type": "markdown",
   "metadata": {
    "id": "h9Tig3JC3B1D"
   },
   "source": [
    "# Explainer"
   ]
  },
  {
   "cell_type": "code",
   "execution_count": 21,
   "metadata": {
    "id": "cKWPARDrmDRh"
   },
   "outputs": [
    {
     "data": {
      "image/png": "[encoded data removed]",
      "text/plain": [
       "<Figure size 432x288 with 3 Axes>"
      ]
     },
     "metadata": {
      "needs_background": "light"
     },
     "output_type": "display_data"
    },
    {
     "name": "stdout",
     "output_type": "stream",
     "text": [
      "Image label is 0\n",
      "Image text is The largest number is at the upper left corner.\n",
      "Prediction is 0.0 with confidence 0.9990259862388484\n",
      "Image text is The largest number is at the upper left corner.\n",
      "Corresponding Importance indicated by language gradient is [[nan nan nan nan nan nan nan nan nan nan nan nan nan nan nan nan nan nan\n",
      "  nan nan]]\n"
     ]
    },
    {
     "name": "stderr",
     "output_type": "stream",
     "text": [
      "/opt/anaconda3/envs/gradcam_env/lib/python3.6/site-packages/ipykernel_launcher.py:62: RuntimeWarning: invalid value encountered in true_divide\n"
     ]
    }
   ],
   "source": [
    "index = random.sample(list(range(len(dataset[\"label\"]))), 1)[0]\n",
    "image_bytes = dataset[\"image\"][index]\n",
    "\n",
    "cnn_inp = torch.from_numpy(np.expand_dims(np.expand_dims(image_bytes.astype(np.float32) / 255, 0), 0))\n",
    "cnn_inp = cnn_inp.to(DEVICE)\n",
    "lstm_inp = torch.from_numpy(np.expand_dims(tokenized_texts[index], 0))\n",
    "lstm_inp = lstm_inp.to(DEVICE)\n",
    "output = model(cnn_inp, lstm_inp)\n",
    "confidence = torch.sigmoid(output.squeeze()).detach().cpu().numpy().tolist()\n",
    "prediction = torch.round(torch.sigmoid(output.squeeze())).detach().cpu().numpy().tolist()\n",
    "if prediction == 0.0:\n",
    "  confidence = 1 - confidence\n",
    "\n",
    "output.backward()\n",
    "\n",
    "vision_gradients = model.get_vision_gradient()\n",
    "# pool the gradients across the channels, so that each channel have one gradient value\n",
    "pooled_vision_gradients = torch.mean(vision_gradients, dim=[0, 2, 3])\n",
    "pooled_vision_gradients_np = pooled_vision_gradients.detach().cpu().numpy()\n",
    "\n",
    "# get the activations of the last convolutional layer\n",
    "raw_vision_activations = model.get_vision_activations(cnn_inp)\n",
    "vision_activations = np.zeros(raw_vision_activations.shape)\n",
    "\n",
    "# weight the channels by corresponding gradients\n",
    "for i in range(vision_activations[0].shape[0]):\n",
    "  vision_activations[:, i, :, :] = raw_vision_activations[:, i, :, :] * pooled_vision_gradients_np[i]\n",
    "    \n",
    "# average the channels of the activations\n",
    "vision_heatmap = torch.mean(torch.from_numpy(vision_activations), axis=1).squeeze()\n",
    "\n",
    "# relu on top of the heatmap\n",
    "# expression (2) in https://arxiv.org/pdf/1610.02391.pdf\n",
    "vision_heatmap = np.maximum(vision_heatmap, 0)\n",
    "\n",
    "\n",
    "# normalize the heatmap\n",
    "vision_heatmap /= torch.max(vision_heatmap)\n",
    "\n",
    "# Plot heatmap together with the image from ORIGINAL RESOLUTION\n",
    "plot_image = cv2.merge((image_bytes, image_bytes, image_bytes))\n",
    "updated_vision_heatmap = cv2.resize(np.array(vision_heatmap), (plot_image.shape[1], plot_image.shape[0]))\n",
    "updated_vision_heatmap = np.uint8(255 * updated_vision_heatmap)\n",
    "updated_vision_heatmap = cv2.applyColorMap(updated_vision_heatmap, cv2.COLORMAP_JET)\n",
    "superimposed_img = updated_vision_heatmap * 0.5 + plot_image\n",
    "\n",
    "f = plt.figure()\n",
    "f.add_subplot(1, 3, 1)\n",
    "plt.imshow(plot_image)\n",
    "f.add_subplot(1, 3, 2)\n",
    "plt.imshow(updated_vision_heatmap)\n",
    "f.add_subplot(1, 3, 3)\n",
    "plt.imshow(superimposed_img / np.max(superimposed_img))\n",
    "plt.show(block=True)\n",
    "print(\"Image label is\", dataset[\"label\"][index])\n",
    "print(\"Image text is\", dataset[\"text\"][index])\n",
    "print(\"Prediction is\", prediction, \"with confidence\", confidence)\n",
    "\n",
    "language_gradients = model.get_language_gradient()\n",
    "pooled_language_gradients = torch.max(language_gradients, dim=2).values\n",
    "pooled_language_gradients_np = pooled_language_gradients.detach().cpu().numpy()\n",
    "pooled_language_gradients_np = numpy_softmax(pooled_language_gradients_np / max(pooled_language_gradients_np[0]))\n",
    "\n",
    "# Only two words, so this indicate the importance of each word\n",
    "print(\"Image text is\", dataset[\"text\"][index])\n",
    "print(\"Corresponding Importance indicated by language gradient is\", pooled_language_gradients_np)"
   ]
  },
  {
   "cell_type": "markdown",
   "metadata": {
    "id": "DEoVTMZ7snqY"
   },
   "source": [
    "# Mask Image"
   ]
  },
  {
   "cell_type": "code",
   "execution_count": 32,
   "metadata": {
    "id": "irmM73R4rg-O"
   },
   "outputs": [],
   "source": [
    "def mask_image(img,index_list):\n",
    "    masked = np.zeros(img.shape)\n",
    "    masked[:,:] = img\n",
    "    for index in index_list:\n",
    "        if index == 0:\n",
    "            masked[0:28,0:28]=0\n",
    "        elif index == 1:\n",
    "            masked[0:28,28:-1]=0\n",
    "        elif index == 2:\n",
    "            masked[28:56,0:28]=0\n",
    "        else:\n",
    "            masked[28:-1,28:-1]=0\n",
    "    return masked"
   ]
  },
  {
   "cell_type": "code",
   "execution_count": 44,
   "metadata": {
    "id": "P0U9PUuAh7af",
    "outputId": "c14e31ca-b1de-4521-adce-3b3d983520f2",
    "scrolled": true
   },
   "outputs": [
    {
     "name": "stdout",
     "output_type": "stream",
     "text": [
      "The largest number is on the bottom half.\n",
      "0\n"
     ]
    },
    {
     "data": {
      "image/png": "[encoded data removed]",
      "text/plain": [
       "<Figure size 432x288 with 1 Axes>"
      ]
     },
     "metadata": {
      "needs_background": "light"
     },
     "output_type": "display_data"
    },
    {
     "data": {
      "image/png": "[encoded data removed]",
      "text/plain": [
       "<Figure size 432x288 with 3 Axes>"
      ]
     },
     "metadata": {
      "needs_background": "light"
     },
     "output_type": "display_data"
    },
    {
     "name": "stdout",
     "output_type": "stream",
     "text": [
      "Image label is 0\n",
      "Image text is The largest number is on the bottom half.\n",
      "Prediction is 0.0 with confidence 0.5003795027732849\n",
      "Token is:  [ 0  0  0  0  0  0  0  0  0  0  0  0  1 19  2  3 11  1 21 12]\n",
      "Corresponding Importance indicated by language gradient is\n",
      "[-2.9133206e-13 -4.1888408e-13 -5.1676393e-13 -5.7648450e-13\n",
      " -6.0488420e-13 -5.8761221e-13 -4.5940254e-13 -2.2206832e-13\n",
      " -5.6074004e-13 -9.7254019e-13 -2.0240962e-12 -1.6534666e-12\n",
      " -1.5184387e-12 -9.1544133e-13 -1.5201517e-12 -1.3799826e-12\n",
      " -1.3230758e-12 -1.1066284e-12 -6.3775851e-13 -1.9237346e-13]\n"
     ]
    }
   ],
   "source": [
    "image_bytes = dataset[\"image\"][index]\n",
    "print(dataset['text'][index])\n",
    "print(dataset['label'][index])\n",
    "plt.imshow(image_bytes, cmap=plt.cm.gray)\n",
    "\n",
    "masked_img = mask_image(image_bytes,[1])\n",
    "plt.imshow(masked_img, cmap=plt.cm.gray)\n",
    "\n",
    "cnn_inp = torch.from_numpy(np.expand_dims(np.expand_dims(masked_img.astype(np.float32) / 255, 0), 0))\n",
    "cnn_inp = cnn_inp.to(DEVICE)\n",
    "lstm_inp = torch.from_numpy(np.expand_dims(tokenized_texts[index], 0))\n",
    "lstm_inp = lstm_inp.to(DEVICE)\n",
    "output = model(cnn_inp, lstm_inp)\n",
    "confidence = torch.sigmoid(output.squeeze()).detach().cpu().numpy().tolist()\n",
    "prediction = torch.round(torch.sigmoid(output.squeeze())).detach().cpu().numpy().tolist()\n",
    "if prediction == 0.0:\n",
    "  confidence = 1 - confidence\n",
    "output.backward()\n",
    "vision_gradients = model.get_vision_gradient()\n",
    "# pool the gradients across the channels, so that each channel have one gradient value\n",
    "pooled_vision_gradients = torch.mean(vision_gradients, dim=[0, 2, 3])\n",
    "pooled_vision_gradients_np = pooled_vision_gradients.detach().cpu().numpy()\n",
    "\n",
    "# get the activations of the last convolutional layer\n",
    "raw_vision_activations = model.get_vision_activations(cnn_inp)\n",
    "vision_activations = np.zeros(raw_vision_activations.shape)\n",
    "\n",
    "# weight the channels by corresponding gradients\n",
    "for i in range(vision_activations[0].shape[0]):\n",
    "  vision_activations[:, i, :, :] = raw_vision_activations[:, i, :, :] * pooled_vision_gradients_np[i]\n",
    "    \n",
    "# average the channels of the activations\n",
    "vision_heatmap = torch.mean(torch.from_numpy(vision_activations), axis=1).squeeze()\n",
    "\n",
    "# relu on top of the heatmap\n",
    "# expression (2) in https://arxiv.org/pdf/1610.02391.pdf\n",
    "vision_heatmap = np.maximum(vision_heatmap, 0)\n",
    "\n",
    "\n",
    "# normalize the heatmap\n",
    "vision_heatmap /= torch.max(vision_heatmap)\n",
    "# Plot heatmap together with the image from ORIGINAL RESOLUTION\n",
    "plot_image = cv2.merge((masked_img,masked_img,masked_img))\n",
    "updated_vision_heatmap = cv2.resize(np.array(vision_heatmap), (plot_image.shape[1], plot_image.shape[0]))\n",
    "updated_vision_heatmap = np.uint8(255 * updated_vision_heatmap)\n",
    "updated_vision_heatmap = cv2.applyColorMap(updated_vision_heatmap, cv2.COLORMAP_JET)\n",
    "superimposed_img = updated_vision_heatmap * 0.5 + plot_image\n",
    "\n",
    "f = plt.figure()\n",
    "f.add_subplot(1, 3, 1)\n",
    "plt.imshow(plot_image)\n",
    "f.add_subplot(1, 3, 2)\n",
    "plt.imshow(updated_vision_heatmap)\n",
    "f.add_subplot(1, 3, 3)\n",
    "plt.imshow(superimposed_img / np.max(superimposed_img))\n",
    "plt.show(block=True)\n",
    "print(\"Image label is\", dataset[\"label\"][index])\n",
    "print(\"Image text is\", dataset[\"text\"][index])\n",
    "print(\"Prediction is\", prediction, \"with confidence\", confidence)\n",
    "language_gradients = model.get_language_gradient()\n",
    "pooled_language_gradients = torch.mean(language_gradients, dim=2)\n",
    "pooled_language_gradients_np = pooled_language_gradients.detach().cpu().numpy()\n",
    "\n",
    "# Only two words, so this indicate the importance of each word\n",
    "# print(\"Image text is: \", dataset[\"text\"][index])\n",
    "print(\"Token is: \", tokenized_texts[index])\n",
    "print(\"Corresponding Importance indicated by language gradient is\")\n",
    "print(pooled_language_gradients_np[0])"
   ]
  },
  {
   "cell_type": "markdown",
   "metadata": {
    "id": "6IeINhGnsnqZ"
   },
   "source": [
    "# Mask Text"
   ]
  },
  {
   "cell_type": "code",
   "execution_count": 34,
   "metadata": {
    "id": "vnq2St31snqZ",
    "outputId": "01251bba-586d-4719-ad3a-145f27ef10ad"
   },
   "outputs": [
    {
     "name": "stdout",
     "output_type": "stream",
     "text": [
      "The largest number is on the bottom half.\n"
     ]
    }
   ],
   "source": [
    "image_bytes = dataset[\"image\"][index]\n",
    "text = dataset['text'][index]\n",
    "print(text)"
   ]
  },
  {
   "cell_type": "code",
   "execution_count": null,
   "metadata": {
    "id": "10-j_SlAsnqZ"
   },
   "outputs": [],
   "source": [
    "def mask_text(text, index_list):\n",
    "    print(text)\n",
    "    masked_text = np.zeros(text.shape)\n",
    "    masked_text[:] = text\n",
    "    for index in index_list:\n",
    "        masked_text[index] = 0\n",
    "    return masked_text"
   ]
  },
  {
   "cell_type": "code",
   "execution_count": null,
   "metadata": {
    "id": "jGjEZnF6snqZ",
    "outputId": "a64e315e-b74b-4053-e3cb-4b25ede6ff9f"
   },
   "outputs": [],
   "source": [
    "masked_text = mask_text(tokenized_texts[index], [13])\n",
    "print(dataset['label'][index])\n",
    "print(\"masked text: \", masked_text)\n",
    "plt.imshow(image_bytes, cmap=plt.cm.gray)"
   ]
  },
  {
   "cell_type": "code",
   "execution_count": 43,
   "metadata": {
    "id": "TL4aegsDsnqa"
   },
   "outputs": [
    {
     "name": "stderr",
     "output_type": "stream",
     "text": [
      "Clipping input data to the valid range for imshow with RGB data ([0..1] for floats or [0..255] for integers).\n"
     ]
    },
    {
     "data": {
      "image/png": "[encoded data removed]",
      "text/plain": [
       "<Figure size 432x288 with 3 Axes>"
      ]
     },
     "metadata": {
      "needs_background": "light"
     },
     "output_type": "display_data"
    },
    {
     "name": "stdout",
     "output_type": "stream",
     "text": [
      "Image label is 0\n",
      "Image text is The largest number is on the bottom half.\n",
      "Prediction is 0.0 with confidence 0.5010689795017242\n",
      "Token is:  [ 0  0  0  0  0  0  0  0  0  0  0  0  1 19  2  3 11  1 21 12]\n",
      "Corresponding Importance indicated by language gradient is\n",
      "[-3.9595524e-14 -1.1202020e-14 -4.9557919e-14 -5.7632461e-14\n",
      " -4.8860577e-14 -1.2987650e-13 -2.2593299e-13 -4.6798904e-13\n",
      " -6.5686719e-13 -6.2073415e-13 -5.6686502e-13 -4.7631560e-13\n",
      " -8.5023476e-13 -1.1826503e-12 -1.2318149e-12 -1.1256330e-12\n",
      " -1.1113291e-12 -4.4320461e-13 -5.5216546e-14 -3.1896798e-14]\n"
     ]
    }
   ],
   "source": [
    "cnn_inp = torch.from_numpy(np.expand_dims(np.expand_dims(image_bytes.astype(np.float32) / 255, 0), 0))\n",
    "cnn_inp = cnn_inp.to(DEVICE)\n",
    "lstm_inp = torch.from_numpy(np.expand_dims(masked_text, 0))\n",
    "lstm_inp = lstm_inp.to(DEVICE)\n",
    "output = model(cnn_inp, lstm_inp)\n",
    "confidence = torch.sigmoid(output.squeeze()).detach().cpu().numpy().tolist()\n",
    "prediction = torch.round(torch.sigmoid(output.squeeze())).detach().cpu().numpy().tolist()\n",
    "if prediction == 0.0:\n",
    "  confidence = 1 - confidence\n",
    "\n",
    "output.backward()\n",
    "\n",
    "vision_gradients = model.get_vision_gradient()\n",
    "# pool the gradients across the channels, so that each channel have one gradient value\n",
    "pooled_vision_gradients = torch.mean(vision_gradients, dim=[0, 2, 3])\n",
    "pooled_vision_gradients_np = pooled_vision_gradients.detach().cpu().numpy()\n",
    "\n",
    "# get the activations of the last convolutional layer\n",
    "raw_vision_activations = model.get_vision_activations(cnn_inp)\n",
    "vision_activations = np.zeros(raw_vision_activations.shape)\n",
    "\n",
    "# weight the channels by corresponding gradients\n",
    "for i in range(vision_activations[0].shape[0]):\n",
    "  vision_activations[:, i, :, :] = raw_vision_activations[:, i, :, :] * pooled_vision_gradients_np[i]\n",
    "    \n",
    "# average the channels of the activations\n",
    "vision_heatmap = torch.mean(torch.from_numpy(vision_activations), axis=1).squeeze()\n",
    "\n",
    "# relu on top of the heatmap\n",
    "# expression (2) in https://arxiv.org/pdf/1610.02391.pdf\n",
    "vision_heatmap = np.maximum(vision_heatmap, 0)\n",
    "\n",
    "\n",
    "# normalize the heatmap\n",
    "vision_heatmap /= torch.max(vision_heatmap)\n",
    "# Plot heatmap together with the image from ORIGINAL RESOLUTION\n",
    "plot_image = cv2.merge((image_bytes,image_bytes,image_bytes))\n",
    "updated_vision_heatmap = cv2.resize(np.array(vision_heatmap), (plot_image.shape[1], plot_image.shape[0]))\n",
    "updated_vision_heatmap = np.uint8(255 * updated_vision_heatmap)\n",
    "updated_vision_heatmap = cv2.applyColorMap(updated_vision_heatmap, cv2.COLORMAP_JET)\n",
    "superimposed_img = updated_vision_heatmap * 0.5 + plot_image\n",
    "\n",
    "f = plt.figure()\n",
    "f.add_subplot(1, 3, 1)\n",
    "plt.imshow(plot_image)\n",
    "f.add_subplot(1, 3, 2)\n",
    "plt.imshow(updated_vision_heatmap)\n",
    "f.add_subplot(1, 3, 3)\n",
    "plt.imshow(superimposed_img / np.max(superimposed_img))\n",
    "plt.show(block=True)\n",
    "print(\"Image label is\", dataset[\"label\"][index])\n",
    "print(\"Image text is\", dataset[\"text\"][index])\n",
    "print(\"Prediction is\", prediction, \"with confidence\", confidence)\n",
    "language_gradients = model.get_language_gradient()\n",
    "pooled_language_gradients = torch.mean(language_gradients, dim=2)\n",
    "pooled_language_gradients_np = pooled_language_gradients.detach().cpu().numpy()\n",
    "\n",
    "# Only two words, so this indicate the importance of each word\n",
    "# print(\"Image text is: \", dataset[\"text\"][index])\n",
    "print(\"Token is: \", masked_text)\n",
    "print(\"Corresponding Importance indicated by language gradient is\")\n",
    "print(pooled_language_gradients_np[0])"
   ]
  },
  {
   "cell_type": "code",
   "execution_count": null,
   "metadata": {
    "id": "stG9xDtdsnqa"
   },
   "outputs": [],
   "source": []
  },
  {
   "cell_type": "code",
   "execution_count": null,
   "metadata": {},
   "outputs": [],
   "source": []
  }
 ],
 "metadata": {
  "accelerator": "GPU",
  "colab": {
   "collapsed_sections": [],
   "name": "multimodal-gradcam-mnist.ipynb",
   "provenance": []
  },
  "kernelspec": {
   "display_name": "Python 3",
   "language": "python",
   "name": "python3"
  },
  "language_info": {
   "codemirror_mode": {
    "name": "ipython",
    "version": 3
   },
   "file_extension": ".py",
   "mimetype": "text/x-python",
   "name": "python",
   "nbconvert_exporter": "python",
   "pygments_lexer": "ipython3",
   "version": "3.6.13"
  }
 },
 "nbformat": 4,
 "nbformat_minor": 1
}
