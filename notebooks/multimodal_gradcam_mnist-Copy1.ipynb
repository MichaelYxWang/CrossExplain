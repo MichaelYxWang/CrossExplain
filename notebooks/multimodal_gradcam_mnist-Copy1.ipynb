{
 "cells": [
  {
   "cell_type": "code",
   "execution_count": 1,
   "metadata": {
    "colab": {
     "base_uri": "https://localhost:8080/"
    },
    "id": "F6TYShLC5ydW",
    "outputId": "4d089da5-261d-43f6-bfa1-4a4485e66ce9"
   },
   "outputs": [
    {
     "name": "stdout",
     "output_type": "stream",
     "text": [
      "Requirement already satisfied: transformers in /opt/anaconda3/lib/python3.9/site-packages (4.18.0)\n",
      "Requirement already satisfied: requests in /opt/anaconda3/lib/python3.9/site-packages (from transformers) (2.26.0)\n",
      "Requirement already satisfied: regex!=2019.12.17 in /opt/anaconda3/lib/python3.9/site-packages (from transformers) (2021.8.3)\n",
      "Requirement already satisfied: filelock in /opt/anaconda3/lib/python3.9/site-packages (from transformers) (3.3.1)\n",
      "Requirement already satisfied: packaging>=20.0 in /opt/anaconda3/lib/python3.9/site-packages (from transformers) (21.0)\n",
      "Requirement already satisfied: sacremoses in /opt/anaconda3/lib/python3.9/site-packages (from transformers) (0.0.49)\n",
      "Requirement already satisfied: huggingface-hub<1.0,>=0.1.0 in /opt/anaconda3/lib/python3.9/site-packages (from transformers) (0.5.1)\n",
      "Requirement already satisfied: numpy>=1.17 in /opt/anaconda3/lib/python3.9/site-packages (from transformers) (1.20.3)\n",
      "Requirement already satisfied: pyyaml>=5.1 in /opt/anaconda3/lib/python3.9/site-packages (from transformers) (6.0)\n",
      "Requirement already satisfied: tokenizers!=0.11.3,<0.13,>=0.11.1 in /opt/anaconda3/lib/python3.9/site-packages (from transformers) (0.12.1)\n",
      "Requirement already satisfied: tqdm>=4.27 in /opt/anaconda3/lib/python3.9/site-packages (from transformers) (4.62.3)\n",
      "Requirement already satisfied: typing-extensions>=3.7.4.3 in /opt/anaconda3/lib/python3.9/site-packages (from huggingface-hub<1.0,>=0.1.0->transformers) (3.10.0.2)\n",
      "Requirement already satisfied: pyparsing>=2.0.2 in /opt/anaconda3/lib/python3.9/site-packages (from packaging>=20.0->transformers) (3.0.4)\n",
      "Requirement already satisfied: urllib3<1.27,>=1.21.1 in /opt/anaconda3/lib/python3.9/site-packages (from requests->transformers) (1.26.7)\n",
      "Requirement already satisfied: certifi>=2017.4.17 in /opt/anaconda3/lib/python3.9/site-packages (from requests->transformers) (2021.10.8)\n",
      "Requirement already satisfied: idna<4,>=2.5 in /opt/anaconda3/lib/python3.9/site-packages (from requests->transformers) (3.2)\n",
      "Requirement already satisfied: charset-normalizer~=2.0.0 in /opt/anaconda3/lib/python3.9/site-packages (from requests->transformers) (2.0.4)\n",
      "Requirement already satisfied: six in /opt/anaconda3/lib/python3.9/site-packages (from sacremoses->transformers) (1.16.0)\n",
      "Requirement already satisfied: click in /opt/anaconda3/lib/python3.9/site-packages (from sacremoses->transformers) (8.0.3)\n",
      "Requirement already satisfied: joblib in /opt/anaconda3/lib/python3.9/site-packages (from sacremoses->transformers) (1.1.0)\n"
     ]
    }
   ],
   "source": [
    "!pip install transformers"
   ]
  },
  {
   "cell_type": "code",
   "execution_count": 107,
   "metadata": {
    "id": "6sV60oWZ6DRC"
   },
   "outputs": [],
   "source": [
    "import os\n",
    "import json\n",
    "import matplotlib.pyplot as plt\n",
    "import cv2\n",
    "import shutil\n",
    "from PIL import Image\n",
    "import tqdm\n",
    "import numpy as np\n",
    "import pandas as pd\n",
    "import random\n",
    "\n",
    "import torch\n",
    "import torch.nn as nn\n",
    "from torch.utils.data import Dataset, DataLoader\n",
    "from torchvision import transforms\n",
    "import torch.nn.functional as F\n",
    "from torchvision.models import vgg19, resnet18, densenet161\n",
    "\n",
    "import transformers\n",
    "from transformers import BertModel, BertTokenizer\n",
    "from torch.optim import AdamW, SGD, Adam\n",
    "\n",
    "from keras.preprocessing.text import Tokenizer\n",
    "from keras.preprocessing.sequence import pad_sequences\n",
    "\n",
    "import pickle"
   ]
  },
  {
   "cell_type": "code",
   "execution_count": 108,
   "metadata": {
    "id": "ynhiZiXF6MSf"
   },
   "outputs": [],
   "source": [
    "# Global Path Vairables\n",
    "ROOT_DIR =  \"../Dataset/\"\n",
    "DATASET_DIR = ROOT_DIR"
   ]
  },
  {
   "cell_type": "code",
   "execution_count": 109,
   "metadata": {
    "id": "dy_UjPCWlvZs"
   },
   "outputs": [],
   "source": [
    "DEVICE = torch.device('cuda' if torch.cuda.is_available() else 'cpu')\n",
    "LEARNING_RATE = 2e-4 # 2e-4\n",
    "HIDDEN_DIM = 128 # 64\n",
    "N_LAYERS = 8 # 2\n",
    "EPOCHS = 60\n",
    "DROPOUT = 0.1\n",
    "BATCH_SIZE = 64 # 32"
   ]
  },
  {
   "cell_type": "code",
   "execution_count": 110,
   "metadata": {
    "id": "19TkLQizv0Hd"
   },
   "outputs": [],
   "source": [
    "class MultimodalMnistDataset(Dataset):\n",
    "  \"\"\"Dataset containing pairs of MNIST collaged images and text descriptions.\"\"\"\n",
    "  def __init__(self, images, texts, labels):\n",
    "    super(MultimodalMnistDataset, self).__init__()\n",
    "    self.images = [np.expand_dims(img.astype(np.float32) / 255, 0) for img in images]\n",
    "    self.texts = texts\n",
    "    self.labels = labels\n",
    "  \n",
    "  def __len__(self):\n",
    "    return len(self.labels)\n",
    "\n",
    "  def __getitem__(self, idx):\n",
    "    return self.images[idx], self.texts[idx], self.labels[idx]\n"
   ]
  },
  {
   "cell_type": "code",
   "execution_count": 111,
   "metadata": {
    "id": "ZI0JGHgD0gtI"
   },
   "outputs": [],
   "source": [
    "# texts = [\" \".join(list(map(str, x.tolist()))) for x in dataset[\"text\"]]\n",
    "dataset = pickle.load(open(DATASET_DIR + 'collaged_MNIST_multitasks.p','rb'))\n",
    "texts = [x for x in dataset[\"text\"]]\n",
    "tokenizer = Tokenizer()\n",
    "tokenizer.fit_on_texts(texts)\n",
    "\n",
    "tokenized_texts = tokenizer.texts_to_sequences(texts)\n",
    "tokenized_texts = pad_sequences(tokenized_texts, maxlen=20)\n",
    "mnist_dataset = MultimodalMnistDataset(dataset[\"image\"],\n",
    "                                      #  dataset[\"text\"],\n",
    "                                       tokenized_texts,\n",
    "                                       dataset[\"label\"])\n",
    "mnist_dataloader = DataLoader(mnist_dataset, batch_size=BATCH_SIZE)\n",
    "reverse_word_map = dict(map(reversed, tokenizer.word_index.items()))"
   ]
  },
  {
   "cell_type": "code",
   "execution_count": 112,
   "metadata": {
    "colab": {
     "base_uri": "https://localhost:8080/"
    },
    "id": "9-y0-tYEhuLI",
    "outputId": "7aeac56f-28cc-4409-c6ba-fb4bca209a9f"
   },
   "outputs": [
    {
     "data": {
      "text/plain": [
       "{1: 'the',\n",
       " 2: 'number',\n",
       " 3: 'is',\n",
       " 4: 'at',\n",
       " 5: 'corner',\n",
       " 6: 'upper',\n",
       " 7: 'there',\n",
       " 8: 'in',\n",
       " 9: 'image',\n",
       " 10: 'left',\n",
       " 11: 'on',\n",
       " 12: 'half',\n",
       " 13: 'odd',\n",
       " 14: 'even',\n",
       " 15: 'are',\n",
       " 16: 's',\n",
       " 17: 'first',\n",
       " 18: 'right',\n",
       " 19: 'largest',\n",
       " 20: 'smallest',\n",
       " 21: 'bottom',\n",
       " 22: 'and',\n",
       " 23: '2',\n",
       " 24: 'no',\n",
       " 25: '3',\n",
       " 26: '1',\n",
       " 27: '4'}"
      ]
     },
     "execution_count": 112,
     "metadata": {},
     "output_type": "execute_result"
    }
   ],
   "source": [
    "reverse_word_map"
   ]
  },
  {
   "cell_type": "code",
   "execution_count": 113,
   "metadata": {
    "id": "G3KDI1NKk9E1"
   },
   "outputs": [],
   "source": [
    "model = MultimodalMnistClassifier(30, 300, HIDDEN_DIM, N_LAYERS, 1)\n",
    "model.to(DEVICE)\n",
    "criterion = nn.BCEWithLogitsLoss() # this means the sigmoid is INCORPORATED into the loss!!\n",
    "optimizer = torch.optim.Adam(model.parameters(), lr=LEARNING_RATE, weight_decay=1e-5)"
   ]
  },
  {
   "cell_type": "code",
   "execution_count": 114,
   "metadata": {
    "id": "Shgd7aA6iJgi"
   },
   "outputs": [],
   "source": [
    "class MultimodalMnistClassifier(nn.Module):\n",
    "  def __init__(self, vocab_size, embedding_dim, n_hidden, n_layers, n_out):\n",
    "    super(MultimodalMnistClassifier, self).__init__()\n",
    "    # LSTM\n",
    "    self.vocab_size, self.n_hidden, self.n_out, self.n_layers = vocab_size, n_hidden, n_out, n_layers\n",
    "    self.emb = nn.Embedding(vocab_size, embedding_dim)\n",
    "    self.emb.weight.requires_grad = True\n",
    "    self.lstm = nn.LSTM(embedding_dim, self.n_hidden, self.n_layers, dropout=0.2, batch_first=True)\n",
    "    self.dropout = nn.Dropout(0.1)\n",
    "    self.lstm_fc = nn.Linear(self.n_hidden, 128)\n",
    "\n",
    "    # CNN\n",
    "    self.conv1 = nn.Sequential(         \n",
    "            nn.Conv2d(\n",
    "                in_channels=1,              \n",
    "                out_channels=16,            \n",
    "                kernel_size=5,              \n",
    "                stride=1,                   \n",
    "                padding=2,                  \n",
    "            ),                              \n",
    "            nn.ReLU(),                      \n",
    "            nn.MaxPool2d(kernel_size=2),    \n",
    "        )\n",
    "    self.conv2 = nn.Sequential(         \n",
    "        nn.Conv2d(16, 32, 5, 1, 2),     \n",
    "        nn.ReLU(),                      \n",
    "        nn.MaxPool2d(2),                \n",
    "    )\n",
    "\n",
    "    self.conv3 = nn.Sequential(         \n",
    "        nn.Conv2d(32, 64, 5, 1, 2),     \n",
    "        nn.ReLU(),                      \n",
    "        nn.MaxPool2d(2),                \n",
    "    )\n",
    "\n",
    "    self.conv4 = nn.Sequential(         \n",
    "        nn.Conv2d(64, 32, 3, 1, 2),     \n",
    "        nn.ReLU(),                      \n",
    "        nn.MaxPool2d(2),                \n",
    "    )\n",
    "    # Concat\n",
    "    self.combined_fc = nn.Linear(640, 128)\n",
    "    self.output_fc = nn.Linear(128, n_out)\n",
    "\n",
    "    # placeholder for raw inputs\n",
    "    self.raw_image_input = None\n",
    "    self.raw_language_input = None\n",
    "    \n",
    "    # placeholder for the gradients\n",
    "    self.vision_gradients = None\n",
    "    self.language_gradients = None\n",
    "\n",
    "\n",
    "  def forward(self, cnn_inp, lstm_inp):\n",
    "    # CNN Branch\n",
    "    self.raw_image_input = cnn_inp.clone().detach().cpu().numpy()\n",
    "    x = self.conv1(cnn_inp)\n",
    "    x = self.conv2(x)\n",
    "    x = self.conv3(x)\n",
    "    x = self.conv4(x)\n",
    "    h_vision = x.register_hook(self.vision_activations_hook)\n",
    "    cnn_out = x.view(x.size(0), -1)\n",
    "    # LSTM Branch\n",
    "    self.raw_language_input = lstm_inp.clone().detach().cpu().numpy()\n",
    "    batch_size = lstm_inp.size(0)\n",
    "    hidden = self.init_hidden(batch_size)\n",
    "    lstm_inp = lstm_inp.long()\n",
    "    embeds = self.emb(lstm_inp)\n",
    "    lstm_out, hidden = self.lstm(embeds, hidden)\n",
    "    h_language = lstm_out.register_hook(self.language_activations_hook)\n",
    "    lstm_out = self.dropout(lstm_out[:, -1])\n",
    "    lstm_out = F.relu(self.lstm_fc(lstm_out))\n",
    "    # Combine two branches\n",
    "    combined_inp = torch.cat((cnn_out, lstm_out), 1)\n",
    "    x_comb = F.relu(self.combined_fc(combined_inp))\n",
    "    out = self.output_fc(x_comb)\n",
    "    return out\n",
    "\n",
    "  def init_hidden(self, batch_size):\n",
    "    weight = next(self.parameters()).data\n",
    "    hidden = (weight.new(self.n_layers, batch_size, self.n_hidden).zero_().to(DEVICE),\n",
    "                      weight.new(self.n_layers, batch_size, self.n_hidden).zero_().to(DEVICE))\n",
    "    return hidden\n",
    "\n",
    "  # hook for the gradients of the activations\n",
    "  def vision_activations_hook(self, grad):\n",
    "      self.vision_gradients = grad\n",
    "  \n",
    "  def language_activations_hook(self, grad):\n",
    "      self.language_gradients = grad\n",
    "  \n",
    "  def get_vision_gradient(self):\n",
    "      return self.vision_gradients\n",
    "\n",
    "  def get_language_gradient(self):\n",
    "    return self.language_gradients\n",
    "  \n",
    "   # method for the activation exctraction\n",
    "  def get_vision_activations(self, cnn_inp):\n",
    "      x = self.conv1(cnn_inp)\n",
    "      x = self.conv2(x)\n",
    "      x = self.conv3(x)\n",
    "      x = self.conv4(x)\n",
    "      return x.detach().cpu().numpy()\n",
    "  \n",
    "  def get_language_activations(self):\n",
    "    return self.raw_language_input\n",
    "\n",
    "  def get_raw_vision_input(self):\n",
    "    return self.raw_image_input\n",
    "\n",
    "  def get_raw_language_input(self):\n",
    "    return self.raw_language_input"
   ]
  },
  {
   "cell_type": "code",
   "execution_count": 115,
   "metadata": {
    "colab": {
     "base_uri": "https://localhost:8080/"
    },
    "id": "pvmjyNiBlSey",
    "outputId": "a5f7c079-eaf9-42f1-b80a-fac18cb76d64"
   },
   "outputs": [
    {
     "name": "stdout",
     "output_type": "stream",
     "text": [
      "Epoch: 1\n",
      "Accuracy 0.49325\n",
      "Loss 0.6933889784812928\n",
      "Epoch: 2\n",
      "Accuracy 0.496375\n",
      "Loss 0.6932236323356629\n",
      "Epoch: 3\n",
      "Accuracy 0.497875\n",
      "Loss 0.6932014026641846\n",
      "Epoch: 4\n",
      "Accuracy 0.5015\n",
      "Loss 0.6931760296821594\n",
      "Epoch: 5\n",
      "Accuracy 0.499875\n",
      "Loss 0.6931315507888794\n",
      "Epoch: 6\n",
      "Accuracy 0.505\n",
      "Loss 0.69316867685318\n",
      "Epoch: 7\n",
      "Accuracy 0.509375\n",
      "Loss 0.692915693283081\n",
      "Epoch: 8\n",
      "Accuracy 0.5235\n",
      "Loss 0.692303849697113\n",
      "Epoch: 9\n",
      "Accuracy 0.53475\n",
      "Loss 0.6905090265274048\n",
      "Epoch: 10\n",
      "Accuracy 0.549625\n",
      "Loss 0.6867787461280823\n",
      "Epoch: 11\n",
      "Accuracy 0.568625\n",
      "Loss 0.6811793231964112\n",
      "Epoch: 12\n",
      "Accuracy 0.590375\n",
      "Loss 0.6722244935035706\n",
      "Epoch: 13\n",
      "Accuracy 0.607875\n",
      "Loss 0.6592816352844239\n",
      "Epoch: 14\n",
      "Accuracy 0.642625\n",
      "Loss 0.6412311110496521\n",
      "Epoch: 15\n",
      "Accuracy 0.66175\n",
      "Loss 0.6192831742763519\n",
      "Epoch: 16\n",
      "Accuracy 0.69125\n",
      "Loss 0.5912880244255065\n",
      "Epoch: 17\n",
      "Accuracy 0.71925\n",
      "Loss 0.5597056648731231\n",
      "Epoch: 18\n",
      "Accuracy 0.744875\n",
      "Loss 0.5275750348567962\n",
      "Epoch: 19\n",
      "Accuracy 0.7605\n",
      "Loss 0.4992386589050293\n",
      "Epoch: 20\n",
      "Accuracy 0.7845\n",
      "Loss 0.4638542506694794\n",
      "Epoch: 21\n",
      "Accuracy 0.8045\n",
      "Loss 0.43300766015052794\n",
      "Epoch: 22\n",
      "Accuracy 0.82925\n",
      "Loss 0.3932915017604828\n",
      "Epoch: 23\n",
      "Accuracy 0.85325\n",
      "Loss 0.3564314761161804\n",
      "Epoch: 24\n",
      "Accuracy 0.870625\n",
      "Loss 0.318537437915802\n",
      "Epoch: 25\n",
      "Accuracy 0.890125\n",
      "Loss 0.28343983995914457\n",
      "Epoch: 26\n",
      "Accuracy 0.905625\n",
      "Loss 0.2578216029405594\n",
      "Epoch: 27\n",
      "Accuracy 0.9035\n",
      "Loss 0.24883195495605467\n",
      "Epoch: 28\n",
      "Accuracy 0.88425\n",
      "Loss 0.26747923946380614\n",
      "Epoch: 29\n",
      "Accuracy 0.896\n",
      "Loss 0.2427768172621727\n",
      "Epoch: 30\n",
      "Accuracy 0.941875\n",
      "Loss 0.1732127198576927\n",
      "Epoch: 31\n",
      "Accuracy 0.964375\n",
      "Loss 0.1413765457868576\n",
      "Epoch: 32\n",
      "Accuracy 0.973625\n",
      "Loss 0.1186990169286728\n",
      "Epoch: 33\n",
      "Accuracy 0.978875\n",
      "Loss 0.10423079225420952\n",
      "Epoch: 34\n",
      "Accuracy 0.97775\n",
      "Loss 0.09999007430672646\n",
      "Epoch: 35\n",
      "Accuracy 0.95875\n",
      "Loss 0.11957185360789299\n",
      "Epoch: 36\n",
      "Accuracy 0.9175\n",
      "Loss 0.1954606900215149\n",
      "Epoch: 37\n",
      "Accuracy 0.912125\n",
      "Loss 0.21400836884975433\n",
      "Epoch: 38\n",
      "Accuracy 0.946375\n",
      "Loss 0.1435009439587593\n",
      "Epoch: 39\n",
      "Accuracy 0.97975\n",
      "Loss 0.08330057409405708\n",
      "Epoch: 40\n",
      "Accuracy 0.993625\n",
      "Loss 0.056538293972611425\n",
      "Epoch: 41\n",
      "Accuracy 0.995\n",
      "Loss 0.04653420478105545\n",
      "Epoch: 42\n",
      "Accuracy 0.997\n",
      "Loss 0.04000484274327755\n",
      "Epoch: 43\n",
      "Accuracy 0.997\n",
      "Loss 0.03654712031036615\n",
      "Epoch: 44\n",
      "Accuracy 0.997125\n",
      "Loss 0.03093602292984724\n",
      "Epoch: 45\n",
      "Accuracy 0.997625\n",
      "Loss 0.027096695866435767\n",
      "Epoch: 46\n",
      "Accuracy 0.9975\n",
      "Loss 0.025828875809907913\n",
      "Epoch: 47\n",
      "Accuracy 0.997875\n",
      "Loss 0.024582544192671776\n",
      "Epoch: 48\n",
      "Accuracy 0.99625\n",
      "Loss 0.025240858547389507\n",
      "Epoch: 49\n",
      "Accuracy 0.99175\n",
      "Loss 0.03292803510650993\n",
      "Epoch: 50\n",
      "Accuracy 0.99175\n",
      "Loss 0.030443930722773075\n",
      "Epoch: 51\n",
      "Accuracy 0.996375\n",
      "Loss 0.020878891894593833\n",
      "Epoch: 52\n",
      "Accuracy 0.9945\n",
      "Loss 0.023898522067815064\n",
      "Epoch: 53\n",
      "Accuracy 0.991875\n",
      "Loss 0.028381735153496266\n",
      "Epoch: 54\n",
      "Accuracy 0.99275\n",
      "Loss 0.026169960087165236\n",
      "Epoch: 55\n",
      "Accuracy 0.990625\n",
      "Loss 0.03045537183992565\n",
      "Epoch: 56\n",
      "Accuracy 0.9945\n",
      "Loss 0.021873858692590148\n",
      "Epoch: 57\n",
      "Accuracy 0.99425\n",
      "Loss 0.02487433224590495\n",
      "Epoch: 58\n",
      "Accuracy 0.99375\n",
      "Loss 0.02307334005087614\n",
      "Epoch: 59\n",
      "Accuracy 0.9945\n",
      "Loss 0.019219912454485892\n",
      "Epoch: 60\n",
      "Accuracy 0.9955\n",
      "Loss 0.017895078172907232\n"
     ]
    }
   ],
   "source": [
    "model.train()\n",
    "for i in range(EPOCHS):\n",
    "  total_acc_train = 0\n",
    "  total_loss_train = 0\n",
    "\n",
    "  for cnn, lstm, label in mnist_dataloader:\n",
    "    lstm_inp, cnn_inp, label = lstm.to(DEVICE), cnn.to(DEVICE), label.to(DEVICE)\n",
    "    model.zero_grad()\n",
    "    output = model(cnn_inp, lstm_inp)\n",
    "    loss = criterion(output.squeeze(), label.float())\n",
    "    loss.backward()\n",
    "    optimizer.step()\n",
    "    with torch.no_grad():\n",
    "      acc = torch.abs(torch.round(torch.sigmoid(output.squeeze())) - label.float()).view(-1)\n",
    "      acc = (1. - acc.sum() / acc.size()[0])\n",
    "      total_acc_train += acc.item()\n",
    "      total_loss_train += loss.item()\n",
    "  print(\"Epoch:\", i+1)\n",
    "  print(\"Accuracy\", total_acc_train / len(mnist_dataloader))\n",
    "  print(\"Loss\", total_loss_train / len(mnist_dataloader))\n"
   ]
  },
  {
   "cell_type": "markdown",
   "metadata": {
    "id": "h9Tig3JC3B1D"
   },
   "source": [
    "# Explainer"
   ]
  },
  {
   "cell_type": "code",
   "execution_count": 189,
   "metadata": {
    "id": "cKWPARDrmDRh"
   },
   "outputs": [],
   "source": [
    "def mask_image(img,index_list):\n",
    "    masked = np.zeros(img.shape)\n",
    "    masked[:,:] = img\n",
    "    for index in index_list:\n",
    "        if index == 0:\n",
    "            masked[0:28,0:28]=0\n",
    "        elif index == 1:\n",
    "            masked[0:28,28:-1]=0\n",
    "        elif index == 2:\n",
    "            masked[28:56,0:28]=0\n",
    "        else:\n",
    "            masked[28:-1,28:-1]=0\n",
    "    return masked\n"
   ]
  },
  {
   "cell_type": "markdown",
   "metadata": {},
   "source": [
    "# Full modalities"
   ]
  },
  {
   "cell_type": "code",
   "execution_count": 190,
   "metadata": {
    "id": "cKWPARDrmDRh"
   },
   "outputs": [
    {
     "data": {
      "image/png": "[encoded data removed]",
      "text/plain": [
       "<Figure size 432x288 with 3 Axes>"
      ]
     },
     "metadata": {
      "needs_background": "light"
     },
     "output_type": "display_data"
    },
    {
     "name": "stdout",
     "output_type": "stream",
     "text": [
      "Image label is 1\n",
      "Image text is There are 4 even number(s) in the image.\n",
      "Prediction is 1.0 with confidence 0.9998563528060913\n",
      "index is:  7562\n",
      "Token is:  [ 0  0  0  0  0  0  0  0  0  0  0  7 15 27 14  2 16  8  1  9]\n",
      "Corresponding Importance indicated by language gradient is\n",
      "[0. 0. 0. 0. 0. 0. 0. 0. 0. 0. 0. 0. 0. 0. 0. 0. 0. 0. 0. 0.]\n"
     ]
    }
   ],
   "source": [
    "index = random.sample(list(range(len(dataset[\"label\"]))), 1)[0]\n",
    "image_bytes = dataset[\"image\"][index]\n",
    "\n",
    "cnn_inp = torch.from_numpy(np.expand_dims(np.expand_dims(image_bytes.astype(np.float32) / 255, 0), 0))\n",
    "cnn_inp = cnn_inp.to(DEVICE)\n",
    "lstm_inp = torch.from_numpy(np.expand_dims(tokenized_texts[index], 0))\n",
    "lstm_inp = lstm_inp.to(DEVICE)\n",
    "output = model(cnn_inp, lstm_inp)\n",
    "confidence = torch.sigmoid(output.squeeze()).detach().cpu().numpy().tolist()\n",
    "prediction = torch.round(torch.sigmoid(output.squeeze())).detach().cpu().numpy().tolist()\n",
    "if prediction == 0.0:\n",
    "  confidence = 1 - confidence\n",
    "\n",
    "output.backward()\n",
    "\n",
    "vision_gradients = model.get_vision_gradient()\n",
    "# pool the gradients across the channels, so that each channel have one gradient value\n",
    "pooled_vision_gradients = torch.mean(vision_gradients, dim=[0, 2, 3])\n",
    "pooled_vision_gradients_np = pooled_vision_gradients.detach().cpu().numpy()\n",
    "\n",
    "# get the activations of the last convolutional layer\n",
    "raw_vision_activations = model.get_vision_activations(cnn_inp)\n",
    "vision_activations = np.zeros(raw_vision_activations.shape)\n",
    "\n",
    "# weight the channels by corresponding gradients\n",
    "for i in range(vision_activations[0].shape[0]):\n",
    "  vision_activations[:, i, :, :] = raw_vision_activations[:, i, :, :] * pooled_vision_gradients_np[i]\n",
    "    \n",
    "# average the channels of the activations\n",
    "vision_heatmap = torch.mean(torch.from_numpy(vision_activations), axis=1).squeeze()\n",
    "\n",
    "# relu on top of the heatmap\n",
    "# expression (2) in https://arxiv.org/pdf/1610.02391.pdf\n",
    "vision_heatmap = np.maximum(vision_heatmap, 0)\n",
    "\n",
    "\n",
    "# normalize the heatmap\n",
    "vision_heatmap /= torch.max(vision_heatmap)\n",
    "\n",
    "# Plot heatmap together with the image from ORIGINAL RESOLUTION\n",
    "plot_image = cv2.merge((image_bytes,image_bytes,image_bytes))\n",
    "updated_vision_heatmap = cv2.resize(np.array(vision_heatmap), (plot_image.shape[1], plot_image.shape[0]))\n",
    "updated_vision_heatmap = np.uint8(255 * updated_vision_heatmap)\n",
    "updated_vision_heatmap = cv2.applyColorMap(updated_vision_heatmap, cv2.COLORMAP_JET)\n",
    "superimposed_img = updated_vision_heatmap * 0.5 + plot_image\n",
    "\n",
    "f = plt.figure()\n",
    "f.add_subplot(1, 3, 1)\n",
    "plt.imshow(plot_image)\n",
    "f.add_subplot(1, 3, 2)\n",
    "plt.imshow(updated_vision_heatmap)\n",
    "f.add_subplot(1, 3, 3)\n",
    "plt.imshow(superimposed_img / np.max(superimposed_img))\n",
    "plt.show(block=True)\n",
    "print(\"Image label is\", dataset[\"label\"][index])\n",
    "print(\"Image text is\", dataset[\"text\"][index])\n",
    "print(\"Prediction is\", prediction, \"with confidence\", confidence)\n",
    "print(\"index is: \", index)\n",
    "\n",
    "language_gradients = model.get_language_gradient()\n",
    "pooled_language_gradients = torch.mean(language_gradients, dim=2)\n",
    "pooled_language_gradients_np = pooled_language_gradients.detach().cpu().numpy()\n",
    "\n",
    "# Only two words, so this indicate the importance of each word\n",
    "# print(\"Image text is: \", dataset[\"text\"][index])\n",
    "print(\"Token is: \", tokenized_texts[index])\n",
    "print(\"Corresponding Importance indicated by language gradient is\")\n",
    "print(pooled_language_gradients_np[0])"
   ]
  },
  {
   "cell_type": "markdown",
   "metadata": {},
   "source": [
    "# Mask Image"
   ]
  },
  {
   "cell_type": "code",
   "execution_count": 191,
   "metadata": {
    "id": "P0U9PUuAh7af",
    "scrolled": true
   },
   "outputs": [
    {
     "name": "stderr",
     "output_type": "stream",
     "text": [
      "Clipping input data to the valid range for imshow with RGB data ([0..1] for floats or [0..255] for integers).\n"
     ]
    },
    {
     "name": "stdout",
     "output_type": "stream",
     "text": [
      "There are 4 even number(s) in the image.\n",
      "1\n"
     ]
    },
    {
     "data": {
      "image/png": "[encoded data removed]",
      "text/plain": [
       "<Figure size 432x288 with 1 Axes>"
      ]
     },
     "metadata": {
      "needs_background": "light"
     },
     "output_type": "display_data"
    },
    {
     "data": {
      "image/png": "[encoded data removed]",
      "text/plain": [
       "<Figure size 432x288 with 3 Axes>"
      ]
     },
     "metadata": {
      "needs_background": "light"
     },
     "output_type": "display_data"
    },
    {
     "name": "stdout",
     "output_type": "stream",
     "text": [
      "Image label is 1\n",
      "Image text is There are 4 even number(s) in the image.\n",
      "Prediction is 0.0 with confidence 0.9958132235333323\n",
      "Token is:  [ 0  0  0  0  0  0  0  0  0  0  0  7 15 27 14  2 16  8  1  9]\n",
      "Corresponding Importance indicated by language gradient is\n",
      "[0.         0.         0.         0.         0.         0.\n",
      " 0.         0.         0.         0.         0.         0.\n",
      " 0.         0.         0.         0.         0.         0.\n",
      " 0.         0.00014504]\n"
     ]
    }
   ],
   "source": [
    "image_bytes = dataset[\"image\"][index]\n",
    "print(dataset['text'][index])\n",
    "print(dataset['label'][index])\n",
    "plt.imshow(image_bytes, cmap=plt.cm.gray)\n",
    "\n",
    "masked_img = mask_image(image_bytes,[1,3])\n",
    "plt.imshow(masked_img, cmap=plt.cm.gray)\n",
    "\n",
    "cnn_inp = torch.from_numpy(np.expand_dims(np.expand_dims(masked_img.astype(np.float32) / 255, 0), 0))\n",
    "cnn_inp = cnn_inp.to(DEVICE)\n",
    "lstm_inp = torch.from_numpy(np.expand_dims(tokenized_texts[index], 0))\n",
    "lstm_inp = lstm_inp.to(DEVICE)\n",
    "output = model(cnn_inp, lstm_inp)\n",
    "confidence = torch.sigmoid(output.squeeze()).detach().cpu().numpy().tolist()\n",
    "prediction = torch.round(torch.sigmoid(output.squeeze())).detach().cpu().numpy().tolist()\n",
    "if prediction == 0.0:\n",
    "  confidence = 1 - confidence\n",
    "output.backward()\n",
    "vision_gradients = model.get_vision_gradient()\n",
    "# pool the gradients across the channels, so that each channel have one gradient value\n",
    "pooled_vision_gradients = torch.mean(vision_gradients, dim=[0, 2, 3])\n",
    "pooled_vision_gradients_np = pooled_vision_gradients.detach().cpu().numpy()\n",
    "\n",
    "# get the activations of the last convolutional layer\n",
    "raw_vision_activations = model.get_vision_activations(cnn_inp)\n",
    "vision_activations = np.zeros(raw_vision_activations.shape)\n",
    "\n",
    "# weight the channels by corresponding gradients\n",
    "for i in range(vision_activations[0].shape[0]):\n",
    "  vision_activations[:, i, :, :] = raw_vision_activations[:, i, :, :] * pooled_vision_gradients_np[i]\n",
    "    \n",
    "# average the channels of the activations\n",
    "vision_heatmap = torch.mean(torch.from_numpy(vision_activations), axis=1).squeeze()\n",
    "\n",
    "# relu on top of the heatmap\n",
    "# expression (2) in https://arxiv.org/pdf/1610.02391.pdf\n",
    "vision_heatmap = np.maximum(vision_heatmap, 0)\n",
    "\n",
    "\n",
    "# normalize the heatmap\n",
    "vision_heatmap /= torch.max(vision_heatmap)\n",
    "# Plot heatmap together with the image from ORIGINAL RESOLUTION\n",
    "plot_image = cv2.merge((masked_img,masked_img,masked_img))\n",
    "updated_vision_heatmap = cv2.resize(np.array(vision_heatmap), (plot_image.shape[1], plot_image.shape[0]))\n",
    "updated_vision_heatmap = np.uint8(255 * updated_vision_heatmap)\n",
    "updated_vision_heatmap = cv2.applyColorMap(updated_vision_heatmap, cv2.COLORMAP_JET)\n",
    "superimposed_img = updated_vision_heatmap * 0.5 + plot_image\n",
    "\n",
    "f = plt.figure()\n",
    "f.add_subplot(1, 3, 1)\n",
    "plt.imshow(plot_image)\n",
    "f.add_subplot(1, 3, 2)\n",
    "plt.imshow(updated_vision_heatmap)\n",
    "f.add_subplot(1, 3, 3)\n",
    "plt.imshow(superimposed_img / np.max(superimposed_img))\n",
    "plt.show(block=True)\n",
    "print(\"Image label is\", dataset[\"label\"][index])\n",
    "print(\"Image text is\", dataset[\"text\"][index])\n",
    "print(\"Prediction is\", prediction, \"with confidence\", confidence)\n",
    "language_gradients = model.get_language_gradient()\n",
    "pooled_language_gradients = torch.mean(language_gradients, dim=2)\n",
    "pooled_language_gradients_np = pooled_language_gradients.detach().cpu().numpy()\n",
    "\n",
    "# Only two words, so this indicate the importance of each word\n",
    "# print(\"Image text is: \", dataset[\"text\"][index])\n",
    "print(\"Token is: \", tokenized_texts[index])\n",
    "print(\"Corresponding Importance indicated by language gradient is\")\n",
    "print(pooled_language_gradients_np[0])"
   ]
  },
  {
   "cell_type": "markdown",
   "metadata": {},
   "source": [
    "# Mask Text"
   ]
  },
  {
   "cell_type": "code",
   "execution_count": 192,
   "metadata": {},
   "outputs": [
    {
     "name": "stdout",
     "output_type": "stream",
     "text": [
      "There are 4 even number(s) in the image.\n"
     ]
    }
   ],
   "source": [
    "image_bytes = dataset[\"image\"][index]\n",
    "text = dataset['text'][index]\n",
    "print(text)"
   ]
  },
  {
   "cell_type": "code",
   "execution_count": 194,
   "metadata": {},
   "outputs": [],
   "source": [
    "def mask_text(text, index_list):\n",
    "    tokenizer.fit_on_texts(text)\n",
    "    tokenized_text = tokenizer.texts_to_sequences(text)\n",
    "    tokenized_text = pad_sequences(tokenized_text, maxlen=20)\n",
    "    for index in index_list:\n",
    "        tokenized_text[index] = 0\n",
    "    print(\"masked text: \", tokenized_text)\n",
    "    return tokenized_text"
   ]
  },
  {
   "cell_type": "code",
   "execution_count": 196,
   "metadata": {},
   "outputs": [
    {
     "name": "stdout",
     "output_type": "stream",
     "text": [
      "masked text:  [[ 0  0  0  0  0  0  0  0  0  0  0  0  0  0  0  0  0  0  0 31]\n",
      " [ 0  0  0  0  0  0  0  0  0  0  0  0  0  0  0  0  0  0  0 32]\n",
      " [ 0  0  0  0  0  0  0  0  0  0  0  0  0  0  0  0  0  0  0 28]\n",
      " [ 0  0  0  0  0  0  0  0  0  0  0  0  0  0  0  0  0  0  0 29]\n",
      " [ 0  0  0  0  0  0  0  0  0  0  0  0  0  0  0  0  0  0  0 28]\n",
      " [ 0  0  0  0  0  0  0  0  0  0  0  0  0  0  0  0  0  0  0  0]\n",
      " [ 0  0  0  0  0  0  0  0  0  0  0  0  0  0  0  0  0  0  0 33]\n",
      " [ 0  0  0  0  0  0  0  0  0  0  0  0  0  0  0  0  0  0  0 29]\n",
      " [ 0  0  0  0  0  0  0  0  0  0  0  0  0  0  0  0  0  0  0 28]\n",
      " [ 0  0  0  0  0  0  0  0  0  0  0  0  0  0  0  0  0  0  0  0]\n",
      " [ 0  0  0  0  0  0  0  0  0  0  0  0  0  0  0  0  0  0  0 27]\n",
      " [ 0  0  0  0  0  0  0  0  0  0  0  0  0  0  0  0  0  0  0  0]\n",
      " [ 0  0  0  0  0  0  0  0  0  0  0  0  0  0  0  0  0  0  0 28]\n",
      " [ 0  0  0  0  0  0  0  0  0  0  0  0  0  0  0  0  0  0  0 36]\n",
      " [ 0  0  0  0  0  0  0  0  0  0  0  0  0  0  0  0  0  0  0 28]\n",
      " [ 0  0  0  0  0  0  0  0  0  0  0  0  0  0  0  0  0  0  0 30]\n",
      " [ 0  0  0  0  0  0  0  0  0  0  0  0  0  0  0  0  0  0  0  0]\n",
      " [ 0  0  0  0  0  0  0  0  0  0  0  0  0  0  0  0  0  0  0 30]\n",
      " [ 0  0  0  0  0  0  0  0  0  0  0  0  0  0  0  0  0  0  0 37]\n",
      " [ 0  0  0  0  0  0  0  0  0  0  0  0  0  0  0  0  0  0  0 34]\n",
      " [ 0  0  0  0  0  0  0  0  0  0  0  0  0  0  0  0  0  0  0 38]\n",
      " [ 0  0  0  0  0  0  0  0  0  0  0  0  0  0  0  0  0  0  0 28]\n",
      " [ 0  0  0  0  0  0  0  0  0  0  0  0  0  0  0  0  0  0  0 29]\n",
      " [ 0  0  0  0  0  0  0  0  0  0  0  0  0  0  0  0  0  0  0  0]\n",
      " [ 0  0  0  0  0  0  0  0  0  0  0  0  0  0  0  0  0  0  0 15]\n",
      " [ 0  0  0  0  0  0  0  0  0  0  0  0  0  0  0  0  0  0  0  0]\n",
      " [ 0  0  0  0  0  0  0  0  0  0  0  0  0  0  0  0  0  0  0  0]\n",
      " [ 0  0  0  0  0  0  0  0  0  0  0  0  0  0  0  0  0  0  0 35]\n",
      " [ 0  0  0  0  0  0  0  0  0  0  0  0  0  0  0  0  0  0  0 30]\n",
      " [ 0  0  0  0  0  0  0  0  0  0  0  0  0  0  0  0  0  0  0  0]\n",
      " [ 0  0  0  0  0  0  0  0  0  0  0  0  0  0  0  0  0  0  0 31]\n",
      " [ 0  0  0  0  0  0  0  0  0  0  0  0  0  0  0  0  0  0  0 32]\n",
      " [ 0  0  0  0  0  0  0  0  0  0  0  0  0  0  0  0  0  0  0 28]\n",
      " [ 0  0  0  0  0  0  0  0  0  0  0  0  0  0  0  0  0  0  0  0]\n",
      " [ 0  0  0  0  0  0  0  0  0  0  0  0  0  0  0  0  0  0  0 35]\n",
      " [ 0  0  0  0  0  0  0  0  0  0  0  0  0  0  0  0  0  0  0 34]\n",
      " [ 0  0  0  0  0  0  0  0  0  0  0  0  0  0  0  0  0  0  0 33]\n",
      " [ 0  0  0  0  0  0  0  0  0  0  0  0  0  0  0  0  0  0  0 39]\n",
      " [ 0  0  0  0  0  0  0  0  0  0  0  0  0  0  0  0  0  0  0 28]\n",
      " [ 0  0  0  0  0  0  0  0  0  0  0  0  0  0  0  0  0  0  0  0]]\n",
      "1\n",
      "masked text:  [[ 0  0  0  0  0  0  0  0  0  0  0  0  0  0  0  0  0  0  0 31]\n",
      " [ 0  0  0  0  0  0  0  0  0  0  0  0  0  0  0  0  0  0  0 32]\n",
      " [ 0  0  0  0  0  0  0  0  0  0  0  0  0  0  0  0  0  0  0 28]\n",
      " [ 0  0  0  0  0  0  0  0  0  0  0  0  0  0  0  0  0  0  0 29]\n",
      " [ 0  0  0  0  0  0  0  0  0  0  0  0  0  0  0  0  0  0  0 28]\n",
      " [ 0  0  0  0  0  0  0  0  0  0  0  0  0  0  0  0  0  0  0  0]\n",
      " [ 0  0  0  0  0  0  0  0  0  0  0  0  0  0  0  0  0  0  0 33]\n",
      " [ 0  0  0  0  0  0  0  0  0  0  0  0  0  0  0  0  0  0  0 29]\n",
      " [ 0  0  0  0  0  0  0  0  0  0  0  0  0  0  0  0  0  0  0 28]\n",
      " [ 0  0  0  0  0  0  0  0  0  0  0  0  0  0  0  0  0  0  0  0]\n",
      " [ 0  0  0  0  0  0  0  0  0  0  0  0  0  0  0  0  0  0  0 27]\n",
      " [ 0  0  0  0  0  0  0  0  0  0  0  0  0  0  0  0  0  0  0  0]\n",
      " [ 0  0  0  0  0  0  0  0  0  0  0  0  0  0  0  0  0  0  0 28]\n",
      " [ 0  0  0  0  0  0  0  0  0  0  0  0  0  0  0  0  0  0  0 36]\n",
      " [ 0  0  0  0  0  0  0  0  0  0  0  0  0  0  0  0  0  0  0 28]\n",
      " [ 0  0  0  0  0  0  0  0  0  0  0  0  0  0  0  0  0  0  0 30]\n",
      " [ 0  0  0  0  0  0  0  0  0  0  0  0  0  0  0  0  0  0  0  0]\n",
      " [ 0  0  0  0  0  0  0  0  0  0  0  0  0  0  0  0  0  0  0 30]\n",
      " [ 0  0  0  0  0  0  0  0  0  0  0  0  0  0  0  0  0  0  0 37]\n",
      " [ 0  0  0  0  0  0  0  0  0  0  0  0  0  0  0  0  0  0  0 34]\n",
      " [ 0  0  0  0  0  0  0  0  0  0  0  0  0  0  0  0  0  0  0 38]\n",
      " [ 0  0  0  0  0  0  0  0  0  0  0  0  0  0  0  0  0  0  0 28]\n",
      " [ 0  0  0  0  0  0  0  0  0  0  0  0  0  0  0  0  0  0  0 29]\n",
      " [ 0  0  0  0  0  0  0  0  0  0  0  0  0  0  0  0  0  0  0  0]\n",
      " [ 0  0  0  0  0  0  0  0  0  0  0  0  0  0  0  0  0  0  0 15]\n",
      " [ 0  0  0  0  0  0  0  0  0  0  0  0  0  0  0  0  0  0  0  0]\n",
      " [ 0  0  0  0  0  0  0  0  0  0  0  0  0  0  0  0  0  0  0  0]\n",
      " [ 0  0  0  0  0  0  0  0  0  0  0  0  0  0  0  0  0  0  0 35]\n",
      " [ 0  0  0  0  0  0  0  0  0  0  0  0  0  0  0  0  0  0  0 30]\n",
      " [ 0  0  0  0  0  0  0  0  0  0  0  0  0  0  0  0  0  0  0  0]\n",
      " [ 0  0  0  0  0  0  0  0  0  0  0  0  0  0  0  0  0  0  0 31]\n",
      " [ 0  0  0  0  0  0  0  0  0  0  0  0  0  0  0  0  0  0  0 32]\n",
      " [ 0  0  0  0  0  0  0  0  0  0  0  0  0  0  0  0  0  0  0 28]\n",
      " [ 0  0  0  0  0  0  0  0  0  0  0  0  0  0  0  0  0  0  0  0]\n",
      " [ 0  0  0  0  0  0  0  0  0  0  0  0  0  0  0  0  0  0  0 35]\n",
      " [ 0  0  0  0  0  0  0  0  0  0  0  0  0  0  0  0  0  0  0 34]\n",
      " [ 0  0  0  0  0  0  0  0  0  0  0  0  0  0  0  0  0  0  0 33]\n",
      " [ 0  0  0  0  0  0  0  0  0  0  0  0  0  0  0  0  0  0  0 39]\n",
      " [ 0  0  0  0  0  0  0  0  0  0  0  0  0  0  0  0  0  0  0 28]\n",
      " [ 0  0  0  0  0  0  0  0  0  0  0  0  0  0  0  0  0  0  0  0]]\n"
     ]
    },
    {
     "data": {
      "text/plain": [
       "<matplotlib.image.AxesImage at 0x7f9eb760ccc0>"
      ]
     },
     "execution_count": 196,
     "metadata": {},
     "output_type": "execute_result"
    },
    {
     "data": {
      "image/png": "[encoded data removed]",
      "text/plain": [
       "<Figure size 432x288 with 1 Axes>"
      ]
     },
     "metadata": {
      "needs_background": "light"
     },
     "output_type": "display_data"
    }
   ],
   "source": [
    "masked_text = mask_text(text, [])\n",
    "print(dataset['label'][index])\n",
    "print(\"masked text: \", masked_text)\n",
    "plt.imshow(image_bytes, cmap=plt.cm.gray)"
   ]
  },
  {
   "cell_type": "code",
   "execution_count": null,
   "metadata": {},
   "outputs": [],
   "source": [
    "cnn_inp = torch.from_numpy(np.expand_dims(np.expand_dims(image_bytes.astype(np.float32) / 255, 0), 0))\n",
    "cnn_inp = cnn_inp.to(DEVICE)\n",
    "lstm_inp = torch.from_numpy(np.expand_dims(tokenized_texts[index], 0))\n",
    "lstm_inp = lstm_inp.to(DEVICE)\n",
    "output = model(cnn_inp, lstm_inp)\n",
    "confidence = torch.sigmoid(output.squeeze()).detach().cpu().numpy().tolist()\n",
    "prediction = torch.round(torch.sigmoid(output.squeeze())).detach().cpu().numpy().tolist()\n",
    "if prediction == 0.0:\n",
    "  confidence = 1 - confidence\n",
    "\n",
    "output.backward()\n",
    "\n",
    "vision_gradients = model.get_vision_gradient()\n",
    "# pool the gradients across the channels, so that each channel have one gradient value\n",
    "pooled_vision_gradients = torch.mean(vision_gradients, dim=[0, 2, 3])\n",
    "pooled_vision_gradients_np = pooled_vision_gradients.detach().cpu().numpy()\n",
    "\n",
    "# get the activations of the last convolutional layer\n",
    "raw_vision_activations = model.get_vision_activations(cnn_inp)\n",
    "vision_activations = np.zeros(raw_vision_activations.shape)\n",
    "\n",
    "# weight the channels by corresponding gradients\n",
    "for i in range(vision_activations[0].shape[0]):\n",
    "  vision_activations[:, i, :, :] = raw_vision_activations[:, i, :, :] * pooled_vision_gradients_np[i]\n",
    "    \n",
    "# average the channels of the activations\n",
    "vision_heatmap = torch.mean(torch.from_numpy(vision_activations), axis=1).squeeze()\n",
    "\n",
    "# relu on top of the heatmap\n",
    "# expression (2) in https://arxiv.org/pdf/1610.02391.pdf\n",
    "vision_heatmap = np.maximum(vision_heatmap, 0)\n",
    "\n",
    "\n",
    "# normalize the heatmap\n",
    "vision_heatmap /= torch.max(vision_heatmap)\n",
    "# Plot heatmap together with the image from ORIGINAL RESOLUTION\n",
    "plot_image = cv2.merge((masked_img,masked_img,masked_img))\n",
    "updated_vision_heatmap = cv2.resize(np.array(vision_heatmap), (plot_image.shape[1], plot_image.shape[0]))\n",
    "updated_vision_heatmap = np.uint8(255 * updated_vision_heatmap)\n",
    "updated_vision_heatmap = cv2.applyColorMap(updated_vision_heatmap, cv2.COLORMAP_JET)\n",
    "superimposed_img = updated_vision_heatmap * 0.5 + plot_image\n",
    "\n",
    "f = plt.figure()\n",
    "f.add_subplot(1, 3, 1)\n",
    "plt.imshow(plot_image)\n",
    "f.add_subplot(1, 3, 2)\n",
    "plt.imshow(updated_vision_heatmap)\n",
    "f.add_subplot(1, 3, 3)\n",
    "plt.imshow(superimposed_img / np.max(superimposed_img))\n",
    "plt.show(block=True)\n",
    "print(\"Image label is\", dataset[\"label\"][index])\n",
    "print(\"Image text is\", dataset[\"text\"][index])\n",
    "print(\"Prediction is\", prediction, \"with confidence\", confidence)\n",
    "language_gradients = model.get_language_gradient()\n",
    "pooled_language_gradients = torch.mean(language_gradients, dim=2)\n",
    "pooled_language_gradients_np = pooled_language_gradients.detach().cpu().numpy()\n",
    "\n",
    "# Only two words, so this indicate the importance of each word\n",
    "# print(\"Image text is: \", dataset[\"text\"][index])\n",
    "print(\"Token is: \", tokenized_texts[index])\n",
    "print(\"Corresponding Importance indicated by language gradient is\")\n",
    "print(pooled_language_gradients_np[0])"
   ]
  },
  {
   "cell_type": "code",
   "execution_count": null,
   "metadata": {},
   "outputs": [],
   "source": []
  }
 ],
 "metadata": {
  "accelerator": "GPU",
  "colab": {
   "collapsed_sections": [],
   "name": "multimodal-gradcam-mnist.ipynb",
   "provenance": []
  },
  "kernelspec": {
   "display_name": "Python 3",
   "language": "python",
   "name": "python3"
  },
  "language_info": {
   "codemirror_mode": {
    "name": "ipython",
    "version": 3
   },
   "file_extension": ".py",
   "mimetype": "text/x-python",
   "name": "python",
   "nbconvert_exporter": "python",
   "pygments_lexer": "ipython3",
   "version": "3.6.13"
  }
 },
 "nbformat": 4,
 "nbformat_minor": 1
}
