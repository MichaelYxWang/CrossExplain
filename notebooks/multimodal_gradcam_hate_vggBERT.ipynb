{
  "cells": [
    {
      "cell_type": "markdown",
      "metadata": {
        "id": "mBuFJ5RI7H2H"
      },
      "source": [
        "# Plans\n",
        "- Read data and see some examples\n",
        "- Create data loader\n",
        "- Create a simple early fusion model for train\n",
        "- Train and single example inference\n",
        "- create a explain model\n",
        "- Single example explain"
      ]
    },
    {
      "cell_type": "markdown",
      "metadata": {
        "id": "3Cj9olKH7CP0"
      },
      "source": [
        "# Setup"
      ]
    },
    {
      "cell_type": "code",
      "execution_count": 2,
      "metadata": {
        "colab": {
          "base_uri": "https://localhost:8080/"
        },
        "id": "M-mAAgBo7u0c",
        "outputId": "61e077ce-0f7a-4de6-a5cd-5a561e25ac6c"
      },
      "outputs": [
        {
          "output_type": "stream",
          "name": "stdout",
          "text": [
            "Requirement already satisfied: transformers in /usr/local/lib/python3.7/dist-packages (4.18.0)\n",
            "Requirement already satisfied: huggingface-hub<1.0,>=0.1.0 in /usr/local/lib/python3.7/dist-packages (from transformers) (0.5.1)\n",
            "Requirement already satisfied: importlib-metadata in /usr/local/lib/python3.7/dist-packages (from transformers) (4.11.3)\n",
            "Requirement already satisfied: pyyaml>=5.1 in /usr/local/lib/python3.7/dist-packages (from transformers) (6.0)\n",
            "Requirement already satisfied: tokenizers!=0.11.3,<0.13,>=0.11.1 in /usr/local/lib/python3.7/dist-packages (from transformers) (0.12.1)\n",
            "Requirement already satisfied: packaging>=20.0 in /usr/local/lib/python3.7/dist-packages (from transformers) (21.3)\n",
            "Requirement already satisfied: requests in /usr/local/lib/python3.7/dist-packages (from transformers) (2.23.0)\n",
            "Requirement already satisfied: numpy>=1.17 in /usr/local/lib/python3.7/dist-packages (from transformers) (1.21.5)\n",
            "Requirement already satisfied: sacremoses in /usr/local/lib/python3.7/dist-packages (from transformers) (0.0.49)\n",
            "Requirement already satisfied: regex!=2019.12.17 in /usr/local/lib/python3.7/dist-packages (from transformers) (2019.12.20)\n",
            "Requirement already satisfied: tqdm>=4.27 in /usr/local/lib/python3.7/dist-packages (from transformers) (4.64.0)\n",
            "Requirement already satisfied: filelock in /usr/local/lib/python3.7/dist-packages (from transformers) (3.6.0)\n",
            "Requirement already satisfied: typing-extensions>=3.7.4.3 in /usr/local/lib/python3.7/dist-packages (from huggingface-hub<1.0,>=0.1.0->transformers) (4.1.1)\n",
            "Requirement already satisfied: pyparsing!=3.0.5,>=2.0.2 in /usr/local/lib/python3.7/dist-packages (from packaging>=20.0->transformers) (3.0.8)\n",
            "Requirement already satisfied: zipp>=0.5 in /usr/local/lib/python3.7/dist-packages (from importlib-metadata->transformers) (3.8.0)\n",
            "Requirement already satisfied: certifi>=2017.4.17 in /usr/local/lib/python3.7/dist-packages (from requests->transformers) (2021.10.8)\n",
            "Requirement already satisfied: chardet<4,>=3.0.2 in /usr/local/lib/python3.7/dist-packages (from requests->transformers) (3.0.4)\n",
            "Requirement already satisfied: idna<3,>=2.5 in /usr/local/lib/python3.7/dist-packages (from requests->transformers) (2.10)\n",
            "Requirement already satisfied: urllib3!=1.25.0,!=1.25.1,<1.26,>=1.21.1 in /usr/local/lib/python3.7/dist-packages (from requests->transformers) (1.24.3)\n",
            "Requirement already satisfied: click in /usr/local/lib/python3.7/dist-packages (from sacremoses->transformers) (7.1.2)\n",
            "Requirement already satisfied: six in /usr/local/lib/python3.7/dist-packages (from sacremoses->transformers) (1.15.0)\n",
            "Requirement already satisfied: joblib in /usr/local/lib/python3.7/dist-packages (from sacremoses->transformers) (1.1.0)\n"
          ]
        }
      ],
      "source": [
        "!pip install transformers"
      ]
    },
    {
      "cell_type": "code",
      "execution_count": 3,
      "metadata": {
        "colab": {
          "base_uri": "https://localhost:8080/"
        },
        "id": "V2vKcr9oSMUQ",
        "outputId": "410961b2-6a96-45f6-f73b-eaf1f38e57d4"
      },
      "outputs": [
        {
          "output_type": "stream",
          "name": "stdout",
          "text": [
            "Drive already mounted at /content/drive; to attempt to forcibly remount, call drive.mount(\"/content/drive\", force_remount=True).\n"
          ]
        }
      ],
      "source": [
        "from google.colab import drive\n",
        "drive.mount('/content/drive')"
      ]
    },
    {
      "cell_type": "code",
      "execution_count": 4,
      "metadata": {
        "id": "5DHVCl6M6fA5"
      },
      "outputs": [],
      "source": [
        "import os\n",
        "import json\n",
        "import matplotlib.pyplot as plt\n",
        "import cv2\n",
        "import shutil\n",
        "from PIL import Image\n",
        "import tqdm\n",
        "import numpy as np\n",
        "\n",
        "import torch\n",
        "import torch.nn as nn\n",
        "from torch.utils.data import Dataset, DataLoader\n",
        "from torchvision import transforms\n",
        "import torch.nn.functional as F\n",
        "from torchvision.models import vgg19, resnet18, densenet161\n",
        "\n",
        "import transformers\n",
        "from transformers import BertModel, BertTokenizer, AdamW"
      ]
    },
    {
      "cell_type": "code",
      "execution_count": 5,
      "metadata": {
        "id": "Rsv3Y71S7G7x"
      },
      "outputs": [],
      "source": [
        "# Global Path Vairables\n",
        "ROOT_DIR =  \"drive/MyDrive/11877-AMMML/dataset/\"\n",
        "DATASET_DIR = ROOT_DIR + \"hateful_memes/\""
      ]
    },
    {
      "cell_type": "code",
      "execution_count": 6,
      "metadata": {
        "id": "pmhfHiHtFER0"
      },
      "outputs": [],
      "source": [
        "def get_all_files_from_dir(directory):\n",
        "    file_paths = []\n",
        "    for root, dirs, files in os.walk(directory):\n",
        "        file_paths += [os.path.join(root, x) for x in files]\n",
        "    return sorted(file_paths)"
      ]
    },
    {
      "cell_type": "code",
      "execution_count": 7,
      "metadata": {
        "colab": {
          "base_uri": "https://localhost:8080/"
        },
        "id": "avZcoj9zMloD",
        "outputId": "96781a77-ea00-4eae-ea08-ab3b6576d284"
      },
      "outputs": [
        {
          "output_type": "stream",
          "name": "stderr",
          "text": [
            "Some weights of the model checkpoint at bert-base-cased were not used when initializing BertModel: ['cls.seq_relationship.bias', 'cls.predictions.transform.LayerNorm.bias', 'cls.predictions.transform.LayerNorm.weight', 'cls.predictions.transform.dense.bias', 'cls.predictions.transform.dense.weight', 'cls.predictions.bias', 'cls.predictions.decoder.weight', 'cls.seq_relationship.weight']\n",
            "- This IS expected if you are initializing BertModel from the checkpoint of a model trained on another task or with another architecture (e.g. initializing a BertForSequenceClassification model from a BertForPreTraining model).\n",
            "- This IS NOT expected if you are initializing BertModel from the checkpoint of a model that you expect to be exactly identical (initializing a BertForSequenceClassification model from a BertForSequenceClassification model).\n"
          ]
        }
      ],
      "source": [
        "PRE_TRAINED_MODEL_NAME = 'bert-base-cased'\n",
        "tokenizer = BertTokenizer.from_pretrained(PRE_TRAINED_MODEL_NAME)\n",
        "bert_model = BertModel.from_pretrained(PRE_TRAINED_MODEL_NAME)"
      ]
    },
    {
      "cell_type": "code",
      "execution_count": 8,
      "metadata": {
        "id": "yTMB6rbM4ba1"
      },
      "outputs": [],
      "source": [
        "EPOCHS = 1\n",
        "LEARNING_RATE = 2e-5\n",
        "DEVICE = torch.device('cuda' if torch.cuda.is_available() else 'cpu')\n",
        "BATCH_SIZE = 16"
      ]
    },
    {
      "cell_type": "markdown",
      "metadata": {
        "id": "tdHMYskj6v3U"
      },
      "source": [
        "# Data Preparation"
      ]
    },
    {
      "cell_type": "code",
      "execution_count": 9,
      "metadata": {
        "id": "d_BdE6HmC5ig"
      },
      "outputs": [],
      "source": [
        "train_raw_json_list = []\n",
        "with open(DATASET_DIR + \"train.jsonl\", \"r\") as f:\n",
        "  for json_string in list(f):\n",
        "    train_raw_json_list.append(json.loads(json_string))\n",
        "\n",
        "train_raw_json_list = train_raw_json_list[:500]\n",
        "image_paths = [x[\"img\"] for x in train_raw_json_list]\n",
        "\n",
        "# # Filter out images whose dimension is less than 224\n",
        "# filter_image_list = []\n",
        "# for i in range(len(image_paths)):\n",
        "#   PIL_image = Image.open(DATASET_DIR + train_raw_json_list[i][\"img\"])\n",
        "#   if PIL_image.size[0] < 224 or PIL_image.size[1] < 224:\n",
        "#     filter_image_list.append(train_raw_json_list[i][\"img\"])\n",
        "#     print(train_raw_json_list[i][\"img\"])\n",
        "#   if i % 50 == 0:\n",
        "#     print(i)\n",
        "\n",
        "filter_image_list = ['img/80567.png', 'img/49270.png', 'img/58306.png', 'img/17832.png', 'img/17205.png', 'img/75428.png', 'img/42015.png', 'img/38624.png', 'img/30847.png', 'img/07312.png', 'img/74589.png', 'img/86159.png', 'img/51304.png', 'img/18296.png', 'img/69807.png', 'img/65908.png', 'img/65940.png', 'img/79854.png', 'img/93124.png', 'img/36725.png', 'img/94802.png', 'img/21043.png', 'img/09478.png', 'img/73984.png', 'img/59248.png', 'img/98412.png', 'img/26543.png', 'img/96701.png', 'img/86104.png', 'img/48579.png', 'img/84076.png', 'img/42073.png', 'img/98367.png', 'img/56193.png', 'img/41823.png', 'img/85269.png', 'img/16702.png', 'img/82156.png', 'img/90483.png', 'img/40158.png', 'img/17928.png', 'img/32781.png', 'img/58194.png', 'img/82540.png', 'img/36178.png', 'img/94150.png', 'img/16084.png', 'img/95817.png', 'img/16438.png', 'img/85147.png', 'img/65904.png', 'img/85392.png', 'img/43791.png', 'img/69025.png', 'img/79423.png', 'img/49067.png', 'img/84951.png', 'img/25310.png', 'img/23174.png', 'img/96340.png', 'img/98736.png', 'img/08741.png', 'img/10835.png', 'img/48192.png', 'img/40917.png']\n",
        "image_paths = [item for item in image_paths if item not in filter_image_list]\n",
        "\n",
        "labels = [x[\"label\"] for x in train_raw_json_list if x[\"img\"] not in filter_image_list]\n",
        "texts = [x[\"text\"] for x in train_raw_json_list if x[\"img\"] not in filter_image_list]"
      ]
    },
    {
      "cell_type": "code",
      "execution_count": 10,
      "metadata": {
        "id": "R0cN4Z-D8WCr"
      },
      "outputs": [],
      "source": [
        "# index = 0\n",
        "# cv2_image = cv2.imread(DATASET_DIR + train_raw_json_list[index][\"img\"])\n",
        "# print(cv2_image.shape)\n",
        "# print(train_raw_json_list[index][\"img\"])\n",
        "# print(train_raw_json_list[index][\"text\"])\n",
        "# print(train_raw_json_list[index][\"label\"])\n",
        "# plt.imshow(cv2_image)\n",
        "# plt.show()"
      ]
    },
    {
      "cell_type": "code",
      "execution_count": 11,
      "metadata": {
        "id": "-oxXWRrE9-9B"
      },
      "outputs": [],
      "source": [
        "class ImageDataset(Dataset):\n",
        "    def __init__(self, image_paths, transform=None):\n",
        "        super(ImageDataset, self).__init__()\n",
        "        self.image_paths = [DATASET_DIR + x for x in image_paths]\n",
        "        self.transform = transform\n",
        "        self.idx_to_path = {i: image_path for i, image_path in enumerate(self.image_paths)}\n",
        "        self.path_to_idx = {image_path: i for i, image_path in enumerate(self.image_paths)}\n",
        "\n",
        "    def __len__(self):\n",
        "        return len(self.image_paths)\n",
        "\n",
        "    def __getitem__(self, idx):\n",
        "        if torch.is_tensor(idx):\n",
        "            idx = idx.tolist()\n",
        "        image_filepath = self.idx_to_path[idx]\n",
        "        image = Image.open(image_filepath)\n",
        "        if self.transform:\n",
        "          try:\n",
        "            image = self.transform(image)\n",
        "          except:\n",
        "            print(image_filepath)\n",
        "        # return image, image_filepath\n",
        "        return image\n",
        "    \n",
        "    def get_by_path(self, path):\n",
        "      image, _ =  self.__getitem__(self.path_to_idx[path])\n",
        "      image = image[None, :]\n",
        "      return image"
      ]
    },
    {
      "cell_type": "code",
      "execution_count": 12,
      "metadata": {
        "id": "7ON8Yo7v9I_T"
      },
      "outputs": [],
      "source": [
        "# use the ImageNet transformation\n",
        "imagenet_transform = transforms.Compose([transforms.Resize((224, 224)), \n",
        "                                transforms.ToTensor(),\n",
        "                                transforms.Normalize(mean=[0.485, 0.456, 0.406], std=[0.229, 0.224, 0.225])\n",
        "                                ])\n",
        "\n",
        "# Already double checked the order of ids in dataset and loader objects are as expected\n",
        "image_dataset = ImageDataset(image_paths, imagenet_transform)\n",
        "image_dataloader = DataLoader(dataset=image_dataset, batch_size=BATCH_SIZE)"
      ]
    },
    {
      "cell_type": "code",
      "execution_count": 13,
      "metadata": {
        "id": "MD_u4SgTHVQP"
      },
      "outputs": [],
      "source": [
        "class TextDataset(Dataset):\n",
        "  def __init__(self, texts, targets, tokenizer, max_len):\n",
        "    self.texts = texts\n",
        "    self.targets = targets\n",
        "    self.tokenizer = tokenizer\n",
        "    self.max_len = max_len\n",
        "  \n",
        "  def __len__(self):\n",
        "    return len(self.texts)\n",
        "  \n",
        "  def __getitem__(self, item):\n",
        "    text = str(self.texts[item])\n",
        "    target = self.targets[item]\n",
        "\n",
        "    if target == 1:\n",
        "      target = np.array([1, 0])\n",
        "    else:\n",
        "      target = np.array([0, 1])\n",
        "\n",
        "    encoding = self.tokenizer.encode_plus(\n",
        "      text,\n",
        "      add_special_tokens=True,\n",
        "      max_length=self.max_len,\n",
        "      return_token_type_ids=False,\n",
        "      # pad_to_max_length=True,\n",
        "      padding=\"max_length\",\n",
        "      return_attention_mask=True,\n",
        "      return_tensors='pt',\n",
        "    )\n",
        "\n",
        "    return {\n",
        "      'text': text,\n",
        "      'input_ids': encoding['input_ids'].flatten(),\n",
        "      'attention_mask': encoding['attention_mask'].flatten(),\n",
        "      'targets': torch.tensor(target, dtype=torch.long)\n",
        "    }"
      ]
    },
    {
      "cell_type": "code",
      "execution_count": 14,
      "metadata": {
        "id": "Ggh7s9AbJKQD"
      },
      "outputs": [],
      "source": [
        "text_dataset = TextDataset(\n",
        "    texts=texts,\n",
        "    targets=labels,\n",
        "    tokenizer=tokenizer,\n",
        "    max_len=160\n",
        "  )\n",
        "\n",
        "text_dataloader = DataLoader(dataset=text_dataset, batch_size=BATCH_SIZE)"
      ]
    },
    {
      "cell_type": "code",
      "execution_count": 15,
      "metadata": {
        "id": "3VrRqRKW_2lt"
      },
      "outputs": [],
      "source": [
        "assert len(image_dataloader) == len(text_dataloader)"
      ]
    },
    {
      "cell_type": "markdown",
      "source": [
        "# Model To Train"
      ],
      "metadata": {
        "id": "GAmDixr5FE8_"
      }
    },
    {
      "cell_type": "code",
      "execution_count": 16,
      "metadata": {
        "id": "RrjSRdqf0cGn"
      },
      "outputs": [],
      "source": [
        "class MultimodalClassifier(nn.Module):\n",
        "  def __init__(self, n_classes):\n",
        "    super(MultimodalClassifier, self).__init__()\n",
        "    self.bert = BertModel.from_pretrained(PRE_TRAINED_MODEL_NAME)\n",
        "    self.vgg = vgg19(pretrained=True)\n",
        "    self.features_conv = self.vgg.features[:36]\n",
        "    self.features_final = self.vgg.classifier[:-1]\n",
        "    self.max_pool = nn.MaxPool2d(kernel_size=2, stride=2, padding=0, dilation=1, ceil_mode=False)\n",
        "    self.drop = nn.Dropout(p=0.3)\n",
        "    self.combined_fc1 = nn.Linear(self.bert.config.hidden_size + 4096, 256)\n",
        "    self.combined_fc_final = nn.Linear(256, n_classes)\n",
        "  \n",
        "  def forward(self, x, input_ids, attention_mask):\n",
        "    x = self.features_conv(x)\n",
        "    x = self.max_pool(x)\n",
        "    x = x.view((x.size(0), -1))\n",
        "    x = self.features_final(x)\n",
        "\n",
        "    last_hidden_state, pooled_output = self.bert(\n",
        "      input_ids=input_ids,\n",
        "      attention_mask=attention_mask,\n",
        "      return_dict=False\n",
        "    )\n",
        "\n",
        "    combined = torch.cat((x, pooled_output), 1)\n",
        "    combined = F.relu(self.combined_fc1(combined))\n",
        "    combined = F.relu(self.combined_fc_final(combined))\n",
        "\n",
        "    return combined"
      ]
    },
    {
      "cell_type": "code",
      "execution_count": 17,
      "metadata": {
        "colab": {
          "base_uri": "https://localhost:8080/"
        },
        "id": "wXPRTxo5Nwvs",
        "outputId": "f907c7ec-dd04-4d24-e7bc-235305eb9085"
      },
      "outputs": [
        {
          "output_type": "stream",
          "name": "stdout",
          "text": [
            "Currently using device: cuda\n",
            "\n"
          ]
        },
        {
          "output_type": "stream",
          "name": "stderr",
          "text": [
            "Some weights of the model checkpoint at bert-base-cased were not used when initializing BertModel: ['cls.seq_relationship.bias', 'cls.predictions.transform.LayerNorm.bias', 'cls.predictions.transform.LayerNorm.weight', 'cls.predictions.transform.dense.bias', 'cls.predictions.transform.dense.weight', 'cls.predictions.bias', 'cls.predictions.decoder.weight', 'cls.seq_relationship.weight']\n",
            "- This IS expected if you are initializing BertModel from the checkpoint of a model trained on another task or with another architecture (e.g. initializing a BertForSequenceClassification model from a BertForPreTraining model).\n",
            "- This IS NOT expected if you are initializing BertModel from the checkpoint of a model that you expect to be exactly identical (initializing a BertForSequenceClassification model from a BertForSequenceClassification model).\n"
          ]
        }
      ],
      "source": [
        "print(\"Currently using device: {}\\n\".format(DEVICE))\n",
        "\n",
        "model = MultimodalClassifier(n_classes=2)\n",
        "model = model.to(DEVICE)"
      ]
    },
    {
      "cell_type": "code",
      "execution_count": 18,
      "metadata": {
        "colab": {
          "base_uri": "https://localhost:8080/"
        },
        "id": "AKlDsbOqSvDY",
        "outputId": "c7fc6d60-0271-4f72-cc85-b2cf31bce475"
      },
      "outputs": [
        {
          "output_type": "stream",
          "name": "stdout",
          "text": [
            "Training Started...\n"
          ]
        },
        {
          "output_type": "stream",
          "name": "stderr",
          "text": [
            "/usr/local/lib/python3.7/dist-packages/transformers/optimization.py:309: FutureWarning: This implementation of AdamW is deprecated and will be removed in a future version. Use the PyTorch implementation torch.optim.AdamW instead, or set `no_deprecation_warning=True` to disable this warning\n",
            "  FutureWarning,\n"
          ]
        },
        {
          "output_type": "stream",
          "name": "stdout",
          "text": [
            "Epoch: 0\n",
            "Train accuracy: 0.4871639782382596\n",
            "Train loss 0.7649265316224867\n",
            "\n"
          ]
        }
      ],
      "source": [
        "print(\"Training Started...\")\n",
        "# criterion = nn.BCEWithLogitsLoss() # this means the sigmoid is INCORPORATED into the loss!!\n",
        "criterion = nn.CrossEntropyLoss()\n",
        "optimizer = AdamW(model.parameters(), lr=LEARNING_RATE, correct_bias=False)\n",
        "model.train()\n",
        "\n",
        "\n",
        "for epoch in range(EPOCHS):\n",
        "  total_acc_train = 0\n",
        "  total_loss_train = 0\n",
        "\n",
        "  for text_features, image_features in zip(text_dataloader, image_dataloader):\n",
        "    input_ids = text_features[\"input_ids\"].to(DEVICE)\n",
        "    attention_masks = text_features[\"attention_mask\"].to(DEVICE)\n",
        "    targets = text_features[\"targets\"].to(DEVICE)\n",
        "    image_features = image_features.to(DEVICE)\n",
        "\n",
        "    model.zero_grad()\n",
        "    output = model(image_features, input_ids, attention_masks)\n",
        "    loss = criterion(torch.round(torch.sigmoid(output.squeeze())), targets.float())\n",
        "    loss.backward()\n",
        "    # nn.utils.clip_grad_norm_(model.parameters(), CLIP)\n",
        "    optimizer.step()\n",
        "    \n",
        "    with torch.no_grad():\n",
        "      acc = torch.abs(torch.round(torch.sigmoid(output.squeeze())) - targets.float()).view(-1)\n",
        "      acc = (1. - acc.sum() / acc.size()[0])\n",
        "      total_acc_train += acc.item()\n",
        "      total_loss_train += loss.item()\n",
        "    \n",
        "  train_acc = total_acc_train / len(text_dataloader)\n",
        "  train_loss = total_loss_train / len(text_dataloader)\n",
        "  print(\"Epoch:\", epoch)\n",
        "  print(\"Train accuracy:\", train_acc)\n",
        "  print(\"Train loss\", train_loss)\n",
        "  print()\n",
        "\n",
        "torch.save(model.state_dict(), ROOT_DIR + \"early_funsion.pt\")"
      ]
    },
    {
      "cell_type": "code",
      "source": [
        "model.eval()"
      ],
      "metadata": {
        "colab": {
          "base_uri": "https://localhost:8080/"
        },
        "id": "IUFBNgkJswJm",
        "outputId": "091bcf37-0c74-47f8-fc62-d0cf2084871b"
      },
      "execution_count": 19,
      "outputs": [
        {
          "output_type": "execute_result",
          "data": {
            "text/plain": [
              "MultimodalClassifier(\n",
              "  (bert): BertModel(\n",
              "    (embeddings): BertEmbeddings(\n",
              "      (word_embeddings): Embedding(28996, 768, padding_idx=0)\n",
              "      (position_embeddings): Embedding(512, 768)\n",
              "      (token_type_embeddings): Embedding(2, 768)\n",
              "      (LayerNorm): LayerNorm((768,), eps=1e-12, elementwise_affine=True)\n",
              "      (dropout): Dropout(p=0.1, inplace=False)\n",
              "    )\n",
              "    (encoder): BertEncoder(\n",
              "      (layer): ModuleList(\n",
              "        (0): BertLayer(\n",
              "          (attention): BertAttention(\n",
              "            (self): BertSelfAttention(\n",
              "              (query): Linear(in_features=768, out_features=768, bias=True)\n",
              "              (key): Linear(in_features=768, out_features=768, bias=True)\n",
              "              (value): Linear(in_features=768, out_features=768, bias=True)\n",
              "              (dropout): Dropout(p=0.1, inplace=False)\n",
              "            )\n",
              "            (output): BertSelfOutput(\n",
              "              (dense): Linear(in_features=768, out_features=768, bias=True)\n",
              "              (LayerNorm): LayerNorm((768,), eps=1e-12, elementwise_affine=True)\n",
              "              (dropout): Dropout(p=0.1, inplace=False)\n",
              "            )\n",
              "          )\n",
              "          (intermediate): BertIntermediate(\n",
              "            (dense): Linear(in_features=768, out_features=3072, bias=True)\n",
              "            (intermediate_act_fn): GELUActivation()\n",
              "          )\n",
              "          (output): BertOutput(\n",
              "            (dense): Linear(in_features=3072, out_features=768, bias=True)\n",
              "            (LayerNorm): LayerNorm((768,), eps=1e-12, elementwise_affine=True)\n",
              "            (dropout): Dropout(p=0.1, inplace=False)\n",
              "          )\n",
              "        )\n",
              "        (1): BertLayer(\n",
              "          (attention): BertAttention(\n",
              "            (self): BertSelfAttention(\n",
              "              (query): Linear(in_features=768, out_features=768, bias=True)\n",
              "              (key): Linear(in_features=768, out_features=768, bias=True)\n",
              "              (value): Linear(in_features=768, out_features=768, bias=True)\n",
              "              (dropout): Dropout(p=0.1, inplace=False)\n",
              "            )\n",
              "            (output): BertSelfOutput(\n",
              "              (dense): Linear(in_features=768, out_features=768, bias=True)\n",
              "              (LayerNorm): LayerNorm((768,), eps=1e-12, elementwise_affine=True)\n",
              "              (dropout): Dropout(p=0.1, inplace=False)\n",
              "            )\n",
              "          )\n",
              "          (intermediate): BertIntermediate(\n",
              "            (dense): Linear(in_features=768, out_features=3072, bias=True)\n",
              "            (intermediate_act_fn): GELUActivation()\n",
              "          )\n",
              "          (output): BertOutput(\n",
              "            (dense): Linear(in_features=3072, out_features=768, bias=True)\n",
              "            (LayerNorm): LayerNorm((768,), eps=1e-12, elementwise_affine=True)\n",
              "            (dropout): Dropout(p=0.1, inplace=False)\n",
              "          )\n",
              "        )\n",
              "        (2): BertLayer(\n",
              "          (attention): BertAttention(\n",
              "            (self): BertSelfAttention(\n",
              "              (query): Linear(in_features=768, out_features=768, bias=True)\n",
              "              (key): Linear(in_features=768, out_features=768, bias=True)\n",
              "              (value): Linear(in_features=768, out_features=768, bias=True)\n",
              "              (dropout): Dropout(p=0.1, inplace=False)\n",
              "            )\n",
              "            (output): BertSelfOutput(\n",
              "              (dense): Linear(in_features=768, out_features=768, bias=True)\n",
              "              (LayerNorm): LayerNorm((768,), eps=1e-12, elementwise_affine=True)\n",
              "              (dropout): Dropout(p=0.1, inplace=False)\n",
              "            )\n",
              "          )\n",
              "          (intermediate): BertIntermediate(\n",
              "            (dense): Linear(in_features=768, out_features=3072, bias=True)\n",
              "            (intermediate_act_fn): GELUActivation()\n",
              "          )\n",
              "          (output): BertOutput(\n",
              "            (dense): Linear(in_features=3072, out_features=768, bias=True)\n",
              "            (LayerNorm): LayerNorm((768,), eps=1e-12, elementwise_affine=True)\n",
              "            (dropout): Dropout(p=0.1, inplace=False)\n",
              "          )\n",
              "        )\n",
              "        (3): BertLayer(\n",
              "          (attention): BertAttention(\n",
              "            (self): BertSelfAttention(\n",
              "              (query): Linear(in_features=768, out_features=768, bias=True)\n",
              "              (key): Linear(in_features=768, out_features=768, bias=True)\n",
              "              (value): Linear(in_features=768, out_features=768, bias=True)\n",
              "              (dropout): Dropout(p=0.1, inplace=False)\n",
              "            )\n",
              "            (output): BertSelfOutput(\n",
              "              (dense): Linear(in_features=768, out_features=768, bias=True)\n",
              "              (LayerNorm): LayerNorm((768,), eps=1e-12, elementwise_affine=True)\n",
              "              (dropout): Dropout(p=0.1, inplace=False)\n",
              "            )\n",
              "          )\n",
              "          (intermediate): BertIntermediate(\n",
              "            (dense): Linear(in_features=768, out_features=3072, bias=True)\n",
              "            (intermediate_act_fn): GELUActivation()\n",
              "          )\n",
              "          (output): BertOutput(\n",
              "            (dense): Linear(in_features=3072, out_features=768, bias=True)\n",
              "            (LayerNorm): LayerNorm((768,), eps=1e-12, elementwise_affine=True)\n",
              "            (dropout): Dropout(p=0.1, inplace=False)\n",
              "          )\n",
              "        )\n",
              "        (4): BertLayer(\n",
              "          (attention): BertAttention(\n",
              "            (self): BertSelfAttention(\n",
              "              (query): Linear(in_features=768, out_features=768, bias=True)\n",
              "              (key): Linear(in_features=768, out_features=768, bias=True)\n",
              "              (value): Linear(in_features=768, out_features=768, bias=True)\n",
              "              (dropout): Dropout(p=0.1, inplace=False)\n",
              "            )\n",
              "            (output): BertSelfOutput(\n",
              "              (dense): Linear(in_features=768, out_features=768, bias=True)\n",
              "              (LayerNorm): LayerNorm((768,), eps=1e-12, elementwise_affine=True)\n",
              "              (dropout): Dropout(p=0.1, inplace=False)\n",
              "            )\n",
              "          )\n",
              "          (intermediate): BertIntermediate(\n",
              "            (dense): Linear(in_features=768, out_features=3072, bias=True)\n",
              "            (intermediate_act_fn): GELUActivation()\n",
              "          )\n",
              "          (output): BertOutput(\n",
              "            (dense): Linear(in_features=3072, out_features=768, bias=True)\n",
              "            (LayerNorm): LayerNorm((768,), eps=1e-12, elementwise_affine=True)\n",
              "            (dropout): Dropout(p=0.1, inplace=False)\n",
              "          )\n",
              "        )\n",
              "        (5): BertLayer(\n",
              "          (attention): BertAttention(\n",
              "            (self): BertSelfAttention(\n",
              "              (query): Linear(in_features=768, out_features=768, bias=True)\n",
              "              (key): Linear(in_features=768, out_features=768, bias=True)\n",
              "              (value): Linear(in_features=768, out_features=768, bias=True)\n",
              "              (dropout): Dropout(p=0.1, inplace=False)\n",
              "            )\n",
              "            (output): BertSelfOutput(\n",
              "              (dense): Linear(in_features=768, out_features=768, bias=True)\n",
              "              (LayerNorm): LayerNorm((768,), eps=1e-12, elementwise_affine=True)\n",
              "              (dropout): Dropout(p=0.1, inplace=False)\n",
              "            )\n",
              "          )\n",
              "          (intermediate): BertIntermediate(\n",
              "            (dense): Linear(in_features=768, out_features=3072, bias=True)\n",
              "            (intermediate_act_fn): GELUActivation()\n",
              "          )\n",
              "          (output): BertOutput(\n",
              "            (dense): Linear(in_features=3072, out_features=768, bias=True)\n",
              "            (LayerNorm): LayerNorm((768,), eps=1e-12, elementwise_affine=True)\n",
              "            (dropout): Dropout(p=0.1, inplace=False)\n",
              "          )\n",
              "        )\n",
              "        (6): BertLayer(\n",
              "          (attention): BertAttention(\n",
              "            (self): BertSelfAttention(\n",
              "              (query): Linear(in_features=768, out_features=768, bias=True)\n",
              "              (key): Linear(in_features=768, out_features=768, bias=True)\n",
              "              (value): Linear(in_features=768, out_features=768, bias=True)\n",
              "              (dropout): Dropout(p=0.1, inplace=False)\n",
              "            )\n",
              "            (output): BertSelfOutput(\n",
              "              (dense): Linear(in_features=768, out_features=768, bias=True)\n",
              "              (LayerNorm): LayerNorm((768,), eps=1e-12, elementwise_affine=True)\n",
              "              (dropout): Dropout(p=0.1, inplace=False)\n",
              "            )\n",
              "          )\n",
              "          (intermediate): BertIntermediate(\n",
              "            (dense): Linear(in_features=768, out_features=3072, bias=True)\n",
              "            (intermediate_act_fn): GELUActivation()\n",
              "          )\n",
              "          (output): BertOutput(\n",
              "            (dense): Linear(in_features=3072, out_features=768, bias=True)\n",
              "            (LayerNorm): LayerNorm((768,), eps=1e-12, elementwise_affine=True)\n",
              "            (dropout): Dropout(p=0.1, inplace=False)\n",
              "          )\n",
              "        )\n",
              "        (7): BertLayer(\n",
              "          (attention): BertAttention(\n",
              "            (self): BertSelfAttention(\n",
              "              (query): Linear(in_features=768, out_features=768, bias=True)\n",
              "              (key): Linear(in_features=768, out_features=768, bias=True)\n",
              "              (value): Linear(in_features=768, out_features=768, bias=True)\n",
              "              (dropout): Dropout(p=0.1, inplace=False)\n",
              "            )\n",
              "            (output): BertSelfOutput(\n",
              "              (dense): Linear(in_features=768, out_features=768, bias=True)\n",
              "              (LayerNorm): LayerNorm((768,), eps=1e-12, elementwise_affine=True)\n",
              "              (dropout): Dropout(p=0.1, inplace=False)\n",
              "            )\n",
              "          )\n",
              "          (intermediate): BertIntermediate(\n",
              "            (dense): Linear(in_features=768, out_features=3072, bias=True)\n",
              "            (intermediate_act_fn): GELUActivation()\n",
              "          )\n",
              "          (output): BertOutput(\n",
              "            (dense): Linear(in_features=3072, out_features=768, bias=True)\n",
              "            (LayerNorm): LayerNorm((768,), eps=1e-12, elementwise_affine=True)\n",
              "            (dropout): Dropout(p=0.1, inplace=False)\n",
              "          )\n",
              "        )\n",
              "        (8): BertLayer(\n",
              "          (attention): BertAttention(\n",
              "            (self): BertSelfAttention(\n",
              "              (query): Linear(in_features=768, out_features=768, bias=True)\n",
              "              (key): Linear(in_features=768, out_features=768, bias=True)\n",
              "              (value): Linear(in_features=768, out_features=768, bias=True)\n",
              "              (dropout): Dropout(p=0.1, inplace=False)\n",
              "            )\n",
              "            (output): BertSelfOutput(\n",
              "              (dense): Linear(in_features=768, out_features=768, bias=True)\n",
              "              (LayerNorm): LayerNorm((768,), eps=1e-12, elementwise_affine=True)\n",
              "              (dropout): Dropout(p=0.1, inplace=False)\n",
              "            )\n",
              "          )\n",
              "          (intermediate): BertIntermediate(\n",
              "            (dense): Linear(in_features=768, out_features=3072, bias=True)\n",
              "            (intermediate_act_fn): GELUActivation()\n",
              "          )\n",
              "          (output): BertOutput(\n",
              "            (dense): Linear(in_features=3072, out_features=768, bias=True)\n",
              "            (LayerNorm): LayerNorm((768,), eps=1e-12, elementwise_affine=True)\n",
              "            (dropout): Dropout(p=0.1, inplace=False)\n",
              "          )\n",
              "        )\n",
              "        (9): BertLayer(\n",
              "          (attention): BertAttention(\n",
              "            (self): BertSelfAttention(\n",
              "              (query): Linear(in_features=768, out_features=768, bias=True)\n",
              "              (key): Linear(in_features=768, out_features=768, bias=True)\n",
              "              (value): Linear(in_features=768, out_features=768, bias=True)\n",
              "              (dropout): Dropout(p=0.1, inplace=False)\n",
              "            )\n",
              "            (output): BertSelfOutput(\n",
              "              (dense): Linear(in_features=768, out_features=768, bias=True)\n",
              "              (LayerNorm): LayerNorm((768,), eps=1e-12, elementwise_affine=True)\n",
              "              (dropout): Dropout(p=0.1, inplace=False)\n",
              "            )\n",
              "          )\n",
              "          (intermediate): BertIntermediate(\n",
              "            (dense): Linear(in_features=768, out_features=3072, bias=True)\n",
              "            (intermediate_act_fn): GELUActivation()\n",
              "          )\n",
              "          (output): BertOutput(\n",
              "            (dense): Linear(in_features=3072, out_features=768, bias=True)\n",
              "            (LayerNorm): LayerNorm((768,), eps=1e-12, elementwise_affine=True)\n",
              "            (dropout): Dropout(p=0.1, inplace=False)\n",
              "          )\n",
              "        )\n",
              "        (10): BertLayer(\n",
              "          (attention): BertAttention(\n",
              "            (self): BertSelfAttention(\n",
              "              (query): Linear(in_features=768, out_features=768, bias=True)\n",
              "              (key): Linear(in_features=768, out_features=768, bias=True)\n",
              "              (value): Linear(in_features=768, out_features=768, bias=True)\n",
              "              (dropout): Dropout(p=0.1, inplace=False)\n",
              "            )\n",
              "            (output): BertSelfOutput(\n",
              "              (dense): Linear(in_features=768, out_features=768, bias=True)\n",
              "              (LayerNorm): LayerNorm((768,), eps=1e-12, elementwise_affine=True)\n",
              "              (dropout): Dropout(p=0.1, inplace=False)\n",
              "            )\n",
              "          )\n",
              "          (intermediate): BertIntermediate(\n",
              "            (dense): Linear(in_features=768, out_features=3072, bias=True)\n",
              "            (intermediate_act_fn): GELUActivation()\n",
              "          )\n",
              "          (output): BertOutput(\n",
              "            (dense): Linear(in_features=3072, out_features=768, bias=True)\n",
              "            (LayerNorm): LayerNorm((768,), eps=1e-12, elementwise_affine=True)\n",
              "            (dropout): Dropout(p=0.1, inplace=False)\n",
              "          )\n",
              "        )\n",
              "        (11): BertLayer(\n",
              "          (attention): BertAttention(\n",
              "            (self): BertSelfAttention(\n",
              "              (query): Linear(in_features=768, out_features=768, bias=True)\n",
              "              (key): Linear(in_features=768, out_features=768, bias=True)\n",
              "              (value): Linear(in_features=768, out_features=768, bias=True)\n",
              "              (dropout): Dropout(p=0.1, inplace=False)\n",
              "            )\n",
              "            (output): BertSelfOutput(\n",
              "              (dense): Linear(in_features=768, out_features=768, bias=True)\n",
              "              (LayerNorm): LayerNorm((768,), eps=1e-12, elementwise_affine=True)\n",
              "              (dropout): Dropout(p=0.1, inplace=False)\n",
              "            )\n",
              "          )\n",
              "          (intermediate): BertIntermediate(\n",
              "            (dense): Linear(in_features=768, out_features=3072, bias=True)\n",
              "            (intermediate_act_fn): GELUActivation()\n",
              "          )\n",
              "          (output): BertOutput(\n",
              "            (dense): Linear(in_features=3072, out_features=768, bias=True)\n",
              "            (LayerNorm): LayerNorm((768,), eps=1e-12, elementwise_affine=True)\n",
              "            (dropout): Dropout(p=0.1, inplace=False)\n",
              "          )\n",
              "        )\n",
              "      )\n",
              "    )\n",
              "    (pooler): BertPooler(\n",
              "      (dense): Linear(in_features=768, out_features=768, bias=True)\n",
              "      (activation): Tanh()\n",
              "    )\n",
              "  )\n",
              "  (vgg): VGG(\n",
              "    (features): Sequential(\n",
              "      (0): Conv2d(3, 64, kernel_size=(3, 3), stride=(1, 1), padding=(1, 1))\n",
              "      (1): ReLU(inplace=True)\n",
              "      (2): Conv2d(64, 64, kernel_size=(3, 3), stride=(1, 1), padding=(1, 1))\n",
              "      (3): ReLU(inplace=True)\n",
              "      (4): MaxPool2d(kernel_size=2, stride=2, padding=0, dilation=1, ceil_mode=False)\n",
              "      (5): Conv2d(64, 128, kernel_size=(3, 3), stride=(1, 1), padding=(1, 1))\n",
              "      (6): ReLU(inplace=True)\n",
              "      (7): Conv2d(128, 128, kernel_size=(3, 3), stride=(1, 1), padding=(1, 1))\n",
              "      (8): ReLU(inplace=True)\n",
              "      (9): MaxPool2d(kernel_size=2, stride=2, padding=0, dilation=1, ceil_mode=False)\n",
              "      (10): Conv2d(128, 256, kernel_size=(3, 3), stride=(1, 1), padding=(1, 1))\n",
              "      (11): ReLU(inplace=True)\n",
              "      (12): Conv2d(256, 256, kernel_size=(3, 3), stride=(1, 1), padding=(1, 1))\n",
              "      (13): ReLU(inplace=True)\n",
              "      (14): Conv2d(256, 256, kernel_size=(3, 3), stride=(1, 1), padding=(1, 1))\n",
              "      (15): ReLU(inplace=True)\n",
              "      (16): Conv2d(256, 256, kernel_size=(3, 3), stride=(1, 1), padding=(1, 1))\n",
              "      (17): ReLU(inplace=True)\n",
              "      (18): MaxPool2d(kernel_size=2, stride=2, padding=0, dilation=1, ceil_mode=False)\n",
              "      (19): Conv2d(256, 512, kernel_size=(3, 3), stride=(1, 1), padding=(1, 1))\n",
              "      (20): ReLU(inplace=True)\n",
              "      (21): Conv2d(512, 512, kernel_size=(3, 3), stride=(1, 1), padding=(1, 1))\n",
              "      (22): ReLU(inplace=True)\n",
              "      (23): Conv2d(512, 512, kernel_size=(3, 3), stride=(1, 1), padding=(1, 1))\n",
              "      (24): ReLU(inplace=True)\n",
              "      (25): Conv2d(512, 512, kernel_size=(3, 3), stride=(1, 1), padding=(1, 1))\n",
              "      (26): ReLU(inplace=True)\n",
              "      (27): MaxPool2d(kernel_size=2, stride=2, padding=0, dilation=1, ceil_mode=False)\n",
              "      (28): Conv2d(512, 512, kernel_size=(3, 3), stride=(1, 1), padding=(1, 1))\n",
              "      (29): ReLU(inplace=True)\n",
              "      (30): Conv2d(512, 512, kernel_size=(3, 3), stride=(1, 1), padding=(1, 1))\n",
              "      (31): ReLU(inplace=True)\n",
              "      (32): Conv2d(512, 512, kernel_size=(3, 3), stride=(1, 1), padding=(1, 1))\n",
              "      (33): ReLU(inplace=True)\n",
              "      (34): Conv2d(512, 512, kernel_size=(3, 3), stride=(1, 1), padding=(1, 1))\n",
              "      (35): ReLU(inplace=True)\n",
              "      (36): MaxPool2d(kernel_size=2, stride=2, padding=0, dilation=1, ceil_mode=False)\n",
              "    )\n",
              "    (avgpool): AdaptiveAvgPool2d(output_size=(7, 7))\n",
              "    (classifier): Sequential(\n",
              "      (0): Linear(in_features=25088, out_features=4096, bias=True)\n",
              "      (1): ReLU(inplace=True)\n",
              "      (2): Dropout(p=0.5, inplace=False)\n",
              "      (3): Linear(in_features=4096, out_features=4096, bias=True)\n",
              "      (4): ReLU(inplace=True)\n",
              "      (5): Dropout(p=0.5, inplace=False)\n",
              "      (6): Linear(in_features=4096, out_features=1000, bias=True)\n",
              "    )\n",
              "  )\n",
              "  (features_conv): Sequential(\n",
              "    (0): Conv2d(3, 64, kernel_size=(3, 3), stride=(1, 1), padding=(1, 1))\n",
              "    (1): ReLU(inplace=True)\n",
              "    (2): Conv2d(64, 64, kernel_size=(3, 3), stride=(1, 1), padding=(1, 1))\n",
              "    (3): ReLU(inplace=True)\n",
              "    (4): MaxPool2d(kernel_size=2, stride=2, padding=0, dilation=1, ceil_mode=False)\n",
              "    (5): Conv2d(64, 128, kernel_size=(3, 3), stride=(1, 1), padding=(1, 1))\n",
              "    (6): ReLU(inplace=True)\n",
              "    (7): Conv2d(128, 128, kernel_size=(3, 3), stride=(1, 1), padding=(1, 1))\n",
              "    (8): ReLU(inplace=True)\n",
              "    (9): MaxPool2d(kernel_size=2, stride=2, padding=0, dilation=1, ceil_mode=False)\n",
              "    (10): Conv2d(128, 256, kernel_size=(3, 3), stride=(1, 1), padding=(1, 1))\n",
              "    (11): ReLU(inplace=True)\n",
              "    (12): Conv2d(256, 256, kernel_size=(3, 3), stride=(1, 1), padding=(1, 1))\n",
              "    (13): ReLU(inplace=True)\n",
              "    (14): Conv2d(256, 256, kernel_size=(3, 3), stride=(1, 1), padding=(1, 1))\n",
              "    (15): ReLU(inplace=True)\n",
              "    (16): Conv2d(256, 256, kernel_size=(3, 3), stride=(1, 1), padding=(1, 1))\n",
              "    (17): ReLU(inplace=True)\n",
              "    (18): MaxPool2d(kernel_size=2, stride=2, padding=0, dilation=1, ceil_mode=False)\n",
              "    (19): Conv2d(256, 512, kernel_size=(3, 3), stride=(1, 1), padding=(1, 1))\n",
              "    (20): ReLU(inplace=True)\n",
              "    (21): Conv2d(512, 512, kernel_size=(3, 3), stride=(1, 1), padding=(1, 1))\n",
              "    (22): ReLU(inplace=True)\n",
              "    (23): Conv2d(512, 512, kernel_size=(3, 3), stride=(1, 1), padding=(1, 1))\n",
              "    (24): ReLU(inplace=True)\n",
              "    (25): Conv2d(512, 512, kernel_size=(3, 3), stride=(1, 1), padding=(1, 1))\n",
              "    (26): ReLU(inplace=True)\n",
              "    (27): MaxPool2d(kernel_size=2, stride=2, padding=0, dilation=1, ceil_mode=False)\n",
              "    (28): Conv2d(512, 512, kernel_size=(3, 3), stride=(1, 1), padding=(1, 1))\n",
              "    (29): ReLU(inplace=True)\n",
              "    (30): Conv2d(512, 512, kernel_size=(3, 3), stride=(1, 1), padding=(1, 1))\n",
              "    (31): ReLU(inplace=True)\n",
              "    (32): Conv2d(512, 512, kernel_size=(3, 3), stride=(1, 1), padding=(1, 1))\n",
              "    (33): ReLU(inplace=True)\n",
              "    (34): Conv2d(512, 512, kernel_size=(3, 3), stride=(1, 1), padding=(1, 1))\n",
              "    (35): ReLU(inplace=True)\n",
              "  )\n",
              "  (features_final): Sequential(\n",
              "    (0): Linear(in_features=25088, out_features=4096, bias=True)\n",
              "    (1): ReLU(inplace=True)\n",
              "    (2): Dropout(p=0.5, inplace=False)\n",
              "    (3): Linear(in_features=4096, out_features=4096, bias=True)\n",
              "    (4): ReLU(inplace=True)\n",
              "    (5): Dropout(p=0.5, inplace=False)\n",
              "  )\n",
              "  (max_pool): MaxPool2d(kernel_size=2, stride=2, padding=0, dilation=1, ceil_mode=False)\n",
              "  (drop): Dropout(p=0.3, inplace=False)\n",
              "  (combined_fc1): Linear(in_features=4864, out_features=256, bias=True)\n",
              "  (combined_fc_final): Linear(in_features=256, out_features=2, bias=True)\n",
              ")"
            ]
          },
          "metadata": {},
          "execution_count": 19
        }
      ]
    },
    {
      "cell_type": "code",
      "execution_count": 20,
      "metadata": {
        "id": "PYoHm1SnAH4y"
      },
      "outputs": [],
      "source": [
        "# model.load_state_dict(torch.load(ROOT_DIR + \"early_funsion.pt\"))"
      ]
    },
    {
      "cell_type": "code",
      "execution_count": 23,
      "metadata": {
        "id": "RGMqqRpeAIA4",
        "colab": {
          "base_uri": "https://localhost:8080/"
        },
        "outputId": "461fedbe-efe5-4dee-f4e5-90af1a72d2e2"
      },
      "outputs": [
        {
          "output_type": "execute_result",
          "data": {
            "text/plain": [
              "tensor([[0.0333, 0.0675]], device='cuda:0', grad_fn=<ReluBackward0>)"
            ]
          },
          "metadata": {},
          "execution_count": 23
        }
      ],
      "source": [
        "# model(sample_image, sample_encoding[\"input_ids\"], sample_encoding[\"attention_mask\"])"
      ]
    },
    {
      "cell_type": "markdown",
      "source": [
        "# Explainer"
      ],
      "metadata": {
        "id": "sNahzKPDFx_l"
      }
    },
    {
      "cell_type": "code",
      "source": [
        "# class MultimodalIntermediate(nn.Module):\n",
        "#   def __init__(self, n_classes):\n",
        "#     super(MultimodalIntermediate, self).__init__()\n",
        "#     self.bert = BertModel.from_pretrained(PRE_TRAINED_MODEL_NAME)\n",
        "#     self.vgg = vgg19(pretrained=True)\n",
        "#     self.features_conv = self.vgg.features[:36]\n",
        "#     self.features_final = self.vgg.classifier[:-1]\n",
        "#     self.max_pool = nn.MaxPool2d(kernel_size=2, stride=2, padding=0, dilation=1, ceil_mode=False)\n",
        "#     self.drop = nn.Dropout(p=0.3)\n",
        "#     self.combined_fc1 = nn.Linear(self.bert.config.hidden_size + 4096, 256)\n",
        "#     self.combined_fc_final = nn.Linear(256, n_classes)\n",
        "\n",
        "#     self.vision_gradients = None\n",
        "\n",
        "#   def vision_activations_hook(self, grad):\n",
        "#       self.vision_gradients = grad\n",
        "  \n",
        "#   def forward(self, x, input_ids, attention_mask):\n",
        "#     x = self.features_conv(x)\n",
        "#     h_vision = x.register_hook(self.vision_activations_hook)\n",
        "#     x = self.max_pool(x)\n",
        "#     x = x.view((x.size(0), -1))\n",
        "#     x = self.features_final(x)\n",
        "\n",
        "#     last_hidden_state, pooled_output = self.bert(\n",
        "#       input_ids=input_ids,\n",
        "#       attention_mask=attention_mask,\n",
        "#       return_dict=False\n",
        "#     )\n",
        "\n",
        "#     combined = torch.cat((x, pooled_output), 1)\n",
        "#     combined = F.relu(self.combined_fc1(combined))\n",
        "#     combined = F.relu(self.combined_fc_final(combined))\n",
        "\n",
        "#     return combined\n",
        "\n",
        "#   def get_vision_gradient(self):\n",
        "#     return self.vision_gradients"
      ],
      "metadata": {
        "id": "damGpUE8UVMe"
      },
      "execution_count": 24,
      "outputs": []
    },
    {
      "cell_type": "code",
      "execution_count": 35,
      "metadata": {
        "id": "CgUGUZ3HAIDG"
      },
      "outputs": [],
      "source": [
        "class MultimodalExplainer(nn.Module):\n",
        "  # This somehow only works for batch = 1, but this is enough for a case-by-case explainer for our current need\n",
        "  def __init__(self, n_classes):\n",
        "    super(MultimodalExplainer, self).__init__()\n",
        "    self.bert = BertModel.from_pretrained(PRE_TRAINED_MODEL_NAME)\n",
        "    self.vgg = vgg19(pretrained=True)\n",
        "    self.features_conv = self.vgg.features[:36]\n",
        "    self.features_final = self.vgg.classifier[:-1]\n",
        "    self.max_pool = nn.MaxPool2d(kernel_size=2, stride=2, padding=0, dilation=1, ceil_mode=False)\n",
        "    self.drop = nn.Dropout(p=0.3)\n",
        "    self.combined_fc1 = nn.Linear(self.bert.config.hidden_size + 4096, 256)\n",
        "    self.combined_fc_final = nn.Linear(256, n_classes)\n",
        "\n",
        "    self.raw_image_input = None\n",
        "    self.raw_language_input = None\n",
        "    \n",
        "    # placeholder for the gradients\n",
        "    self.vision_gradients = None\n",
        "    self.language_gradients = None\n",
        "\n",
        "  # hook for the gradients of the activations\n",
        "  def vision_activations_hook(self, grad):\n",
        "      self.vision_gradients = grad\n",
        "  \n",
        "  def language_activations_hook(self, grad):\n",
        "      self.language_gradients = grad\n",
        "\n",
        "  def forward(self, x, input_ids, attention_mask):\n",
        "    self.raw_image_input = x.clone().detach().cpu().numpy()\n",
        "    x = self.features_conv(x)\n",
        "    h_vision = x.register_hook(self.vision_activations_hook)\n",
        "    x = self.max_pool(x)\n",
        "    x = x.view((x.size(0), -1))\n",
        "    x = self.features_final(x)\n",
        "    \n",
        "    self.raw_language_input = input_ids.clone().detach().cpu().numpy()\n",
        "    for module_pos, module in self.bert._modules.items():\n",
        "      if module_pos == \"embeddings\":\n",
        "        y = module(input_ids=input_ids)\n",
        "        h_language = y.register_hook(self.language_activations_hook)\n",
        "      elif module_pos == \"encoder\":\n",
        "        y = module(hidden_states=y, attention_mask=attention_mask, head_mask=None, encoder_hidden_states=None, encoder_attention_mask=None).last_hidden_state\n",
        "      else:\n",
        "        pooled_output = module(hidden_states=y)\n",
        "        last_hidden_state = y\n",
        "    \n",
        "    combined = torch.cat((x, pooled_output), 1)\n",
        "    combined = F.relu(self.combined_fc1(combined))\n",
        "    combined = F.relu(self.combined_fc_final(combined))\n",
        "    return combined\n",
        "  \n",
        "  def get_vision_gradient(self):\n",
        "    return self.vision_gradients\n",
        "\n",
        "  def get_language_gradient(self):\n",
        "    return self.language_gradients\n",
        "  \n",
        "   # method for the activation exctraction\n",
        "  def get_vision_activations(self, x):\n",
        "    return self.features_conv(x).detach().cpu().numpy()\n",
        "  \n",
        "  def get_language_activations(self):\n",
        "    return self.raw_language_input\n",
        "\n",
        "  def get_raw_vision_input(self):\n",
        "    return self.raw_image_input\n",
        "\n",
        "  def get_raw_language_input(self):\n",
        "    return self.raw_language_input\n"
      ]
    },
    {
      "cell_type": "code",
      "execution_count": 36,
      "metadata": {
        "id": "jEC7hNr-AIFT",
        "colab": {
          "base_uri": "https://localhost:8080/"
        },
        "outputId": "c1aae47c-b4af-40e2-aafd-e0e1aec3f7dd"
      },
      "outputs": [
        {
          "output_type": "stream",
          "name": "stderr",
          "text": [
            "Some weights of the model checkpoint at bert-base-cased were not used when initializing BertModel: ['cls.seq_relationship.bias', 'cls.predictions.transform.LayerNorm.bias', 'cls.predictions.transform.LayerNorm.weight', 'cls.predictions.transform.dense.bias', 'cls.predictions.transform.dense.weight', 'cls.predictions.bias', 'cls.predictions.decoder.weight', 'cls.seq_relationship.weight']\n",
            "- This IS expected if you are initializing BertModel from the checkpoint of a model trained on another task or with another architecture (e.g. initializing a BertForSequenceClassification model from a BertForPreTraining model).\n",
            "- This IS NOT expected if you are initializing BertModel from the checkpoint of a model that you expect to be exactly identical (initializing a BertForSequenceClassification model from a BertForSequenceClassification model).\n"
          ]
        }
      ],
      "source": [
        "model_explainer = MultimodalExplainer(n_classes=2)\n",
        "model_explainer.load_state_dict(torch.load(ROOT_DIR + \"early_funsion.pt\"))\n",
        "model_explainer = model_explainer.to(DEVICE)\n",
        "model_explainer = model_explainer.eval()"
      ]
    },
    {
      "cell_type": "code",
      "source": [
        "# Update the three fields\n",
        "sample_image_path = DATASET_DIR + \"img/25489.png\"\n",
        "sample_text = \"brother... a day without a blast is a day wasted\"\n",
        "sample_label = 1\n",
        "\n",
        "sample_image = Image.open(sample_image_path)\n",
        "sample_image = imagenet_transform(sample_image)\n",
        "sample_image = sample_image[None, :]\n",
        "\n",
        "\n",
        "sample_encoding = tokenizer.encode_plus(\n",
        "      sample_text,\n",
        "      add_special_tokens=True,\n",
        "      max_length=160,\n",
        "      return_token_type_ids=False,\n",
        "      # pad_to_max_length=True,\n",
        "      padding=\"max_length\",\n",
        "      return_attention_mask=True,\n",
        "      return_tensors='pt',\n",
        "    )\n",
        "sample_image = sample_image.to(DEVICE)\n",
        "sample_encoding = sample_encoding.to(DEVICE)"
      ],
      "metadata": {
        "id": "yUMHWOBCBc3U"
      },
      "execution_count": 61,
      "outputs": []
    },
    {
      "cell_type": "code",
      "source": [
        "# outputs = model_explainer(sample_image, sample_encoding[\"input_ids\"], None)\n",
        "outputs = model_explainer(sample_image, sample_encoding[\"input_ids\"], sample_encoding[\"attention_mask\"])\n",
        "probs = F.softmax(outputs, dim=1)\n",
        "_, preds = torch.max(outputs, dim=1)\n",
        "pred_index = preds.detach().cpu().numpy()[0]\n",
        "outputs[:, pred_index].backward()"
      ],
      "metadata": {
        "id": "ynpv_5NHF9sQ"
      },
      "execution_count": 62,
      "outputs": []
    },
    {
      "cell_type": "code",
      "source": [
        "vision_gradients = model_explainer.get_vision_gradient()\n",
        "# pool the gradients across the channels, so that each channel have one gradient value\n",
        "pooled_vision_gradients = torch.mean(vision_gradients, dim=[0, 2, 3])\n",
        "pooled_vision_gradients_np = pooled_vision_gradients.detach().cpu().numpy()\n",
        "\n",
        "# get the activations of the last convolutional layer\n",
        "raw_vision_activations = model_explainer.get_vision_activations(sample_image)\n",
        "vision_activations = np.zeros(raw_vision_activations.shape)\n",
        "\n",
        "# weight the channels by corresponding gradients\n",
        "for i in range(vision_activations[0].shape[0]):\n",
        "  vision_activations[:, i, :, :] = raw_vision_activations[:, i, :, :] * pooled_vision_gradients_np[i]\n",
        "    \n",
        "# average the channels of the activations\n",
        "vision_heatmap = torch.mean(torch.from_numpy(vision_activations), axis=1).squeeze()\n",
        "\n",
        "# relu on top of the heatmap\n",
        "# expression (2) in https://arxiv.org/pdf/1610.02391.pdf\n",
        "vision_heatmap = np.maximum(vision_heatmap, 0)\n",
        "\n",
        "\n",
        "# normalize the heatmap\n",
        "vision_heatmap /= torch.max(vision_heatmap)"
      ],
      "metadata": {
        "id": "6Bscwe3oMQqY"
      },
      "execution_count": 63,
      "outputs": []
    },
    {
      "cell_type": "code",
      "source": [
        "# Plot heatmap together with the image from ORIGINAL RESOLUTION\n",
        "plot_image = cv2.imread(sample_image_path)\n",
        "updated_vision_heatmap = cv2.resize(np.array(vision_heatmap), (plot_image.shape[1], plot_image.shape[0]))\n",
        "updated_vision_heatmap = np.uint8(255 * updated_vision_heatmap)\n",
        "updated_vision_heatmap = cv2.applyColorMap(updated_vision_heatmap, cv2.COLORMAP_JET)\n",
        "superimposed_img = updated_vision_heatmap * 0.5 + plot_image\n",
        "\n",
        "f = plt.figure()\n",
        "f.add_subplot(1, 3, 1)\n",
        "plt.imshow(plot_image)\n",
        "f.add_subplot(1, 3, 2)\n",
        "plt.imshow(vision_heatmap)\n",
        "f.add_subplot(1, 3, 3)\n",
        "plt.imshow(superimposed_img / np.max(superimposed_img))\n",
        "plt.show(block=True)\n",
        "print(sample_text)\n",
        "print(sample_label)"
      ],
      "metadata": {
        "colab": {
          "base_uri": "https://localhost:8080/",
          "height": 182
        },
        "id": "cEzK31zNNTAC",
        "outputId": "9f824c5e-6fcd-41e4-e942-ff616ed316ee"
      },
      "execution_count": 65,
      "outputs": [
        {
          "output_type": "display_data",
          "data": {
            "text/plain": [
              "<Figure size 432x288 with 3 Axes>"
            ],
            "image/png": "[encoded data removed]"
          },
          "metadata": {
            "needs_background": "light"
          }
        },
        {
          "output_type": "stream",
          "name": "stdout",
          "text": [
            "brother... a day without a blast is a day wasted\n",
            "1\n"
          ]
        }
      ]
    },
    {
      "cell_type": "code",
      "source": [
        "language_gradients = model_explainer.get_language_gradient()\n",
        "pooled_language_gradients = torch.mean(language_gradients, dim=2)\n",
        "pooled_language_gradients_np = pooled_language_gradients.detach().cpu().numpy()"
      ],
      "metadata": {
        "id": "n_UcpfFZOrCw"
      },
      "execution_count": 66,
      "outputs": []
    },
    {
      "cell_type": "code",
      "source": [
        "np.argmax(pooled_language_gradients_np)"
      ],
      "metadata": {
        "colab": {
          "base_uri": "https://localhost:8080/"
        },
        "id": "byR8oomJCgDT",
        "outputId": "acdac8d7-17aa-4982-bfac-a643a8e826fb"
      },
      "execution_count": 67,
      "outputs": [
        {
          "output_type": "execute_result",
          "data": {
            "text/plain": [
              "10"
            ]
          },
          "metadata": {},
          "execution_count": 67
        }
      ]
    },
    {
      "cell_type": "code",
      "source": [
        "tokens = tokenizer.convert_ids_to_tokens(sample_encoding[\"input_ids\"][0])\n",
        "tokens[np.argmax(pooled_language_gradients_np) - 2 : np.argmax(pooled_language_gradients_np) + 2]"
      ],
      "metadata": {
        "id": "ohnHsmWdOeaa",
        "colab": {
          "base_uri": "https://localhost:8080/"
        },
        "outputId": "cbbbef9c-3253-4e3a-d174-9b2f28ea4a35"
      },
      "execution_count": 68,
      "outputs": [
        {
          "output_type": "execute_result",
          "data": {
            "text/plain": [
              "['a', 'blast', 'is', 'a']"
            ]
          },
          "metadata": {},
          "execution_count": 68
        }
      ]
    },
    {
      "cell_type": "code",
      "source": [
        ""
      ],
      "metadata": {
        "id": "WTAYfS5dCdFy"
      },
      "execution_count": null,
      "outputs": []
    }
  ],
  "metadata": {
    "accelerator": "GPU",
    "colab": {
      "collapsed_sections": [],
      "machine_shape": "hm",
      "name": "multimodal_gradcam.ipynb",
      "provenance": []
    },
    "kernelspec": {
      "display_name": "Python 3",
      "name": "python3"
    },
    "language_info": {
      "name": "python"
    }
  },
  "nbformat": 4,
  "nbformat_minor": 0
}