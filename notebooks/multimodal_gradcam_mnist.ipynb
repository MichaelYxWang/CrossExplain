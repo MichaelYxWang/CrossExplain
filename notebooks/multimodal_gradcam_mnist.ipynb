{
 "cells": [
  {
   "cell_type": "code",
   "execution_count": 1,
   "metadata": {
    "colab": {
     "base_uri": "https://localhost:8080/"
    },
    "id": "F6TYShLC5ydW",
    "outputId": "4d089da5-261d-43f6-bfa1-4a4485e66ce9"
   },
   "outputs": [
    {
     "name": "stdout",
     "output_type": "stream",
     "text": [
      "Requirement already satisfied: transformers in /opt/anaconda3/lib/python3.9/site-packages (4.18.0)\n",
      "Requirement already satisfied: sacremoses in /opt/anaconda3/lib/python3.9/site-packages (from transformers) (0.0.49)\n",
      "Requirement already satisfied: pyyaml>=5.1 in /opt/anaconda3/lib/python3.9/site-packages (from transformers) (6.0)\n",
      "Requirement already satisfied: packaging>=20.0 in /opt/anaconda3/lib/python3.9/site-packages (from transformers) (21.0)\n",
      "Requirement already satisfied: numpy>=1.17 in /opt/anaconda3/lib/python3.9/site-packages (from transformers) (1.20.3)\n",
      "Requirement already satisfied: tqdm>=4.27 in /opt/anaconda3/lib/python3.9/site-packages (from transformers) (4.62.3)\n",
      "Requirement already satisfied: tokenizers!=0.11.3,<0.13,>=0.11.1 in /opt/anaconda3/lib/python3.9/site-packages (from transformers) (0.12.1)\n",
      "Requirement already satisfied: huggingface-hub<1.0,>=0.1.0 in /opt/anaconda3/lib/python3.9/site-packages (from transformers) (0.5.1)\n",
      "Requirement already satisfied: requests in /opt/anaconda3/lib/python3.9/site-packages (from transformers) (2.26.0)\n",
      "Requirement already satisfied: regex!=2019.12.17 in /opt/anaconda3/lib/python3.9/site-packages (from transformers) (2021.8.3)\n",
      "Requirement already satisfied: filelock in /opt/anaconda3/lib/python3.9/site-packages (from transformers) (3.3.1)\n",
      "Requirement already satisfied: typing-extensions>=3.7.4.3 in /opt/anaconda3/lib/python3.9/site-packages (from huggingface-hub<1.0,>=0.1.0->transformers) (3.10.0.2)\n",
      "Requirement already satisfied: pyparsing>=2.0.2 in /opt/anaconda3/lib/python3.9/site-packages (from packaging>=20.0->transformers) (3.0.4)\n",
      "Requirement already satisfied: charset-normalizer~=2.0.0 in /opt/anaconda3/lib/python3.9/site-packages (from requests->transformers) (2.0.4)\n",
      "Requirement already satisfied: urllib3<1.27,>=1.21.1 in /opt/anaconda3/lib/python3.9/site-packages (from requests->transformers) (1.26.7)\n",
      "Requirement already satisfied: idna<4,>=2.5 in /opt/anaconda3/lib/python3.9/site-packages (from requests->transformers) (3.2)\n",
      "Requirement already satisfied: certifi>=2017.4.17 in /opt/anaconda3/lib/python3.9/site-packages (from requests->transformers) (2021.10.8)\n",
      "Requirement already satisfied: six in /opt/anaconda3/lib/python3.9/site-packages (from sacremoses->transformers) (1.16.0)\n",
      "Requirement already satisfied: click in /opt/anaconda3/lib/python3.9/site-packages (from sacremoses->transformers) (8.0.3)\n",
      "Requirement already satisfied: joblib in /opt/anaconda3/lib/python3.9/site-packages (from sacremoses->transformers) (1.1.0)\n"
     ]
    }
   ],
   "source": [
    "!pip install transformers"
   ]
  },
  {
   "cell_type": "code",
   "execution_count": 7,
   "metadata": {
    "id": "6sV60oWZ6DRC"
   },
   "outputs": [],
   "source": [
    "import os\n",
    "import json\n",
    "import matplotlib.pyplot as plt\n",
    "import cv2\n",
    "import shutil\n",
    "from PIL import Image\n",
    "import tqdm\n",
    "import numpy as np\n",
    "import pandas as pd\n",
    "import random\n",
    "\n",
    "import torch\n",
    "import torch.nn as nn\n",
    "from torch.utils.data import Dataset, DataLoader\n",
    "from torchvision import transforms\n",
    "import torch.nn.functional as F\n",
    "from torchvision.models import vgg19, resnet18, densenet161\n",
    "\n",
    "import transformers\n",
    "from transformers import BertModel, BertTokenizer\n",
    "from torch.optim import AdamW, SGD, Adam\n",
    "\n",
    "from keras.preprocessing.text import Tokenizer\n",
    "from keras.preprocessing.sequence import pad_sequences\n",
    "\n",
    "import pickle"
   ]
  },
  {
   "cell_type": "code",
   "execution_count": 8,
   "metadata": {
    "id": "ynhiZiXF6MSf"
   },
   "outputs": [],
   "source": [
    "# Global Path Vairables\n",
    "ROOT_DIR =  \"../Dataset/\"\n",
    "DATASET_DIR = ROOT_DIR"
   ]
  },
  {
   "cell_type": "code",
   "execution_count": 9,
   "metadata": {
    "id": "dy_UjPCWlvZs"
   },
   "outputs": [],
   "source": [
    "DEVICE = torch.device('cuda' if torch.cuda.is_available() else 'cpu')\n",
    "LEARNING_RATE = 2e-4 # 2e-4\n",
    "HIDDEN_DIM = 128 # 64\n",
    "N_LAYERS = 8 # 2\n",
    "EPOCHS = 40\n",
    "DROPOUT = 0.1\n",
    "BATCH_SIZE = 64 # 32"
   ]
  },
  {
   "cell_type": "code",
   "execution_count": 10,
   "metadata": {
    "id": "19TkLQizv0Hd"
   },
   "outputs": [],
   "source": [
    "class MultimodalMnistDataset(Dataset):\n",
    "  \"\"\"Dataset containing pairs of MNIST collaged images and text descriptions.\"\"\"\n",
    "  def __init__(self, images, texts, labels):\n",
    "    super(MultimodalMnistDataset, self).__init__()\n",
    "    self.images = [np.expand_dims(img.astype(np.float32) / 255, 0) for img in images]\n",
    "    self.texts = texts\n",
    "    self.labels = labels\n",
    "  \n",
    "  def __len__(self):\n",
    "    return len(self.labels)\n",
    "\n",
    "  def __getitem__(self, idx):\n",
    "    return self.images[idx], self.texts[idx], self.labels[idx]\n"
   ]
  },
  {
   "cell_type": "code",
   "execution_count": 11,
   "metadata": {
    "id": "ZI0JGHgD0gtI"
   },
   "outputs": [],
   "source": [
    "# texts = [\" \".join(list(map(str, x.tolist()))) for x in dataset[\"text\"]]\n",
    "dataset = pickle.load(open(DATASET_DIR + 'collaged_MNIST_maxpostext.p','rb'))\n",
    "texts = [x for x in dataset[\"text\"]]\n",
    "tokenizer = Tokenizer()\n",
    "tokenizer.fit_on_texts(texts)\n",
    "\n",
    "tokenized_texts = tokenizer.texts_to_sequences(texts)\n",
    "tokenized_texts = pad_sequences(tokenized_texts, maxlen=2)\n",
    "mnist_dataset = MultimodalMnistDataset(dataset[\"image\"],\n",
    "                                      #  dataset[\"text\"],\n",
    "                                       tokenized_texts,\n",
    "                                       dataset[\"label\"])\n",
    "mnist_dataloader = DataLoader(mnist_dataset, batch_size=BATCH_SIZE)\n",
    "reverse_word_map = dict(map(reversed, tokenizer.word_index.items()))"
   ]
  },
  {
   "cell_type": "code",
   "execution_count": 12,
   "metadata": {
    "colab": {
     "base_uri": "https://localhost:8080/"
    },
    "id": "9-y0-tYEhuLI",
    "outputId": "7aeac56f-28cc-4409-c6ba-fb4bca209a9f"
   },
   "outputs": [
    {
     "data": {
      "text/plain": [
       "{1: 'upper', 2: 'right', 3: 'left', 4: 'bottom'}"
      ]
     },
     "execution_count": 12,
     "metadata": {},
     "output_type": "execute_result"
    }
   ],
   "source": [
    "reverse_word_map"
   ]
  },
  {
   "cell_type": "code",
   "execution_count": 15,
   "metadata": {
    "id": "G3KDI1NKk9E1"
   },
   "outputs": [],
   "source": [
    "model = MultimodalMnistClassifier(10, 100, HIDDEN_DIM, N_LAYERS, 1)\n",
    "model.to(DEVICE)\n",
    "criterion = nn.BCEWithLogitsLoss() # this means the sigmoid is INCORPORATED into the loss!!\n",
    "optimizer = torch.optim.Adam(model.parameters(), lr=LEARNING_RATE, weight_decay=1e-5)"
   ]
  },
  {
   "cell_type": "code",
   "execution_count": 16,
   "metadata": {
    "id": "Shgd7aA6iJgi"
   },
   "outputs": [],
   "source": [
    "class MultimodalMnistClassifier(nn.Module):\n",
    "  def __init__(self, vocab_size, embedding_dim, n_hidden, n_layers, n_out):\n",
    "    super(MultimodalMnistClassifier, self).__init__()\n",
    "    # LSTM\n",
    "    self.vocab_size, self.n_hidden, self.n_out, self.n_layers = vocab_size, n_hidden, n_out, n_layers\n",
    "    self.emb = nn.Embedding(vocab_size, embedding_dim)\n",
    "    self.emb.weight.requires_grad = True\n",
    "    self.lstm = nn.LSTM(embedding_dim, self.n_hidden, self.n_layers, dropout=0.2, batch_first=True)\n",
    "    self.dropout = nn.Dropout(0.1)\n",
    "    self.lstm_fc = nn.Linear(self.n_hidden, 128)\n",
    "\n",
    "    # CNN\n",
    "    self.conv1 = nn.Sequential(         \n",
    "            nn.Conv2d(\n",
    "                in_channels=1,              \n",
    "                out_channels=16,            \n",
    "                kernel_size=5,              \n",
    "                stride=1,                   \n",
    "                padding=2,                  \n",
    "            ),                              \n",
    "            nn.ReLU(),                      \n",
    "            nn.MaxPool2d(kernel_size=2),    \n",
    "        )\n",
    "    self.conv2 = nn.Sequential(         \n",
    "        nn.Conv2d(16, 32, 5, 1, 2),     \n",
    "        nn.ReLU(),                      \n",
    "        nn.MaxPool2d(2),                \n",
    "    )\n",
    "\n",
    "    self.conv3 = nn.Sequential(         \n",
    "        nn.Conv2d(32, 64, 5, 1, 2),     \n",
    "        nn.ReLU(),                      \n",
    "        nn.MaxPool2d(2),                \n",
    "    )\n",
    "\n",
    "    self.conv4 = nn.Sequential(         \n",
    "        nn.Conv2d(64, 32, 3, 1, 2),     \n",
    "        nn.ReLU(),                      \n",
    "        nn.MaxPool2d(2),                \n",
    "    )\n",
    "    # Concat\n",
    "    self.combined_fc = nn.Linear(640, 128)\n",
    "    self.output_fc = nn.Linear(128, n_out)\n",
    "\n",
    "    # placeholder for raw inputs\n",
    "    self.raw_image_input = None\n",
    "    self.raw_language_input = None\n",
    "    \n",
    "    # placeholder for the gradients\n",
    "    self.vision_gradients = None\n",
    "    self.language_gradients = None\n",
    "\n",
    "\n",
    "  def forward(self, cnn_inp, lstm_inp):\n",
    "    # CNN Branch\n",
    "    self.raw_image_input = cnn_inp.clone().detach().cpu().numpy()\n",
    "    x = self.conv1(cnn_inp)\n",
    "    x = self.conv2(x)\n",
    "    x = self.conv3(x)\n",
    "    x = self.conv4(x)\n",
    "    h_vision = x.register_hook(self.vision_activations_hook)\n",
    "    cnn_out = x.view(x.size(0), -1)\n",
    "    # LSTM Branch\n",
    "    self.raw_language_input = lstm_inp.clone().detach().cpu().numpy()\n",
    "    batch_size = lstm_inp.size(0)\n",
    "    hidden = self.init_hidden(batch_size)\n",
    "    lstm_inp = lstm_inp.long()\n",
    "    embeds = self.emb(lstm_inp)\n",
    "    lstm_out, hidden = self.lstm(embeds, hidden)\n",
    "    h_language = lstm_out.register_hook(self.language_activations_hook)\n",
    "    lstm_out = self.dropout(lstm_out[:, -1])\n",
    "    lstm_out = F.relu(self.lstm_fc(lstm_out))\n",
    "    # Combine two branches\n",
    "    combined_inp = torch.cat((cnn_out, lstm_out), 1)\n",
    "    x_comb = F.relu(self.combined_fc(combined_inp))\n",
    "    out = self.output_fc(x_comb)\n",
    "    return out\n",
    "\n",
    "  def init_hidden(self, batch_size):\n",
    "    weight = next(self.parameters()).data\n",
    "    hidden = (weight.new(self.n_layers, batch_size, self.n_hidden).zero_().to(DEVICE),\n",
    "                      weight.new(self.n_layers, batch_size, self.n_hidden).zero_().to(DEVICE))\n",
    "    return hidden\n",
    "\n",
    "  # hook for the gradients of the activations\n",
    "  def vision_activations_hook(self, grad):\n",
    "      self.vision_gradients = grad\n",
    "  \n",
    "  def language_activations_hook(self, grad):\n",
    "      self.language_gradients = grad\n",
    "  \n",
    "  def get_vision_gradient(self):\n",
    "      return self.vision_gradients\n",
    "\n",
    "  def get_language_gradient(self):\n",
    "    return self.language_gradients\n",
    "  \n",
    "   # method for the activation exctraction\n",
    "  def get_vision_activations(self, cnn_inp):\n",
    "      x = self.conv1(cnn_inp)\n",
    "      x = self.conv2(x)\n",
    "      x = self.conv3(x)\n",
    "      x = self.conv4(x)\n",
    "      return x.detach().cpu().numpy()\n",
    "  \n",
    "  def get_language_activations(self):\n",
    "    return self.raw_language_input\n",
    "\n",
    "  def get_raw_vision_input(self):\n",
    "    return self.raw_image_input\n",
    "\n",
    "  def get_raw_language_input(self):\n",
    "    return self.raw_language_input"
   ]
  },
  {
   "cell_type": "code",
   "execution_count": 17,
   "metadata": {
    "colab": {
     "base_uri": "https://localhost:8080/"
    },
    "id": "pvmjyNiBlSey",
    "outputId": "a5f7c079-eaf9-42f1-b80a-fac18cb76d64"
   },
   "outputs": [
    {
     "name": "stdout",
     "output_type": "stream",
     "text": [
      "Epoch: 1\n",
      "Accuracy 0.4960660458879268\n",
      "Loss 0.6937122573243811\n",
      "Epoch: 2\n",
      "Accuracy 0.4904144501432459\n",
      "Loss 0.6935939826863877\n",
      "Epoch: 3\n",
      "Accuracy 0.4880873224836715\n",
      "Loss 0.6933618067426884\n",
      "Epoch: 4\n",
      "Accuracy 0.4934064714198417\n",
      "Loss 0.6933115872930973\n",
      "Epoch: 5\n",
      "Accuracy 0.4945700352496289\n",
      "Loss 0.693283459607591\n",
      "Epoch: 6\n",
      "Accuracy 0.49772827993047997\n",
      "Loss 0.693238581114627\n",
      "Epoch: 7\n",
      "Accuracy 0.4985593969517566\n",
      "Loss 0.6931852419325646\n",
      "Epoch: 8\n",
      "Accuracy 0.5080341309943097\n",
      "Loss 0.6931347542620719\n",
      "Epoch: 9\n",
      "Accuracy 0.509197694824097\n",
      "Loss 0.6929020805561796\n",
      "Epoch: 10\n",
      "Accuracy 0.5214982267389906\n",
      "Loss 0.6921667082512633\n",
      "Epoch: 11\n",
      "Accuracy 0.5294769507773379\n",
      "Loss 0.690567543531986\n",
      "Epoch: 12\n",
      "Accuracy 0.5444370571603167\n",
      "Loss 0.6871203513855629\n",
      "Epoch: 13\n",
      "Accuracy 0.5716422872340425\n",
      "Loss 0.6802989136665425\n",
      "Epoch: 14\n",
      "Accuracy 0.5902039002864918\n",
      "Loss 0.6699680406996544\n",
      "Epoch: 15\n",
      "Accuracy 0.6192929960311727\n",
      "Loss 0.6538071144134441\n",
      "Epoch: 16\n",
      "Accuracy 0.6481604607815438\n",
      "Loss 0.6315040226946486\n",
      "Epoch: 17\n",
      "Accuracy 0.6771387413461157\n",
      "Loss 0.6042729213516763\n",
      "Epoch: 18\n",
      "Accuracy 0.7171985817716476\n",
      "Loss 0.570316622548915\n",
      "Epoch: 19\n",
      "Accuracy 0.7396941489361702\n",
      "Loss 0.5372062338159439\n",
      "Epoch: 20\n",
      "Accuracy 0.7653479607815438\n",
      "Loss 0.4995350219467853\n",
      "Epoch: 21\n",
      "Accuracy 0.8002548756751608\n",
      "Loss 0.4566928674565985\n",
      "Epoch: 22\n",
      "Accuracy 0.8226396276595744\n",
      "Loss 0.4152417813843869\n",
      "Epoch: 23\n",
      "Accuracy 0.854332890282286\n",
      "Loss 0.37014971705193217\n",
      "Epoch: 24\n",
      "Accuracy 0.8777149820581396\n",
      "Loss 0.32777857780456543\n",
      "Epoch: 25\n",
      "Accuracy 0.901207890282286\n",
      "Loss 0.2858904257733771\n",
      "Epoch: 26\n",
      "Accuracy 0.9124556735475012\n",
      "Loss 0.25311752075844623\n",
      "Epoch: 27\n",
      "Accuracy 0.9040890957446809\n",
      "Loss 0.2533222833212386\n",
      "Epoch: 28\n",
      "Accuracy 0.8905141841857991\n",
      "Loss 0.2575580758300233\n",
      "Epoch: 29\n",
      "Accuracy 0.9101839541120732\n",
      "Loss 0.22601391501883242\n",
      "Epoch: 30\n",
      "Accuracy 0.9428191489361702\n",
      "Loss 0.17702400058190873\n",
      "Epoch: 31\n",
      "Accuracy 0.9541223404255319\n",
      "Loss 0.15144950349597222\n",
      "Epoch: 32\n",
      "Accuracy 0.9565602838993073\n",
      "Loss 0.13941873883471845\n",
      "Epoch: 33\n",
      "Accuracy 0.9550642732610094\n",
      "Loss 0.1374462181107795\n",
      "Epoch: 34\n",
      "Accuracy 0.9440935285801583\n",
      "Loss 0.15003500680657142\n",
      "Epoch: 35\n",
      "Accuracy 0.9318484042553191\n",
      "Loss 0.16398574300902954\n",
      "Epoch: 36\n",
      "Accuracy 0.9577238477290945\n",
      "Loss 0.11723824281324731\n",
      "Epoch: 37\n",
      "Accuracy 0.9920212765957447\n",
      "Loss 0.05415203574886347\n",
      "Epoch: 38\n",
      "Accuracy 0.9980053191489362\n",
      "Loss 0.03417684786774693\n",
      "Epoch: 39\n",
      "Accuracy 0.9996675531914894\n",
      "Loss 0.02366167973687357\n",
      "Epoch: 40\n",
      "Accuracy 0.9996675531914894\n",
      "Loss 0.01773110209924585\n"
     ]
    }
   ],
   "source": [
    "model.train()\n",
    "for i in range(EPOCHS):\n",
    "  total_acc_train = 0\n",
    "  total_loss_train = 0\n",
    "\n",
    "  for cnn, lstm, label in mnist_dataloader:\n",
    "    lstm_inp, cnn_inp, label = lstm.to(DEVICE), cnn.to(DEVICE), label.to(DEVICE)\n",
    "    model.zero_grad()\n",
    "    output = model(cnn_inp, lstm_inp)\n",
    "    loss = criterion(output.squeeze(), label.float())\n",
    "    loss.backward()\n",
    "    optimizer.step()\n",
    "    with torch.no_grad():\n",
    "      acc = torch.abs(torch.round(torch.sigmoid(output.squeeze())) - label.float()).view(-1)\n",
    "      acc = (1. - acc.sum() / acc.size()[0])\n",
    "      total_acc_train += acc.item()\n",
    "      total_loss_train += loss.item()\n",
    "  print(\"Epoch:\", i+1)\n",
    "  print(\"Accuracy\", total_acc_train / len(mnist_dataloader))\n",
    "  print(\"Loss\", total_loss_train / len(mnist_dataloader))\n"
   ]
  },
  {
   "cell_type": "markdown",
   "metadata": {
    "id": "h9Tig3JC3B1D"
   },
   "source": [
    "# Explainer"
   ]
  },
  {
   "cell_type": "code",
   "execution_count": 28,
   "metadata": {
    "id": "cKWPARDrmDRh"
   },
   "outputs": [],
   "source": [
    "index = random.sample(list(range(len(dataset[\"label\"]))), 1)[0]\n",
    "image_bytes = dataset[\"image\"][index]\n",
    "\n",
    "cnn_inp = torch.from_numpy(np.expand_dims(np.expand_dims(image_bytes.astype(np.float32) / 255, 0), 0))\n",
    "cnn_inp = cnn_inp.to(DEVICE)\n",
    "lstm_inp = torch.from_numpy(np.expand_dims(tokenized_texts[index], 0))\n",
    "lstm_inp = lstm_inp.to(DEVICE)\n",
    "output = model(cnn_inp, lstm_inp)\n",
    "confidence = torch.sigmoid(output.squeeze()).detach().cpu().numpy().tolist()\n",
    "prediction = torch.round(torch.sigmoid(output.squeeze())).detach().cpu().numpy().tolist()\n",
    "if prediction == 0.0:\n",
    "  confidence = 1 - confidence"
   ]
  },
  {
   "cell_type": "code",
   "execution_count": 29,
   "metadata": {
    "id": "172ODOyW32n2"
   },
   "outputs": [],
   "source": [
    "output.backward()"
   ]
  },
  {
   "cell_type": "code",
   "execution_count": 30,
   "metadata": {
    "id": "7Ru9tj-Y_L3Y"
   },
   "outputs": [],
   "source": [
    "vision_gradients = model.get_vision_gradient()\n",
    "# pool the gradients across the channels, so that each channel have one gradient value\n",
    "pooled_vision_gradients = torch.mean(vision_gradients, dim=[0, 2, 3])\n",
    "pooled_vision_gradients_np = pooled_vision_gradients.detach().cpu().numpy()\n",
    "\n",
    "# get the activations of the last convolutional layer\n",
    "raw_vision_activations = model.get_vision_activations(cnn_inp)\n",
    "vision_activations = np.zeros(raw_vision_activations.shape)\n",
    "\n",
    "# weight the channels by corresponding gradients\n",
    "for i in range(vision_activations[0].shape[0]):\n",
    "  vision_activations[:, i, :, :] = raw_vision_activations[:, i, :, :] * pooled_vision_gradients_np[i]\n",
    "    \n",
    "# average the channels of the activations\n",
    "vision_heatmap = torch.mean(torch.from_numpy(vision_activations), axis=1).squeeze()\n",
    "\n",
    "# relu on top of the heatmap\n",
    "# expression (2) in https://arxiv.org/pdf/1610.02391.pdf\n",
    "vision_heatmap = np.maximum(vision_heatmap, 0)\n",
    "\n",
    "\n",
    "# normalize the heatmap\n",
    "vision_heatmap /= torch.max(vision_heatmap)"
   ]
  },
  {
   "cell_type": "code",
   "execution_count": 31,
   "metadata": {
    "colab": {
     "base_uri": "https://localhost:8080/",
     "height": 202
    },
    "id": "tc0T3zMbBSnU",
    "outputId": "e5383a39-a8b5-4321-da9a-a749a49da6a8"
   },
   "outputs": [
    {
     "data": {
      "image/png": "[encoded data removed]",
      "text/plain": [
       "<Figure size 432x288 with 3 Axes>"
      ]
     },
     "metadata": {
      "needs_background": "light"
     },
     "output_type": "display_data"
    },
    {
     "name": "stdout",
     "output_type": "stream",
     "text": [
      "Image label is 0.0\n",
      "Image text is bottom left\n",
      "Prediction is 0.0 with confidence 0.9999419350897369\n"
     ]
    }
   ],
   "source": [
    "# Plot heatmap together with the image from ORIGINAL RESOLUTION\n",
    "plot_image = cv2.merge((image_bytes,image_bytes,image_bytes))\n",
    "updated_vision_heatmap = cv2.resize(np.array(vision_heatmap), (plot_image.shape[1], plot_image.shape[0]))\n",
    "updated_vision_heatmap = np.uint8(255 * updated_vision_heatmap)\n",
    "updated_vision_heatmap = cv2.applyColorMap(updated_vision_heatmap, cv2.COLORMAP_JET)\n",
    "superimposed_img = updated_vision_heatmap * 0.5 + plot_image\n",
    "\n",
    "f = plt.figure()\n",
    "f.add_subplot(1, 3, 1)\n",
    "plt.imshow(plot_image)\n",
    "f.add_subplot(1, 3, 2)\n",
    "plt.imshow(updated_vision_heatmap)\n",
    "f.add_subplot(1, 3, 3)\n",
    "plt.imshow(superimposed_img / np.max(superimposed_img))\n",
    "plt.show(block=True)\n",
    "print(\"Image label is\", dataset[\"label\"][index])\n",
    "print(\"Image text is\", dataset[\"text\"][index])\n",
    "print(\"Prediction is\", prediction, \"with confidence\", confidence)"
   ]
  },
  {
   "cell_type": "code",
   "execution_count": 22,
   "metadata": {
    "id": "W9kPd0JVC3Zx"
   },
   "outputs": [],
   "source": [
    "language_gradients = model.get_language_gradient()\n",
    "pooled_language_gradients = torch.mean(language_gradients, dim=2)\n",
    "pooled_language_gradients_np = pooled_language_gradients.detach().cpu().numpy()"
   ]
  },
  {
   "cell_type": "code",
   "execution_count": 23,
   "metadata": {
    "colab": {
     "base_uri": "https://localhost:8080/"
    },
    "id": "860yfirkhg0Z",
    "outputId": "4632a4e0-cbb7-4d99-96eb-70d7b754efd6"
   },
   "outputs": [
    {
     "name": "stdout",
     "output_type": "stream",
     "text": [
      "Image text is bottom left\n",
      "Corresponding Importance indicated by language gradient is [ 0.         -0.00063873]\n"
     ]
    }
   ],
   "source": [
    "# Only two words, so this indicate the importance of each word\n",
    "print(\"Image text is\", dataset[\"text\"][index])\n",
    "print(\"Corresponding Importance indicated by language gradient is\", pooled_language_gradients_np[0])"
   ]
  },
  {
   "cell_type": "code",
   "execution_count": null,
   "metadata": {
    "id": "P0U9PUuAh7af"
   },
   "outputs": [],
   "source": []
  }
 ],
 "metadata": {
  "accelerator": "GPU",
  "colab": {
   "collapsed_sections": [],
   "name": "multimodal-gradcam-mnist.ipynb",
   "provenance": []
  },
  "kernelspec": {
   "display_name": "Python 3",
   "language": "python",
   "name": "python3"
  },
  "language_info": {
   "codemirror_mode": {
    "name": "ipython",
    "version": 3
   },
   "file_extension": ".py",
   "mimetype": "text/x-python",
   "name": "python",
   "nbconvert_exporter": "python",
   "pygments_lexer": "ipython3",
   "version": "3.6.13"
  }
 },
 "nbformat": 4,
 "nbformat_minor": 1
}
