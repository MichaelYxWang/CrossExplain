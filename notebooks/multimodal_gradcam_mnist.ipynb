{
  "nbformat": 4,
  "nbformat_minor": 0,
  "metadata": {
    "colab": {
      "name": "multimodal-gradcam-mnist.ipynb",
      "provenance": [],
      "collapsed_sections": []
    },
    "kernelspec": {
      "name": "python3",
      "display_name": "Python 3"
    },
    "language_info": {
      "name": "python"
    },
    "accelerator": "GPU"
  },
  "cells": [
    {
      "cell_type": "code",
      "execution_count": 47,
      "metadata": {
        "colab": {
          "base_uri": "https://localhost:8080/"
        },
        "id": "F6TYShLC5ydW",
        "outputId": "4d089da5-261d-43f6-bfa1-4a4485e66ce9"
      },
      "outputs": [
        {
          "output_type": "stream",
          "name": "stdout",
          "text": [
            "Requirement already satisfied: transformers in /usr/local/lib/python3.7/dist-packages (4.18.0)\n",
            "Requirement already satisfied: pyyaml>=5.1 in /usr/local/lib/python3.7/dist-packages (from transformers) (6.0)\n",
            "Requirement already satisfied: requests in /usr/local/lib/python3.7/dist-packages (from transformers) (2.23.0)\n",
            "Requirement already satisfied: tokenizers!=0.11.3,<0.13,>=0.11.1 in /usr/local/lib/python3.7/dist-packages (from transformers) (0.12.1)\n",
            "Requirement already satisfied: sacremoses in /usr/local/lib/python3.7/dist-packages (from transformers) (0.0.49)\n",
            "Requirement already satisfied: numpy>=1.17 in /usr/local/lib/python3.7/dist-packages (from transformers) (1.21.6)\n",
            "Requirement already satisfied: huggingface-hub<1.0,>=0.1.0 in /usr/local/lib/python3.7/dist-packages (from transformers) (0.5.1)\n",
            "Requirement already satisfied: packaging>=20.0 in /usr/local/lib/python3.7/dist-packages (from transformers) (21.3)\n",
            "Requirement already satisfied: regex!=2019.12.17 in /usr/local/lib/python3.7/dist-packages (from transformers) (2019.12.20)\n",
            "Requirement already satisfied: tqdm>=4.27 in /usr/local/lib/python3.7/dist-packages (from transformers) (4.64.0)\n",
            "Requirement already satisfied: filelock in /usr/local/lib/python3.7/dist-packages (from transformers) (3.6.0)\n",
            "Requirement already satisfied: importlib-metadata in /usr/local/lib/python3.7/dist-packages (from transformers) (4.11.3)\n",
            "Requirement already satisfied: typing-extensions>=3.7.4.3 in /usr/local/lib/python3.7/dist-packages (from huggingface-hub<1.0,>=0.1.0->transformers) (4.2.0)\n",
            "Requirement already satisfied: pyparsing!=3.0.5,>=2.0.2 in /usr/local/lib/python3.7/dist-packages (from packaging>=20.0->transformers) (3.0.8)\n",
            "Requirement already satisfied: zipp>=0.5 in /usr/local/lib/python3.7/dist-packages (from importlib-metadata->transformers) (3.8.0)\n",
            "Requirement already satisfied: chardet<4,>=3.0.2 in /usr/local/lib/python3.7/dist-packages (from requests->transformers) (3.0.4)\n",
            "Requirement already satisfied: idna<3,>=2.5 in /usr/local/lib/python3.7/dist-packages (from requests->transformers) (2.10)\n",
            "Requirement already satisfied: certifi>=2017.4.17 in /usr/local/lib/python3.7/dist-packages (from requests->transformers) (2021.10.8)\n",
            "Requirement already satisfied: urllib3!=1.25.0,!=1.25.1,<1.26,>=1.21.1 in /usr/local/lib/python3.7/dist-packages (from requests->transformers) (1.24.3)\n",
            "Requirement already satisfied: click in /usr/local/lib/python3.7/dist-packages (from sacremoses->transformers) (7.1.2)\n",
            "Requirement already satisfied: six in /usr/local/lib/python3.7/dist-packages (from sacremoses->transformers) (1.15.0)\n",
            "Requirement already satisfied: joblib in /usr/local/lib/python3.7/dist-packages (from sacremoses->transformers) (1.1.0)\n"
          ]
        }
      ],
      "source": [
        "!pip install transformers"
      ]
    },
    {
      "cell_type": "code",
      "source": [
        "import os\n",
        "import json\n",
        "import matplotlib.pyplot as plt\n",
        "import cv2\n",
        "import shutil\n",
        "from PIL import Image\n",
        "import tqdm\n",
        "import numpy as np\n",
        "import pandas as pd\n",
        "import random\n",
        "\n",
        "import torch\n",
        "import torch.nn as nn\n",
        "from torch.utils.data import Dataset, DataLoader\n",
        "from torchvision import transforms\n",
        "import torch.nn.functional as F\n",
        "from torchvision.models import vgg19, resnet18, densenet161\n",
        "\n",
        "import transformers\n",
        "from transformers import BertModel, BertTokenizer\n",
        "from torch.optim import AdamW, SGD, Adam\n",
        "\n",
        "from keras.preprocessing.text import Tokenizer\n",
        "from keras.preprocessing.sequence import pad_sequences\n",
        "\n",
        "import pickle"
      ],
      "metadata": {
        "id": "6sV60oWZ6DRC"
      },
      "execution_count": 48,
      "outputs": []
    },
    {
      "cell_type": "code",
      "source": [
        "# Global Path Vairables\n",
        "ROOT_DIR =  \"drive/MyDrive/11877-AMMML/dataset/\"\n",
        "DATASET_DIR = ROOT_DIR"
      ],
      "metadata": {
        "id": "ynhiZiXF6MSf"
      },
      "execution_count": 49,
      "outputs": []
    },
    {
      "cell_type": "code",
      "source": [
        "DEVICE = torch.device('cuda' if torch.cuda.is_available() else 'cpu')\n",
        "LEARNING_RATE = 2e-4 # 2e-4\n",
        "HIDDEN_DIM = 128 # 64\n",
        "N_LAYERS = 8 # 2\n",
        "EPOCHS = 40\n",
        "DROPOUT = 0.1\n",
        "BATCH_SIZE = 64 # 32"
      ],
      "metadata": {
        "id": "dy_UjPCWlvZs"
      },
      "execution_count": 66,
      "outputs": []
    },
    {
      "cell_type": "code",
      "source": [
        "class MultimodalMnistDataset(Dataset):\n",
        "  \"\"\"Dataset containing pairs of MNIST collaged images and text descriptions.\"\"\"\n",
        "  def __init__(self, images, texts, labels):\n",
        "    super(MultimodalMnistDataset, self).__init__()\n",
        "    self.images = [np.expand_dims(img.astype(np.float32) / 255, 0) for img in images]\n",
        "    self.texts = texts\n",
        "    self.labels = labels\n",
        "  \n",
        "  def __len__(self):\n",
        "    return len(self.labels)\n",
        "\n",
        "  def __getitem__(self, idx):\n",
        "    return self.images[idx], self.texts[idx], self.labels[idx]\n"
      ],
      "metadata": {
        "id": "19TkLQizv0Hd"
      },
      "execution_count": 67,
      "outputs": []
    },
    {
      "cell_type": "code",
      "source": [
        "# texts = [\" \".join(list(map(str, x.tolist()))) for x in dataset[\"text\"]]\n",
        "dataset = pickle.load(open(DATASET_DIR + 'collaged_MNIST_maxpostext.p','rb'))\n",
        "texts = [x for x in dataset[\"text\"]]\n",
        "tokenizer = Tokenizer()\n",
        "tokenizer.fit_on_texts(texts)\n",
        "\n",
        "tokenized_texts = tokenizer.texts_to_sequences(texts)\n",
        "tokenized_texts = pad_sequences(tokenized_texts, maxlen=2)\n",
        "mnist_dataset = MultimodalMnistDataset(dataset[\"image\"],\n",
        "                                      #  dataset[\"text\"],\n",
        "                                       tokenized_texts,\n",
        "                                       dataset[\"label\"])\n",
        "mnist_dataloader = DataLoader(mnist_dataset, batch_size=BATCH_SIZE)\n",
        "reverse_word_map = dict(map(reversed, tokenizer.word_index.items()))"
      ],
      "metadata": {
        "id": "ZI0JGHgD0gtI"
      },
      "execution_count": 84,
      "outputs": []
    },
    {
      "cell_type": "code",
      "source": [
        "reverse_word_map"
      ],
      "metadata": {
        "colab": {
          "base_uri": "https://localhost:8080/"
        },
        "id": "9-y0-tYEhuLI",
        "outputId": "7aeac56f-28cc-4409-c6ba-fb4bca209a9f"
      },
      "execution_count": 85,
      "outputs": [
        {
          "output_type": "execute_result",
          "data": {
            "text/plain": [
              "{1: 'upper', 2: 'right', 3: 'left', 4: 'bottom'}"
            ]
          },
          "metadata": {},
          "execution_count": 85
        }
      ]
    },
    {
      "cell_type": "code",
      "source": [
        "class MultimodalMnistClassifier(nn.Module):\n",
        "  def __init__(self, vocab_size, embedding_dim, n_hidden, n_layers, n_out):\n",
        "    super(MultimodalMnistClassifier, self).__init__()\n",
        "    # LSTM\n",
        "    self.vocab_size, self.n_hidden, self.n_out, self.n_layers = vocab_size, n_hidden, n_out, n_layers\n",
        "    self.emb = nn.Embedding(vocab_size, embedding_dim)\n",
        "    self.emb.weight.requires_grad = True\n",
        "    self.lstm = nn.LSTM(embedding_dim, self.n_hidden, self.n_layers, dropout=0.2, batch_first=True)\n",
        "    self.dropout = nn.Dropout(0.1)\n",
        "    self.lstm_fc = nn.Linear(self.n_hidden, 128)\n",
        "\n",
        "    # CNN\n",
        "    self.conv1 = nn.Sequential(         \n",
        "            nn.Conv2d(\n",
        "                in_channels=1,              \n",
        "                out_channels=16,            \n",
        "                kernel_size=5,              \n",
        "                stride=1,                   \n",
        "                padding=2,                  \n",
        "            ),                              \n",
        "            nn.ReLU(),                      \n",
        "            nn.MaxPool2d(kernel_size=2),    \n",
        "        )\n",
        "    self.conv2 = nn.Sequential(         \n",
        "        nn.Conv2d(16, 32, 5, 1, 2),     \n",
        "        nn.ReLU(),                      \n",
        "        nn.MaxPool2d(2),                \n",
        "    )\n",
        "\n",
        "    self.conv3 = nn.Sequential(         \n",
        "        nn.Conv2d(32, 64, 5, 1, 2),     \n",
        "        nn.ReLU(),                      \n",
        "        nn.MaxPool2d(2),                \n",
        "    )\n",
        "\n",
        "    self.conv4 = nn.Sequential(         \n",
        "        nn.Conv2d(64, 32, 3, 1, 2),     \n",
        "        nn.ReLU(),                      \n",
        "        nn.MaxPool2d(2),                \n",
        "    )\n",
        "    # Concat\n",
        "    self.combined_fc = nn.Linear(640, 128)\n",
        "    self.output_fc = nn.Linear(128, n_out)\n",
        "\n",
        "    # placeholder for raw inputs\n",
        "    self.raw_image_input = None\n",
        "    self.raw_language_input = None\n",
        "    \n",
        "    # placeholder for the gradients\n",
        "    self.vision_gradients = None\n",
        "    self.language_gradients = None\n",
        "\n",
        "\n",
        "  def forward(self, cnn_inp, lstm_inp):\n",
        "    # CNN Branch\n",
        "    self.raw_image_input = cnn_inp.clone().detach().cpu().numpy()\n",
        "    x = self.conv1(cnn_inp)\n",
        "    x = self.conv2(x)\n",
        "    x = self.conv3(x)\n",
        "    x = self.conv4(x)\n",
        "    h_vision = x.register_hook(self.vision_activations_hook)\n",
        "    cnn_out = x.view(x.size(0), -1)\n",
        "    # LSTM Branch\n",
        "    self.raw_language_input = lstm_inp.clone().detach().cpu().numpy()\n",
        "    batch_size = lstm_inp.size(0)\n",
        "    hidden = self.init_hidden(batch_size)\n",
        "    lstm_inp = lstm_inp.long()\n",
        "    embeds = self.emb(lstm_inp)\n",
        "    lstm_out, hidden = self.lstm(embeds, hidden)\n",
        "    h_language = lstm_out.register_hook(self.language_activations_hook)\n",
        "    lstm_out = self.dropout(lstm_out[:, -1])\n",
        "    lstm_out = F.relu(self.lstm_fc(lstm_out))\n",
        "    # Combine two branches\n",
        "    combined_inp = torch.cat((cnn_out, lstm_out), 1)\n",
        "    x_comb = F.relu(self.combined_fc(combined_inp))\n",
        "    out = self.output_fc(x_comb)\n",
        "    return out\n",
        "\n",
        "  def init_hidden(self, batch_size):\n",
        "    weight = next(self.parameters()).data\n",
        "    hidden = (weight.new(self.n_layers, batch_size, self.n_hidden).zero_().to(DEVICE),\n",
        "                      weight.new(self.n_layers, batch_size, self.n_hidden).zero_().to(DEVICE))\n",
        "    return hidden\n",
        "\n",
        "  # hook for the gradients of the activations\n",
        "  def vision_activations_hook(self, grad):\n",
        "      self.vision_gradients = grad\n",
        "  \n",
        "  def language_activations_hook(self, grad):\n",
        "      self.language_gradients = grad\n",
        "  \n",
        "  def get_vision_gradient(self):\n",
        "      return self.vision_gradients\n",
        "\n",
        "  def get_language_gradient(self):\n",
        "    return self.language_gradients\n",
        "  \n",
        "   # method for the activation exctraction\n",
        "  def get_vision_activations(self, cnn_inp):\n",
        "      x = self.conv1(cnn_inp)\n",
        "      x = self.conv2(x)\n",
        "      x = self.conv3(x)\n",
        "      x = self.conv4(x)\n",
        "      return x.detach().cpu().numpy()\n",
        "  \n",
        "  def get_language_activations(self):\n",
        "    return self.raw_language_input\n",
        "\n",
        "  def get_raw_vision_input(self):\n",
        "    return self.raw_image_input\n",
        "\n",
        "  def get_raw_language_input(self):\n",
        "    return self.raw_language_input"
      ],
      "metadata": {
        "id": "Shgd7aA6iJgi"
      },
      "execution_count": 69,
      "outputs": []
    },
    {
      "cell_type": "code",
      "source": [
        "model = MultimodalMnistClassifier(10, 100, HIDDEN_DIM, N_LAYERS, 1)\n",
        "model.to(DEVICE)\n",
        "criterion = nn.BCEWithLogitsLoss() # this means the sigmoid is INCORPORATED into the loss!!\n",
        "optimizer = torch.optim.Adam(model.parameters(), lr=LEARNING_RATE, weight_decay=1e-5)"
      ],
      "metadata": {
        "id": "G3KDI1NKk9E1"
      },
      "execution_count": 70,
      "outputs": []
    },
    {
      "cell_type": "code",
      "source": [
        "model.train()\n",
        "for i in range(EPOCHS):\n",
        "  total_acc_train = 0\n",
        "  total_loss_train = 0\n",
        "\n",
        "  for cnn, lstm, label in mnist_dataloader:\n",
        "    lstm_inp, cnn_inp, label = lstm.to(DEVICE), cnn.to(DEVICE), label.to(DEVICE)\n",
        "    model.zero_grad()\n",
        "    output = model(cnn_inp, lstm_inp)\n",
        "    loss = criterion(output.squeeze(), label.float())\n",
        "    loss.backward()\n",
        "    optimizer.step()\n",
        "    with torch.no_grad():\n",
        "      acc = torch.abs(torch.round(torch.sigmoid(output.squeeze())) - label.float()).view(-1)\n",
        "      acc = (1. - acc.sum() / acc.size()[0])\n",
        "      total_acc_train += acc.item()\n",
        "      total_loss_train += loss.item()\n",
        "  print(\"Epoch:\", i+1)\n",
        "  print(\"Accuracy\", total_acc_train / len(mnist_dataloader))\n",
        "  print(\"Loss\", total_loss_train / len(mnist_dataloader))\n"
      ],
      "metadata": {
        "colab": {
          "base_uri": "https://localhost:8080/"
        },
        "id": "pvmjyNiBlSey",
        "outputId": "a5f7c079-eaf9-42f1-b80a-fac18cb76d64"
      },
      "execution_count": 71,
      "outputs": [
        {
          "output_type": "stream",
          "name": "stdout",
          "text": [
            "Epoch: 1\n",
            "Accuracy 0.49988918418579914\n",
            "Loss 0.6936483624133658\n",
            "Epoch: 2\n",
            "Accuracy 0.4900820033347353\n",
            "Loss 0.6935072471486762\n",
            "Epoch: 3\n",
            "Accuracy 0.4900820033347353\n",
            "Loss 0.69335615888555\n",
            "Epoch: 4\n",
            "Accuracy 0.49839317354750123\n",
            "Loss 0.6933292752884804\n",
            "Epoch: 5\n",
            "Accuracy 0.4925753543985651\n",
            "Loss 0.6932736869822157\n",
            "Epoch: 6\n",
            "Accuracy 0.5007203012070758\n",
            "Loss 0.693210374167625\n",
            "Epoch: 7\n",
            "Accuracy 0.5063718969517566\n",
            "Loss 0.6931621983964392\n",
            "Epoch: 8\n",
            "Accuracy 0.51335327993048\n",
            "Loss 0.6929370798963181\n",
            "Epoch: 9\n",
            "Accuracy 0.5219968969517566\n",
            "Loss 0.6922181591074518\n",
            "Epoch: 10\n",
            "Accuracy 0.5321365246113311\n",
            "Loss 0.6906779643068922\n",
            "Epoch: 11\n",
            "Accuracy 0.5428302300737259\n",
            "Loss 0.6875986444189194\n",
            "Epoch: 12\n",
            "Accuracy 0.5555740246113311\n",
            "Loss 0.6826514297343315\n",
            "Epoch: 13\n",
            "Accuracy 0.5775709215630876\n",
            "Loss 0.6738299911326551\n",
            "Epoch: 14\n",
            "Accuracy 0.5978501768822365\n",
            "Loss 0.6600943226763543\n",
            "Epoch: 15\n",
            "Accuracy 0.6321476063829787\n",
            "Loss 0.6389428618106436\n",
            "Epoch: 16\n",
            "Accuracy 0.6649490246113311\n",
            "Loss 0.6143155453052926\n",
            "Epoch: 17\n",
            "Accuracy 0.6938164893617021\n",
            "Loss 0.5854876123844309\n",
            "Epoch: 18\n",
            "Accuracy 0.7262854607815438\n",
            "Loss 0.5511892063820616\n",
            "Epoch: 19\n",
            "Accuracy 0.754155585106383\n",
            "Loss 0.5170194769793368\n",
            "Epoch: 20\n",
            "Accuracy 0.7796985817716476\n",
            "Loss 0.47913490362623906\n",
            "Epoch: 21\n",
            "Accuracy 0.8054078012070758\n",
            "Loss 0.4358280748128891\n",
            "Epoch: 22\n",
            "Accuracy 0.8323359926964374\n",
            "Loss 0.39416384712812746\n",
            "Epoch: 23\n",
            "Accuracy 0.8559951243248392\n",
            "Loss 0.3500553803875091\n",
            "Epoch: 24\n",
            "Accuracy 0.8801529255319149\n",
            "Loss 0.3034661537472238\n",
            "Epoch: 25\n",
            "Accuracy 0.903479609717714\n",
            "Loss 0.258448156270575\n",
            "Epoch: 26\n",
            "Accuracy 0.9262522161006927\n",
            "Loss 0.22206701369995765\n",
            "Epoch: 27\n",
            "Accuracy 0.9346187945376051\n",
            "Loss 0.19934653974276909\n",
            "Epoch: 28\n",
            "Accuracy 0.9379432626227115\n",
            "Loss 0.17933127854732758\n",
            "Epoch: 29\n",
            "Accuracy 0.9285239361702128\n",
            "Loss 0.18949780193098048\n",
            "Epoch: 30\n",
            "Accuracy 0.8732823583673923\n",
            "Loss 0.28709028867330955\n",
            "Epoch: 31\n",
            "Accuracy 0.9156693264524988\n",
            "Loss 0.21280416735309235\n",
            "Epoch: 32\n",
            "Accuracy 0.9540669328354775\n",
            "Loss 0.13831719375671225\n",
            "Epoch: 33\n",
            "Accuracy 0.981216755319149\n",
            "Loss 0.08961478664361416\n",
            "Epoch: 34\n",
            "Accuracy 0.995345744680851\n",
            "Loss 0.061829636210298286\n",
            "Epoch: 35\n",
            "Accuracy 0.9981715425531915\n",
            "Loss 0.047230536019072886\n",
            "Epoch: 36\n",
            "Accuracy 0.9985039893617021\n",
            "Loss 0.0391621922955234\n",
            "Epoch: 37\n",
            "Accuracy 0.9985039893617021\n",
            "Loss 0.03580865656283307\n",
            "Epoch: 38\n",
            "Accuracy 0.9966755319148937\n",
            "Loss 0.03719905816375258\n",
            "Epoch: 39\n",
            "Accuracy 0.9920212765957447\n",
            "Loss 0.043307193208168795\n",
            "Epoch: 40\n",
            "Accuracy 0.987533244680851\n",
            "Loss 0.04807023617855095\n"
          ]
        }
      ]
    },
    {
      "cell_type": "markdown",
      "source": [
        "# Explainer"
      ],
      "metadata": {
        "id": "h9Tig3JC3B1D"
      }
    },
    {
      "cell_type": "code",
      "source": [
        "index = random.sample(list(range(len(dataset[\"label\"]))), 1)[0]\n",
        "image_bytes = dataset[\"image\"][index]\n",
        "\n",
        "cnn_inp = torch.from_numpy(np.expand_dims(np.expand_dims(image_bytes.astype(np.float32) / 255, 0), 0))\n",
        "cnn_inp = cnn_inp.to(DEVICE)\n",
        "lstm_inp = torch.from_numpy(np.expand_dims(tokenized_texts[index], 0))\n",
        "lstm_inp = lstm_inp.to(DEVICE)\n",
        "output = model(cnn_inp, lstm_inp)\n",
        "confidence = torch.sigmoid(output.squeeze()).detach().cpu().numpy().tolist()\n",
        "prediction = torch.round(torch.sigmoid(output.squeeze())).detach().cpu().numpy().tolist()\n",
        "if prediction == 0.0:\n",
        "  confidence = 1 - confidence"
      ],
      "metadata": {
        "id": "cKWPARDrmDRh"
      },
      "execution_count": 164,
      "outputs": []
    },
    {
      "cell_type": "code",
      "source": [
        "output.backward()"
      ],
      "metadata": {
        "id": "172ODOyW32n2"
      },
      "execution_count": 165,
      "outputs": []
    },
    {
      "cell_type": "code",
      "source": [
        "vision_gradients = model.get_vision_gradient()\n",
        "# pool the gradients across the channels, so that each channel have one gradient value\n",
        "pooled_vision_gradients = torch.mean(vision_gradients, dim=[0, 2, 3])\n",
        "pooled_vision_gradients_np = pooled_vision_gradients.detach().cpu().numpy()\n",
        "\n",
        "# get the activations of the last convolutional layer\n",
        "raw_vision_activations = model.get_vision_activations(cnn_inp)\n",
        "vision_activations = np.zeros(raw_vision_activations.shape)\n",
        "\n",
        "# weight the channels by corresponding gradients\n",
        "for i in range(vision_activations[0].shape[0]):\n",
        "  vision_activations[:, i, :, :] = raw_vision_activations[:, i, :, :] * pooled_vision_gradients_np[i]\n",
        "    \n",
        "# average the channels of the activations\n",
        "vision_heatmap = torch.mean(torch.from_numpy(vision_activations), axis=1).squeeze()\n",
        "\n",
        "# relu on top of the heatmap\n",
        "# expression (2) in https://arxiv.org/pdf/1610.02391.pdf\n",
        "vision_heatmap = np.maximum(vision_heatmap, 0)\n",
        "\n",
        "\n",
        "# normalize the heatmap\n",
        "vision_heatmap /= torch.max(vision_heatmap)"
      ],
      "metadata": {
        "id": "7Ru9tj-Y_L3Y"
      },
      "execution_count": 166,
      "outputs": []
    },
    {
      "cell_type": "code",
      "source": [
        "# Plot heatmap together with the image from ORIGINAL RESOLUTION\n",
        "plot_image = cv2.merge((image_bytes,image_bytes,image_bytes))\n",
        "updated_vision_heatmap = cv2.resize(np.array(vision_heatmap), (plot_image.shape[1], plot_image.shape[0]))\n",
        "updated_vision_heatmap = np.uint8(255 * updated_vision_heatmap)\n",
        "updated_vision_heatmap = cv2.applyColorMap(updated_vision_heatmap, cv2.COLORMAP_JET)\n",
        "superimposed_img = updated_vision_heatmap * 0.5 + plot_image\n",
        "\n",
        "f = plt.figure()\n",
        "f.add_subplot(1, 3, 1)\n",
        "plt.imshow(plot_image)\n",
        "f.add_subplot(1, 3, 2)\n",
        "plt.imshow(updated_vision_heatmap)\n",
        "f.add_subplot(1, 3, 3)\n",
        "plt.imshow(superimposed_img / np.max(superimposed_img))\n",
        "plt.show(block=True)\n",
        "print(\"Image label is\", dataset[\"label\"][index])\n",
        "print(\"Image text is\", dataset[\"text\"][index])\n",
        "print(\"Prediction is\", prediction, \"with confidence\", confidence)"
      ],
      "metadata": {
        "colab": {
          "base_uri": "https://localhost:8080/",
          "height": 202
        },
        "id": "tc0T3zMbBSnU",
        "outputId": "e5383a39-a8b5-4321-da9a-a749a49da6a8"
      },
      "execution_count": 167,
      "outputs": [
        {
          "output_type": "display_data",
          "data": {
            "text/plain": [
              "<Figure size 432x288 with 3 Axes>"
            ],
            "image/png": "[encoded data removed]"
          },
          "metadata": {
            "needs_background": "light"
          }
        },
        {
          "output_type": "stream",
          "name": "stdout",
          "text": [
            "Image label is 1.0\n",
            "Image text is upper left\n",
            "Prediction is 1.0 with confidence 0.9945634007453918\n"
          ]
        }
      ]
    },
    {
      "cell_type": "code",
      "source": [
        "language_gradients = model.get_language_gradient()\n",
        "pooled_language_gradients = torch.mean(language_gradients, dim=2)\n",
        "pooled_language_gradients_np = pooled_language_gradients.detach().cpu().numpy()"
      ],
      "metadata": {
        "id": "W9kPd0JVC3Zx"
      },
      "execution_count": 168,
      "outputs": []
    },
    {
      "cell_type": "code",
      "source": [
        "# Only two words, so this indicate the importance of each word\n",
        "print(\"Image text is\", dataset[\"text\"][index])\n",
        "print(\"Corresponding Importance indicated by language gradient is\", pooled_language_gradients_np[0])"
      ],
      "metadata": {
        "colab": {
          "base_uri": "https://localhost:8080/"
        },
        "id": "860yfirkhg0Z",
        "outputId": "4632a4e0-cbb7-4d99-96eb-70d7b754efd6"
      },
      "execution_count": 169,
      "outputs": [
        {
          "output_type": "stream",
          "name": "stdout",
          "text": [
            "Image text is upper left\n",
            "Corresponding Importance indicated by language gradient is [0.000000e+00 7.188205e-05]\n"
          ]
        }
      ]
    },
    {
      "cell_type": "code",
      "source": [
        ""
      ],
      "metadata": {
        "id": "P0U9PUuAh7af"
      },
      "execution_count": null,
      "outputs": []
    }
  ]
}